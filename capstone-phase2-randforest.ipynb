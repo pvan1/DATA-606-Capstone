{
 "cells": [
  {
   "cell_type": "markdown",
   "id": "brilliant-schema",
   "metadata": {},
   "source": [
    "# Capstone Phase 2 - SVM  \n",
    "Previous phase 2 notebook was getting a bit long, so modeling is continued here."
   ]
  },
  {
   "cell_type": "markdown",
   "id": "beautiful-longitude",
   "metadata": {},
   "source": [
    "### Import some libraries we'll need"
   ]
  },
  {
   "cell_type": "code",
   "execution_count": 1,
   "id": "small-helena",
   "metadata": {},
   "outputs": [],
   "source": [
    "import joblib\n",
    "import pandas as pd\n",
    "import numpy as np\n",
    "from sklearn import preprocessing\n",
    "from zipfile import ZipFile\n",
    "\n",
    "import seaborn as sns\n",
    "import matplotlib.pyplot as plt\n",
    "%matplotlib inline"
   ]
  },
  {
   "cell_type": "code",
   "execution_count": 2,
   "id": "committed-cooperation",
   "metadata": {},
   "outputs": [],
   "source": [
    "from sklearn.metrics import classification_report, confusion_matrix, accuracy_score\n",
    "from sklearn.metrics import plot_confusion_matrix"
   ]
  },
  {
   "cell_type": "code",
   "execution_count": 3,
   "id": "destroyed-score",
   "metadata": {},
   "outputs": [],
   "source": [
    "from sklearn.model_selection import cross_val_score\n",
    "from sklearn.model_selection import cross_val_predict"
   ]
  },
  {
   "cell_type": "markdown",
   "id": "approximate-sensitivity",
   "metadata": {},
   "source": [
    "### Some utility stuff"
   ]
  },
  {
   "cell_type": "code",
   "execution_count": 4,
   "id": "fatty-fitness",
   "metadata": {},
   "outputs": [],
   "source": [
    "def transform_data(df):\n",
    "    no_labels = df.drop(['label', 'attack_cat'], axis=1)\n",
    "    one_hot = pd.get_dummies(no_labels, columns=['proto', 'service', 'state'], prefix=['proto', 'service', 'state'])\n",
    "    scaler = preprocessing.StandardScaler().fit(one_hot)\n",
    "    standardized = scaler.transform(one_hot)\n",
    "    std = pd.DataFrame(standardized, columns=one_hot.columns)\n",
    "\n",
    "    labels = df['label'].copy()\n",
    "    cats = df['attack_cat'].copy()\n",
    "    \n",
    "    return std, labels, cats"
   ]
  },
  {
   "cell_type": "code",
   "execution_count": 5,
   "id": "seasonal-affiliation",
   "metadata": {},
   "outputs": [],
   "source": [
    "def plt_norm_confmat(model, X, y, title, fname=None, labels=None):\n",
    "    fig, ax = plt.subplots(figsize=(7, 7))\n",
    "    display = plot_confusion_matrix(model, X, y, display_labels=labels, cmap=plt.cm.Blues, \n",
    "                                    normalize='true', xticks_rotation='vertical', ax=ax)\n",
    "    display.ax_.set_title(title)\n",
    "    if fname is not None:\n",
    "        file = './images/' + fname + '.png'\n",
    "        plt.savefig(file, dpi=300, bbox_inches='tight')"
   ]
  },
  {
   "cell_type": "code",
   "execution_count": 6,
   "id": "western-intent",
   "metadata": {},
   "outputs": [],
   "source": [
    "def gen_metrics(y_train, y_pred):\n",
    "    conf_mat = confusion_matrix(y_train, y_pred)\n",
    "    class_rep = classification_report(y_train, y_pred, zero_division=0)\n",
    "    rep_dict = classification_report(y_train, y_pred, zero_division=0, output_dict=True)\n",
    "    acc = accuracy_score(y_train, y_pred)\n",
    "    return conf_mat, class_rep, rep_dict, acc"
   ]
  },
  {
   "cell_type": "markdown",
   "id": "stopped-panama",
   "metadata": {},
   "source": [
    "### Load data and apply transformations identified during exploration phase"
   ]
  },
  {
   "cell_type": "code",
   "execution_count": 7,
   "id": "specified-courage",
   "metadata": {},
   "outputs": [],
   "source": [
    "with ZipFile('./Data/UNSW_NB15 training and testing sets.zip') as datasets_zip:\n",
    "    # open each file and read in to a DataFrame\n",
    "    with datasets_zip.open('UNSW_NB15_training-set.csv') as training_file:\n",
    "        training_data = pd.read_csv(training_file, index_col='id')\n",
    "    with datasets_zip.open('UNSW_NB15_testing-set.csv') as testing_file:\n",
    "        testing_data = pd.read_csv(testing_file, index_col='id')"
   ]
  },
  {
   "cell_type": "code",
   "execution_count": 8,
   "id": "sweet-discussion",
   "metadata": {},
   "outputs": [],
   "source": [
    "training_data_std, training_labels, training_cats = transform_data(training_data)\n",
    "testing_data_std, testing_labels, testing_cats = transform_data(testing_data)"
   ]
  },
  {
   "cell_type": "code",
   "execution_count": 9,
   "id": "sublime-portland",
   "metadata": {},
   "outputs": [],
   "source": [
    "label_encoder = preprocessing.LabelEncoder()\n",
    "y_train = label_encoder.fit_transform(training_cats)\n",
    "y_test = label_encoder.fit_transform(testing_cats)"
   ]
  },
  {
   "cell_type": "code",
   "execution_count": 10,
   "id": "surgical-identification",
   "metadata": {},
   "outputs": [],
   "source": [
    "class_names = list(label_encoder.classes_)"
   ]
  },
  {
   "cell_type": "markdown",
   "id": "opposite-final",
   "metadata": {},
   "source": [
    "### Load feature subsets"
   ]
  },
  {
   "cell_type": "code",
   "execution_count": 11,
   "id": "disciplinary-browser",
   "metadata": {},
   "outputs": [],
   "source": [
    "feature_subsets = joblib.load('./data/feature_subsets.pkl')"
   ]
  },
  {
   "cell_type": "code",
   "execution_count": 12,
   "id": "recent-healing",
   "metadata": {},
   "outputs": [],
   "source": [
    "train_std_ig = training_data_std[feature_subsets['ig']].copy()\n",
    "test_std_ig = testing_data_std[feature_subsets['ig']].copy()\n",
    "\n",
    "train_std_anova = training_data_std[feature_subsets['anova']].copy()\n",
    "test_std_anova = testing_data_std[feature_subsets['anova']].copy()\n",
    "\n",
    "train_std_vt = training_data_std[feature_subsets['vt']].copy()\n",
    "test_std_vt = testing_data_std[feature_subsets['vt']].copy()\n",
    "\n",
    "train_std_mad = training_data_std[feature_subsets['mad']].copy()\n",
    "test_std_mad = testing_data_std[feature_subsets['mad']].copy()\n",
    "\n",
    "train_std_corr = training_data_std[feature_subsets['corr']].copy()\n",
    "test_std_corr = testing_data_std[feature_subsets['corr']].copy()\n",
    "\n",
    "train_std_rfe = training_data_std[feature_subsets['rfe']].copy()\n",
    "test_std_rfe = testing_data_std[feature_subsets['rfe']].copy()"
   ]
  },
  {
   "cell_type": "markdown",
   "id": "nervous-village",
   "metadata": {},
   "source": [
    "## Random Forest"
   ]
  },
  {
   "cell_type": "code",
   "execution_count": 13,
   "id": "affected-villa",
   "metadata": {},
   "outputs": [],
   "source": [
    "from sklearn.ensemble import RandomForestClassifier\n",
    "from sklearn.model_selection import GridSearchCV"
   ]
  },
  {
   "cell_type": "code",
   "execution_count": 15,
   "id": "recent-puzzle",
   "metadata": {},
   "outputs": [
    {
     "data": {
      "text/plain": [
       "RandomForestClassifier(max_leaf_nodes=16, n_jobs=-1)"
      ]
     },
     "execution_count": 15,
     "metadata": {},
     "output_type": "execute_result"
    }
   ],
   "source": [
    "rf = RandomForestClassifier(n_estimators=100, max_leaf_nodes=16, n_jobs=-1)\n",
    "rf.fit(X=training_data_std, y=y_train)  # let's try the full set first"
   ]
  },
  {
   "cell_type": "code",
   "execution_count": 15,
   "id": "opposed-typing",
   "metadata": {},
   "outputs": [],
   "source": [
    "y_pred_rf = cross_val_predict(rf, training_data_std, y_train, cv=3, n_jobs=-1)  # save the test set for final models"
   ]
  },
  {
   "cell_type": "code",
   "execution_count": 16,
   "id": "loving-parade",
   "metadata": {},
   "outputs": [
    {
     "data": {
      "text/plain": [
       "array([6, 6, 3, ..., 5, 5, 5])"
      ]
     },
     "execution_count": 16,
     "metadata": {},
     "output_type": "execute_result"
    }
   ],
   "source": [
    "y_pred_rf"
   ]
  },
  {
   "cell_type": "code",
   "execution_count": 19,
   "id": "imperial-senator",
   "metadata": {},
   "outputs": [
    {
     "data": {
      "text/plain": [
       "['./data/rf-100-16.pkl']"
      ]
     },
     "execution_count": 19,
     "metadata": {},
     "output_type": "execute_result"
    }
   ],
   "source": [
    "joblib.dump(rf, './data/rf-100-16.pkl')"
   ]
  },
  {
   "cell_type": "code",
   "execution_count": 14,
   "id": "built-knitting",
   "metadata": {},
   "outputs": [],
   "source": [
    "rf = joblib.load('./data/rf-100-16.pkl')"
   ]
  },
  {
   "cell_type": "markdown",
   "id": "closed-guatemala",
   "metadata": {},
   "source": [
    "That was pretty quick, let's run a grid-search to look for parameters before going further"
   ]
  },
  {
   "cell_type": "code",
   "execution_count": 19,
   "id": "velvet-latino",
   "metadata": {},
   "outputs": [],
   "source": [
    "params = {'n_estimators':[100, 200, 500], 'max_leaf_nodes':[8, 16, 32], 'class_weight':['balanced', 'balanced_subsample']}\n",
    "rf_gs = GridSearchCV(RandomForestClassifier(), params, cv=3, scoring='accuracy', verbose=2, n_jobs=-1)"
   ]
  },
  {
   "cell_type": "code",
   "execution_count": 20,
   "id": "gross-manual",
   "metadata": {},
   "outputs": [
    {
     "name": "stdout",
     "output_type": "stream",
     "text": [
      "Fitting 3 folds for each of 18 candidates, totalling 54 fits\n"
     ]
    }
   ],
   "source": [
    "rf_gs_results = rf_gs.fit(training_data_std, y_train)"
   ]
  },
  {
   "cell_type": "code",
   "execution_count": 25,
   "id": "controlling-silence",
   "metadata": {},
   "outputs": [
    {
     "data": {
      "text/plain": [
       "['./data/rf_gs_results']"
      ]
     },
     "execution_count": 25,
     "metadata": {},
     "output_type": "execute_result"
    }
   ],
   "source": [
    "joblib.dump(rf_gs, './data/rf_gs.pkl')\n",
    "joblib.dump(rf_gs_results, './data/rf_gs_results')"
   ]
  },
  {
   "cell_type": "code",
   "execution_count": 21,
   "id": "suspended-evidence",
   "metadata": {},
   "outputs": [
    {
     "name": "stdout",
     "output_type": "stream",
     "text": [
      "RandomForestClassifier(class_weight='balanced_subsample', max_leaf_nodes=32,\n",
      "                       n_estimators=500)\n",
      "{'class_weight': 'balanced_subsample', 'max_leaf_nodes': 32, 'n_estimators': 500}\n",
      "0.676920971136243\n"
     ]
    }
   ],
   "source": [
    "print(rf_gs_results.best_estimator_)\n",
    "print(rf_gs_results.best_params_)\n",
    "print(rf_gs_results.best_score_)"
   ]
  },
  {
   "cell_type": "markdown",
   "id": "serial-trauma",
   "metadata": {},
   "source": [
    "The number of estimators and leaf nodes are the maximum values in our search, maybe we should try going higher."
   ]
  },
  {
   "cell_type": "code",
   "execution_count": 22,
   "id": "accepting-hello",
   "metadata": {},
   "outputs": [],
   "source": [
    "params_2 = {'n_estimators':[500, 750, 1000], 'max_leaf_nodes':[32, 64, 128]}\n",
    "rf_gs_2 = GridSearchCV(RandomForestClassifier(class_weight='balanced_subsample'), params_2, cv=3, \n",
    "                       scoring='accuracy', verbose=2, n_jobs=-1)"
   ]
  },
  {
   "cell_type": "code",
   "execution_count": 23,
   "id": "sensitive-professor",
   "metadata": {},
   "outputs": [
    {
     "name": "stdout",
     "output_type": "stream",
     "text": [
      "Fitting 3 folds for each of 9 candidates, totalling 27 fits\n"
     ]
    }
   ],
   "source": [
    "rf_gs_2_results = rf_gs_2.fit(training_data_std, y_train)"
   ]
  },
  {
   "cell_type": "code",
   "execution_count": 26,
   "id": "blessed-shirt",
   "metadata": {},
   "outputs": [
    {
     "data": {
      "text/plain": [
       "['./data/rf_gs_2_results']"
      ]
     },
     "execution_count": 26,
     "metadata": {},
     "output_type": "execute_result"
    }
   ],
   "source": [
    "joblib.dump(rf_gs_2, './data/rf_gs_2.pkl')\n",
    "joblib.dump(rf_gs_2_results, './data/rf_gs_2_results')"
   ]
  },
  {
   "cell_type": "code",
   "execution_count": 24,
   "id": "heated-flavor",
   "metadata": {},
   "outputs": [
    {
     "name": "stdout",
     "output_type": "stream",
     "text": [
      "{'max_leaf_nodes': 128, 'n_estimators': 750}\n",
      "0.7117673561802431\n"
     ]
    }
   ],
   "source": [
    "print(rf_gs_2_results.best_params_)\n",
    "print(rf_gs_2_results.best_score_)"
   ]
  },
  {
   "cell_type": "code",
   "execution_count": 32,
   "id": "ahead-geometry",
   "metadata": {},
   "outputs": [
    {
     "data": {
      "text/plain": [
       "RandomForestClassifier(class_weight='balanced_subsample', max_leaf_nodes=128,\n",
       "                       n_estimators=750, n_jobs=-1)"
      ]
     },
     "execution_count": 32,
     "metadata": {},
     "output_type": "execute_result"
    }
   ],
   "source": [
    "rf_best = RandomForestClassifier(n_estimators=750, max_leaf_nodes=128, class_weight='balanced_subsample', n_jobs=-1)\n",
    "rf_best.fit(X=training_data_std, y=y_train)  # let's try the full set first"
   ]
  },
  {
   "cell_type": "code",
   "execution_count": 33,
   "id": "static-hypothesis",
   "metadata": {},
   "outputs": [
    {
     "data": {
      "text/plain": [
       "['./data/rf_best.pkl']"
      ]
     },
     "execution_count": 33,
     "metadata": {},
     "output_type": "execute_result"
    }
   ],
   "source": [
    "joblib.dump(rf_best, './data/rf_best.pkl')"
   ]
  },
  {
   "cell_type": "code",
   "execution_count": 34,
   "id": "affiliated-prague",
   "metadata": {},
   "outputs": [],
   "source": [
    "# save the test set for final models\n",
    "y_pred_rf_best = cross_val_predict(rf_best, training_data_std, y_train, cv=3, n_jobs=-1)"
   ]
  },
  {
   "cell_type": "code",
   "execution_count": 35,
   "id": "precise-arizona",
   "metadata": {},
   "outputs": [
    {
     "data": {
      "text/plain": [
       "array([1, 6, 3, ..., 5, 5, 5])"
      ]
     },
     "execution_count": 35,
     "metadata": {},
     "output_type": "execute_result"
    }
   ],
   "source": [
    "y_pred_rf_best"
   ]
  },
  {
   "cell_type": "code",
   "execution_count": 48,
   "id": "greatest-responsibility",
   "metadata": {},
   "outputs": [],
   "source": [
    "#for feature, importance in zip(training_data_std.columns, rf_best.feature_importances_):\n",
    "#    print(feature, importance)\n",
    "feature_importances = [(x, y) for x, y in zip(training_data_std.columns, rf_best.feature_importances_)]\n",
    "sorted_importances = sorted(feature_importances, key=lambda x: x[1], reverse=True)"
   ]
  },
  {
   "cell_type": "code",
   "execution_count": 50,
   "id": "portable-navigator",
   "metadata": {},
   "outputs": [
    {
     "data": {
      "text/plain": [
       "['./data/sorted_feature_importances.pkl']"
      ]
     },
     "execution_count": 50,
     "metadata": {},
     "output_type": "execute_result"
    }
   ],
   "source": [
    "joblib.dump(sorted_importances, './data/sorted_feature_importances.pkl')"
   ]
  },
  {
   "cell_type": "code",
   "execution_count": 51,
   "id": "naughty-correlation",
   "metadata": {},
   "outputs": [
    {
     "name": "stdout",
     "output_type": "stream",
     "text": [
      "              precision    recall  f1-score   support\n",
      "\n",
      "           0       0.16      0.31      0.21      2000\n",
      "           1       0.05      0.70      0.09      1746\n",
      "           2       0.34      0.14      0.20     12264\n",
      "           3       0.86      0.43      0.58     33393\n",
      "           4       0.54      0.85      0.66     18184\n",
      "           5       1.00      0.98      0.99     40000\n",
      "           6       1.00      0.72      0.84     56000\n",
      "           7       0.77      0.82      0.79     10491\n",
      "           8       0.26      0.93      0.40      1133\n",
      "           9       0.07      0.80      0.12       130\n",
      "\n",
      "    accuracy                           0.70    175341\n",
      "   macro avg       0.50      0.67      0.49    175341\n",
      "weighted avg       0.84      0.70      0.74    175341\n",
      "\n"
     ]
    },
    {
     "data": {
      "image/png": "[encoded data removed]",
      "text/plain": [
       "<Figure size 504x504 with 2 Axes>"
      ]
     },
     "metadata": {
      "needs_background": "light"
     },
     "output_type": "display_data"
    }
   ],
   "source": [
    "conf_mat_rf_best, class_rep_rf_best, rep_dict_rf_best, acc_rf_best = gen_metrics(y_train, y_pred_rf_best)\n",
    "print(class_rep_rf_best)\n",
    "plt_norm_confmat(rf_best, training_data_std, y_train, 'RandomForest Normalized Confusion Matrix', \n",
    "                 fname='rf_best_conf_mat', labels=class_names)\n",
    "plt.show()"
   ]
  },
  {
   "cell_type": "markdown",
   "id": "square-hawaii",
   "metadata": {},
   "source": [
    "That looks decent.  Are there other parameters we should conisder tuning to improve the results?  \n",
    "We should also train on each of the feature subsets so we can compare fairly with the previous models.  We may also want to go back and use the most important features identified here on the earlier models to see if performance improves."
   ]
  },
  {
   "cell_type": "markdown",
   "id": "acquired-transmission",
   "metadata": {},
   "source": [
    "I also wonder if more leaf nodes are needed, we settled on 128, but that was the highest value searched..."
   ]
  },
  {
   "cell_type": "code",
   "execution_count": 54,
   "id": "inner-reminder",
   "metadata": {},
   "outputs": [],
   "source": [
    "params_3 = {'max_leaf_nodes':[128, 192, 256, 320]}\n",
    "rf_gs_3 = GridSearchCV(RandomForestClassifier(n_estimators=750, class_weight='balanced_subsample'), params_3, cv=3, \n",
    "                       scoring='accuracy', verbose=2, n_jobs=-1)"
   ]
  },
  {
   "cell_type": "code",
   "execution_count": 55,
   "id": "adjustable-savings",
   "metadata": {},
   "outputs": [
    {
     "name": "stdout",
     "output_type": "stream",
     "text": [
      "Fitting 3 folds for each of 4 candidates, totalling 12 fits\n"
     ]
    }
   ],
   "source": [
    "rf_gs_3_results = rf_gs_3.fit(training_data_std, y_train)"
   ]
  },
  {
   "cell_type": "code",
   "execution_count": 56,
   "id": "unable-hostel",
   "metadata": {},
   "outputs": [
    {
     "name": "stdout",
     "output_type": "stream",
     "text": [
      "{'max_leaf_nodes': 320}\n",
      "0.723618548998808\n"
     ]
    }
   ],
   "source": [
    "print(rf_gs_3_results.best_params_)\n",
    "print(rf_gs_3_results.best_score_)"
   ]
  },
  {
   "cell_type": "markdown",
   "id": "plain-legislature",
   "metadata": {},
   "source": [
    "slightly better accuracy...but still hitting that top value...is it worth going higher?"
   ]
  },
  {
   "cell_type": "code",
   "execution_count": 57,
   "id": "divine-livestock",
   "metadata": {},
   "outputs": [],
   "source": [
    "params_4 = {'max_leaf_nodes':[320, 384, 448, 512]}\n",
    "rf_gs_4 = GridSearchCV(RandomForestClassifier(n_estimators=750, class_weight='balanced_subsample'), params_4, cv=3, \n",
    "                       scoring='accuracy', verbose=2, n_jobs=-1)"
   ]
  },
  {
   "cell_type": "code",
   "execution_count": 58,
   "id": "organized-transmission",
   "metadata": {},
   "outputs": [
    {
     "name": "stdout",
     "output_type": "stream",
     "text": [
      "Fitting 3 folds for each of 4 candidates, totalling 12 fits\n"
     ]
    }
   ],
   "source": [
    "rf_gs_4_results = rf_gs_4.fit(training_data_std, y_train)"
   ]
  },
  {
   "cell_type": "code",
   "execution_count": 59,
   "id": "armed-handbook",
   "metadata": {},
   "outputs": [
    {
     "name": "stdout",
     "output_type": "stream",
     "text": [
      "{'max_leaf_nodes': 512}\n",
      "0.728785623442321\n"
     ]
    }
   ],
   "source": [
    "print(rf_gs_4_results.best_params_)\n",
    "print(rf_gs_4_results.best_score_)"
   ]
  },
  {
   "cell_type": "markdown",
   "id": "different-rainbow",
   "metadata": {},
   "source": [
    ".5% better than the last run, maybe we're nearing the limit...but maybe just set it to `None` for unlimited leaves?"
   ]
  },
  {
   "cell_type": "code",
   "execution_count": 60,
   "id": "funny-chest",
   "metadata": {},
   "outputs": [
    {
     "data": {
      "text/plain": [
       "RandomForestClassifier(class_weight='balanced_subsample', n_estimators=750,\n",
       "                       n_jobs=-1)"
      ]
     },
     "execution_count": 60,
     "metadata": {},
     "output_type": "execute_result"
    }
   ],
   "source": [
    "rf_best_new = RandomForestClassifier(n_estimators=750, max_leaf_nodes=None, class_weight='balanced_subsample', n_jobs=-1)\n",
    "rf_best_new.fit(X=training_data_std, y=y_train)  # let's try the full set first"
   ]
  },
  {
   "cell_type": "code",
   "execution_count": 61,
   "id": "registered-buying",
   "metadata": {},
   "outputs": [],
   "source": [
    "# save the test set for final models\n",
    "y_pred_rf_best_new = cross_val_predict(rf_best_new, training_data_std, y_train, cv=3, n_jobs=-1)"
   ]
  },
  {
   "cell_type": "code",
   "execution_count": 62,
   "id": "spread-portland",
   "metadata": {},
   "outputs": [
    {
     "name": "stdout",
     "output_type": "stream",
     "text": [
      "              precision    recall  f1-score   support\n",
      "\n",
      "           0       0.04      0.12      0.07      2000\n",
      "           1       0.06      0.20      0.09      1746\n",
      "           2       0.31      0.29      0.30     12264\n",
      "           3       0.73      0.61      0.66     33393\n",
      "           4       0.53      0.68      0.60     18184\n",
      "           5       0.90      0.98      0.94     40000\n",
      "           6       0.90      0.78      0.83     56000\n",
      "           7       0.89      0.74      0.81     10491\n",
      "           8       0.66      0.63      0.65      1133\n",
      "           9       0.66      0.18      0.28       130\n",
      "\n",
      "    accuracy                           0.73    175341\n",
      "   macro avg       0.57      0.52      0.52    175341\n",
      "weighted avg       0.77      0.73      0.74    175341\n",
      "\n"
     ]
    },
    {
     "data": {
      "image/png": "[encoded data removed]",
      "text/plain": [
       "<Figure size 504x504 with 2 Axes>"
      ]
     },
     "metadata": {
      "needs_background": "light"
     },
     "output_type": "display_data"
    }
   ],
   "source": [
    "conf_mat_rf_best_new, class_rep_rf_best_new, rep_dict_rf_best_new, acc_rf_best_new = gen_metrics(y_train, y_pred_rf_best_new)\n",
    "print(class_rep_rf_best_new)\n",
    "plt_norm_confmat(rf_best_new, training_data_std, y_train, 'RandomForest Normalized Confusion Matrix', \n",
    "                 fname='rf_best_new_conf_mat', labels=class_names)\n",
    "plt.show()"
   ]
  },
  {
   "cell_type": "code",
   "execution_count": 65,
   "id": "understanding-joint",
   "metadata": {},
   "outputs": [
    {
     "data": {
      "text/plain": [
       "['./data/rf_best_new.pkl']"
      ]
     },
     "execution_count": 65,
     "metadata": {},
     "output_type": "execute_result"
    }
   ],
   "source": [
    "joblib.dump(rf_best_new, './data/rf_best_new.pkl')"
   ]
  },
  {
   "cell_type": "markdown",
   "id": "touched-watershed",
   "metadata": {},
   "source": [
    "This is looking better, what are the feature importances?  \n",
    "What other parameters could we tune?"
   ]
  },
  {
   "cell_type": "code",
   "execution_count": null,
   "id": "passive-rolling",
   "metadata": {},
   "outputs": [],
   "source": []
  }
 ],
 "metadata": {
  "kernelspec": {
   "display_name": "Python 3",
   "language": "python",
   "name": "python3"
  },
  "language_info": {
   "codemirror_mode": {
    "name": "ipython",
    "version": 3
   },
   "file_extension": ".py",
   "mimetype": "text/x-python",
   "name": "python",
   "nbconvert_exporter": "python",
   "pygments_lexer": "ipython3",
   "version": "3.8.5"
  }
 },
 "nbformat": 4,
 "nbformat_minor": 5
}
