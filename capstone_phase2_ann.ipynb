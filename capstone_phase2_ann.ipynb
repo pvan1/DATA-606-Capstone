{
  "nbformat": 4,
  "nbformat_minor": 0,
  "metadata": {
    "colab": {
      "name": "capstone-phase2-ann.ipynb",
      "provenance": [],
      "collapsed_sections": [],
      "toc_visible": true
    },
    "kernelspec": {
      "name": "python3",
      "display_name": "Python 3"
    },
    "language_info": {
      "name": "python"
    }
  },
  "cells": [
    {
      "cell_type": "markdown",
      "metadata": {
        "id": "2YLcT63FieRr"
      },
      "source": [
        "# Capstone Phase 2 - ANN  \n",
        "Exploration of Artificial Neural Networks"
      ]
    },
    {
      "cell_type": "markdown",
      "metadata": {
        "id": "y_NG-26biwo2"
      },
      "source": [
        "### Import some libraries we'll need"
      ]
    },
    {
      "cell_type": "code",
      "metadata": {
        "id": "4SzpBYG4csYG"
      },
      "source": [
        "import joblib\n",
        "import pandas as pd\n",
        "import numpy as np\n",
        "from sklearn import preprocessing\n",
        "from zipfile import ZipFile\n",
        "\n",
        "import seaborn as sns\n",
        "import matplotlib.pyplot as plt\n",
        "%matplotlib inline"
      ],
      "execution_count": null,
      "outputs": []
    },
    {
      "cell_type": "markdown",
      "metadata": {
        "id": "4MElz8WYfShl"
      },
      "source": [
        "### Some Utility Stuff"
      ]
    },
    {
      "cell_type": "code",
      "metadata": {
        "id": "DbbnTNsbfHc4"
      },
      "source": [
        "def transform_data(df):\n",
        "    no_labels = df.drop(['label', 'attack_cat'], axis=1)\n",
        "    one_hot = pd.get_dummies(no_labels, columns=['proto', 'service', 'state'], prefix=['proto', 'service', 'state'])\n",
        "    scaler = preprocessing.StandardScaler().fit(one_hot)\n",
        "    standardized = scaler.transform(one_hot)\n",
        "    std = pd.DataFrame(standardized, columns=one_hot.columns)\n",
        "\n",
        "    labels = df['label'].copy()\n",
        "    cats = df['attack_cat'].copy()\n",
        "    \n",
        "    return std, labels, cats"
      ],
      "execution_count": null,
      "outputs": []
    },
    {
      "cell_type": "code",
      "metadata": {
        "id": "kktwTnLifanL"
      },
      "source": [
        "def plt_norm_confmat(model, X, y, title, fname=None, labels=None):\n",
        "    fig, ax = plt.subplots(figsize=(7, 7))\n",
        "    display = plot_confusion_matrix(model, X, y, display_labels=labels, cmap=plt.cm.Blues, \n",
        "                                    normalize='true', xticks_rotation='vertical', ax=ax)\n",
        "    display.ax_.set_title(title)\n",
        "    if fname is not None:\n",
        "        file = './images/' + fname + '.png'\n",
        "        plt.savefig(file, dpi=300, bbox_inches='tight')"
      ],
      "execution_count": null,
      "outputs": []
    },
    {
      "cell_type": "code",
      "metadata": {
        "id": "fM-LLk7RfgdF"
      },
      "source": [
        "def gen_metrics(y_train, y_pred):\n",
        "    conf_mat = confusion_matrix(y_train, y_pred)\n",
        "    class_rep = classification_report(y_train, y_pred, zero_division=0)\n",
        "    rep_dict = classification_report(y_train, y_pred, zero_division=0, output_dict=True)\n",
        "    acc = accuracy_score(y_train, y_pred)\n",
        "    return conf_mat, class_rep, rep_dict, acc"
      ],
      "execution_count": null,
      "outputs": []
    },
    {
      "cell_type": "markdown",
      "metadata": {
        "id": "3IHimxrifsqw"
      },
      "source": [
        "### Load data and apply transformations"
      ]
    },
    {
      "cell_type": "markdown",
      "metadata": {
        "id": "ioMWqrxJeuux"
      },
      "source": [
        "We need to upload the data file from our local drive."
      ]
    },
    {
      "cell_type": "code",
      "metadata": {
        "colab": {
          "resources": {
            "http://localhost:8080/nbextensions/google.colab/files.js": {
              "data": "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",
              "ok": true,
              "headers": [
                [
                  "content-type",
                  "application/javascript"
                ]
              ],
              "status": 200,
              "status_text": "OK"
            }
          },
          "base_uri": "https://localhost:8080/",
          "height": 77
        },
        "id": "desnA0xRdyjX",
        "outputId": "4d2378a2-5b91-4d78-d800-7f3c4350d8c6"
      },
      "source": [
        "from google.colab import files\n",
        "uploaded = files.upload()"
      ],
      "execution_count": null,
      "outputs": [
        {
          "output_type": "display_data",
          "data": {
            "text/html": [
              "\n",
              "     <input type=\"file\" id=\"files-b6d63743-145b-4a1f-b9c9-b800d78a3bec\" name=\"files[]\" multiple disabled\n",
              "        style=\"border:none\" />\n",
              "     <output id=\"result-b6d63743-145b-4a1f-b9c9-b800d78a3bec\">\n",
              "      Upload widget is only available when the cell has been executed in the\n",
              "      current browser session. Please rerun this cell to enable.\n",
              "      </output>\n",
              "      <script src=\"/nbextensions/google.colab/files.js\"></script> "
            ],
            "text/plain": [
              "<IPython.core.display.HTML object>"
            ]
          },
          "metadata": {
            "tags": []
          }
        },
        {
          "output_type": "stream",
          "text": [
            "Saving UNSW_NB15 training and testing sets.zip to UNSW_NB15 training and testing sets.zip\n"
          ],
          "name": "stdout"
        }
      ]
    },
    {
      "cell_type": "markdown",
      "metadata": {
        "id": "ZbhuEVROe796"
      },
      "source": [
        "Import the io library so we can load the file we uploaded."
      ]
    },
    {
      "cell_type": "code",
      "metadata": {
        "id": "mBXYV35VeFzf"
      },
      "source": [
        "import io"
      ],
      "execution_count": null,
      "outputs": []
    },
    {
      "cell_type": "code",
      "metadata": {
        "id": "jIGC5_3kcNeP"
      },
      "source": [
        "with ZipFile(io.BytesIO(uploaded['UNSW_NB15 training and testing sets.zip'])) as datasets_zip:\n",
        "    # open each file and read in to a DataFrame\n",
        "    with datasets_zip.open('UNSW_NB15_training-set.csv') as training_file:\n",
        "        training_data = pd.read_csv(training_file, index_col='id')\n",
        "    with datasets_zip.open('UNSW_NB15_testing-set.csv') as testing_file:\n",
        "        testing_data = pd.read_csv(testing_file, index_col='id')"
      ],
      "execution_count": null,
      "outputs": []
    },
    {
      "cell_type": "code",
      "metadata": {
        "id": "8voI9VQofjhf"
      },
      "source": [
        "training_data_std, training_labels, training_cats = transform_data(training_data)\n",
        "testing_data_std, testing_labels, testing_cats = transform_data(testing_data)"
      ],
      "execution_count": null,
      "outputs": []
    },
    {
      "cell_type": "code",
      "metadata": {
        "id": "9lgJqC9wga5P"
      },
      "source": [
        "label_encoder = preprocessing.LabelEncoder()\n",
        "y_train = label_encoder.fit_transform(training_cats)\n",
        "y_test = label_encoder.fit_transform(testing_cats)"
      ],
      "execution_count": null,
      "outputs": []
    },
    {
      "cell_type": "code",
      "metadata": {
        "id": "dL2AojqtgcHb"
      },
      "source": [
        "class_names = list(label_encoder.classes_)"
      ],
      "execution_count": null,
      "outputs": []
    },
    {
      "cell_type": "markdown",
      "metadata": {
        "id": "WTTnzlEogi67"
      },
      "source": [
        "### Load feature subsets"
      ]
    },
    {
      "cell_type": "markdown",
      "metadata": {
        "id": "c32JG6xmhmAX"
      },
      "source": [
        "First upload the file from our local drive"
      ]
    },
    {
      "cell_type": "code",
      "metadata": {
        "colab": {
          "resources": {
            "http://localhost:8080/nbextensions/google.colab/files.js": {
              "data": "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",
              "ok": true,
              "headers": [
                [
                  "content-type",
                  "application/javascript"
                ]
              ],
              "status": 200,
              "status_text": "OK"
            }
          },
          "base_uri": "https://localhost:8080/",
          "height": 77
        },
        "id": "a79sWfd2glut",
        "outputId": "31b81678-9fb8-43c6-e6ab-533d3b9530f7"
      },
      "source": [
        "features_pkl = files.upload() # joblib.load('./data/feature_subsets.pkl')"
      ],
      "execution_count": null,
      "outputs": [
        {
          "output_type": "display_data",
          "data": {
            "text/html": [
              "\n",
              "     <input type=\"file\" id=\"files-d236df96-5b5f-4eb5-867f-e9c1ab99a7f6\" name=\"files[]\" multiple disabled\n",
              "        style=\"border:none\" />\n",
              "     <output id=\"result-d236df96-5b5f-4eb5-867f-e9c1ab99a7f6\">\n",
              "      Upload widget is only available when the cell has been executed in the\n",
              "      current browser session. Please rerun this cell to enable.\n",
              "      </output>\n",
              "      <script src=\"/nbextensions/google.colab/files.js\"></script> "
            ],
            "text/plain": [
              "<IPython.core.display.HTML object>"
            ]
          },
          "metadata": {
            "tags": []
          }
        },
        {
          "output_type": "stream",
          "text": [
            "Saving feature_subsets.pkl to feature_subsets.pkl\n"
          ],
          "name": "stdout"
        }
      ]
    },
    {
      "cell_type": "code",
      "metadata": {
        "id": "-F9U6lMfhJ24"
      },
      "source": [
        "feature_subsets = joblib.load('feature_subsets.pkl')"
      ],
      "execution_count": null,
      "outputs": []
    },
    {
      "cell_type": "code",
      "metadata": {
        "id": "78FG1-togskD"
      },
      "source": [
        "train_std_ig = training_data_std[feature_subsets['ig']].copy()\n",
        "test_std_ig = testing_data_std[feature_subsets['ig']].copy()\n",
        "\n",
        "train_std_anova = training_data_std[feature_subsets['anova']].copy()\n",
        "test_std_anova = testing_data_std[feature_subsets['anova']].copy()\n",
        "\n",
        "train_std_vt = training_data_std[feature_subsets['vt']].copy()\n",
        "test_std_vt = testing_data_std[feature_subsets['vt']].copy()\n",
        "\n",
        "train_std_mad = training_data_std[feature_subsets['mad']].copy()\n",
        "test_std_mad = testing_data_std[feature_subsets['mad']].copy()\n",
        "\n",
        "train_std_corr = training_data_std[feature_subsets['corr']].copy()\n",
        "test_std_corr = testing_data_std[feature_subsets['corr']].copy()\n",
        "\n",
        "train_std_rfe = training_data_std[feature_subsets['rfe']].copy()\n",
        "test_std_rfe = testing_data_std[feature_subsets['rfe']].copy()"
      ],
      "execution_count": null,
      "outputs": []
    },
    {
      "cell_type": "markdown",
      "metadata": {
        "id": "MN1Hn8vVi7VA"
      },
      "source": [
        "### Artificial Neural Network  \n",
        "We'll start with a basic sequential model."
      ]
    },
    {
      "cell_type": "code",
      "metadata": {
        "id": "VQGZZMQijUE7"
      },
      "source": [
        "import tensorflow as tf\n",
        "from tensorflow import keras"
      ],
      "execution_count": null,
      "outputs": []
    },
    {
      "cell_type": "markdown",
      "metadata": {
        "id": "ZVqDwNEAoQsU"
      },
      "source": [
        "We're going to start with a basic Sequential network with following connected layers using ReLU activation.  Because we're doing multiclassification we'll use softmax activation on the output layer.  "
      ]
    },
    {
      "cell_type": "markdown",
      "metadata": {
        "id": "zA2FjwebqAI2"
      },
      "source": [
        "A. Géron, “Chapter 10: Introduction to Artificial Neural Networks with Keras,” in Hands-on machine learning with Scikit-Learn, Keras, and TensorFlow: concepts, tools, and techniques to build intelligent systems, 2nd ed., Sebastopol, CA: O'Reilly Media, Inc., 2019, p. 299. "
      ]
    },
    {
      "cell_type": "code",
      "metadata": {
        "id": "whqVWHHgkRii"
      },
      "source": [
        "model = keras.models.Sequential([keras.layers.Input(shape=train_std_ig.shape[1:]),\n",
        "                                 keras.layers.Dense(300, activation='relu'),\n",
        "                                 keras.layers.Dense(100, activation='relu'),\n",
        "                                 keras.layers.Dense(10, activation='softmax')\n",
        "])"
      ],
      "execution_count": null,
      "outputs": []
    },
    {
      "cell_type": "code",
      "metadata": {
        "colab": {
          "base_uri": "https://localhost:8080/"
        },
        "id": "KqB5h8X7lz0r",
        "outputId": "75975ac2-9c6f-4bd8-e3f2-c232ddb65f87"
      },
      "source": [
        "model.summary()"
      ],
      "execution_count": null,
      "outputs": [
        {
          "output_type": "stream",
          "text": [
            "Model: \"sequential\"\n",
            "_________________________________________________________________\n",
            "Layer (type)                 Output Shape              Param #   \n",
            "=================================================================\n",
            "dense (Dense)                (None, 300)               6300      \n",
            "_________________________________________________________________\n",
            "dense_1 (Dense)              (None, 100)               30100     \n",
            "_________________________________________________________________\n",
            "dense_2 (Dense)              (None, 10)                1010      \n",
            "=================================================================\n",
            "Total params: 37,410\n",
            "Trainable params: 37,410\n",
            "Non-trainable params: 0\n",
            "_________________________________________________________________\n"
          ],
          "name": "stdout"
        }
      ]
    },
    {
      "cell_type": "code",
      "metadata": {
        "id": "vp8Gn73vl067"
      },
      "source": [
        "model.compile(loss='sparse_categorical_crossentropy',\n",
        "              optimizer='sgd',\n",
        "              metrics=['accuracy'])"
      ],
      "execution_count": null,
      "outputs": []
    },
    {
      "cell_type": "code",
      "metadata": {
        "colab": {
          "base_uri": "https://localhost:8080/"
        },
        "id": "XZpsiOmsmOvx",
        "outputId": "2f398ce0-bba3-448e-8950-b1704d3c3449"
      },
      "source": [
        "hist = model.fit(train_std_ig, y_train, epochs=30, validation_split=0.2)"
      ],
      "execution_count": null,
      "outputs": [
        {
          "output_type": "stream",
          "text": [
            "Epoch 1/30\n",
            "4384/4384 [==============================] - 7s 2ms/step - loss: 1.0658 - accuracy: 0.6178 - val_loss: 0.4872 - val_accuracy: 0.8502\n",
            "Epoch 2/30\n",
            "4384/4384 [==============================] - 7s 1ms/step - loss: 0.7711 - accuracy: 0.7162 - val_loss: 0.4433 - val_accuracy: 0.8625\n",
            "Epoch 3/30\n",
            "4384/4384 [==============================] - 7s 2ms/step - loss: 0.7256 - accuracy: 0.7350 - val_loss: 0.4182 - val_accuracy: 0.8731\n",
            "Epoch 4/30\n",
            "4384/4384 [==============================] - 7s 1ms/step - loss: 0.7006 - accuracy: 0.7401 - val_loss: 0.4113 - val_accuracy: 0.8746\n",
            "Epoch 5/30\n",
            "4384/4384 [==============================] - 7s 1ms/step - loss: 0.6897 - accuracy: 0.7437 - val_loss: 0.3910 - val_accuracy: 0.8776\n",
            "Epoch 6/30\n",
            "4384/4384 [==============================] - 7s 2ms/step - loss: 0.6684 - accuracy: 0.7481 - val_loss: 0.3770 - val_accuracy: 0.8843\n",
            "Epoch 7/30\n",
            "4384/4384 [==============================] - 7s 1ms/step - loss: 0.6623 - accuracy: 0.7480 - val_loss: 0.3716 - val_accuracy: 0.8865\n",
            "Epoch 8/30\n",
            "4384/4384 [==============================] - 6s 1ms/step - loss: 0.6534 - accuracy: 0.7529 - val_loss: 0.3681 - val_accuracy: 0.8800\n",
            "Epoch 9/30\n",
            "4384/4384 [==============================] - 6s 1ms/step - loss: 0.6453 - accuracy: 0.7544 - val_loss: 0.3634 - val_accuracy: 0.8810\n",
            "Epoch 10/30\n",
            "4384/4384 [==============================] - 7s 1ms/step - loss: 0.6396 - accuracy: 0.7568 - val_loss: 0.3601 - val_accuracy: 0.8809\n",
            "Epoch 11/30\n",
            "4384/4384 [==============================] - 6s 1ms/step - loss: 0.6315 - accuracy: 0.7590 - val_loss: 0.3506 - val_accuracy: 0.8861\n",
            "Epoch 12/30\n",
            "4384/4384 [==============================] - 6s 1ms/step - loss: 0.6258 - accuracy: 0.7600 - val_loss: 0.3383 - val_accuracy: 0.8922\n",
            "Epoch 13/30\n",
            "4384/4384 [==============================] - 6s 1ms/step - loss: 0.6233 - accuracy: 0.7617 - val_loss: 0.3500 - val_accuracy: 0.8834\n",
            "Epoch 14/30\n",
            "4384/4384 [==============================] - 6s 1ms/step - loss: 0.6196 - accuracy: 0.7594 - val_loss: 0.3451 - val_accuracy: 0.8846\n",
            "Epoch 15/30\n",
            "4384/4384 [==============================] - 6s 1ms/step - loss: 0.6134 - accuracy: 0.7613 - val_loss: 0.3347 - val_accuracy: 0.8875\n",
            "Epoch 16/30\n",
            "4384/4384 [==============================] - 6s 1ms/step - loss: 0.6110 - accuracy: 0.7629 - val_loss: 0.3353 - val_accuracy: 0.8881\n",
            "Epoch 17/30\n",
            "4384/4384 [==============================] - 6s 1ms/step - loss: 0.6044 - accuracy: 0.7660 - val_loss: 0.3385 - val_accuracy: 0.8829\n",
            "Epoch 18/30\n",
            "4384/4384 [==============================] - 6s 1ms/step - loss: 0.6021 - accuracy: 0.7666 - val_loss: 0.3344 - val_accuracy: 0.8891\n",
            "Epoch 19/30\n",
            "4384/4384 [==============================] - 6s 1ms/step - loss: 0.6013 - accuracy: 0.7667 - val_loss: 0.3387 - val_accuracy: 0.8857\n",
            "Epoch 20/30\n",
            "4384/4384 [==============================] - 7s 1ms/step - loss: 0.5998 - accuracy: 0.7668 - val_loss: 0.3240 - val_accuracy: 0.8892\n",
            "Epoch 21/30\n",
            "4384/4384 [==============================] - 7s 2ms/step - loss: 0.5959 - accuracy: 0.7676 - val_loss: 0.3345 - val_accuracy: 0.8819\n",
            "Epoch 22/30\n",
            "4384/4384 [==============================] - 7s 2ms/step - loss: 0.5949 - accuracy: 0.7684 - val_loss: 0.3246 - val_accuracy: 0.8872\n",
            "Epoch 23/30\n",
            "4384/4384 [==============================] - 7s 1ms/step - loss: 0.5901 - accuracy: 0.7706 - val_loss: 0.3319 - val_accuracy: 0.8815\n",
            "Epoch 24/30\n",
            "4384/4384 [==============================] - 7s 2ms/step - loss: 0.5885 - accuracy: 0.7712 - val_loss: 0.3201 - val_accuracy: 0.8949\n",
            "Epoch 25/30\n",
            "4384/4384 [==============================] - 7s 1ms/step - loss: 0.5879 - accuracy: 0.7689 - val_loss: 0.3241 - val_accuracy: 0.8817\n",
            "Epoch 26/30\n",
            "4384/4384 [==============================] - 7s 2ms/step - loss: 0.5802 - accuracy: 0.7719 - val_loss: 0.3190 - val_accuracy: 0.8926\n",
            "Epoch 27/30\n",
            "4384/4384 [==============================] - 7s 2ms/step - loss: 0.5863 - accuracy: 0.7705 - val_loss: 0.3231 - val_accuracy: 0.8886\n",
            "Epoch 28/30\n",
            "4384/4384 [==============================] - 7s 2ms/step - loss: 0.5815 - accuracy: 0.7725 - val_loss: 0.3221 - val_accuracy: 0.8915\n",
            "Epoch 29/30\n",
            "4384/4384 [==============================] - 7s 2ms/step - loss: 0.5793 - accuracy: 0.7730 - val_loss: 0.3229 - val_accuracy: 0.8837\n",
            "Epoch 30/30\n",
            "4384/4384 [==============================] - 7s 2ms/step - loss: 0.5784 - accuracy: 0.7728 - val_loss: 0.3234 - val_accuracy: 0.8837\n"
          ],
          "name": "stdout"
        }
      ]
    },
    {
      "cell_type": "code",
      "metadata": {
        "id": "yf2ZIj-Pnrnd"
      },
      "source": [
        "import seaborn as sns"
      ],
      "execution_count": null,
      "outputs": []
    },
    {
      "cell_type": "code",
      "metadata": {
        "colab": {
          "base_uri": "https://localhost:8080/",
          "height": 324
        },
        "id": "3IFjSzV_mebe",
        "outputId": "46e2cec5-63eb-4912-f942-1cf3bd091ef9"
      },
      "source": [
        "pd.DataFrame(hist.history).plot(figsize=(8, 5))\n",
        "sns.set_style('darkgrid')\n",
        "plt.ylim((0, 1))\n",
        "plt.savefig('ann-1-learning-curves.png', dpi=300, bbox_inches='tight')\n",
        "files.download('ann-1-learning-curves.png')\n",
        "plt.show()"
      ],
      "execution_count": null,
      "outputs": [
        {
          "output_type": "display_data",
          "data": {
            "application/javascript": [
              "\n",
              "    async function download(id, filename, size) {\n",
              "      if (!google.colab.kernel.accessAllowed) {\n",
              "        return;\n",
              "      }\n",
              "      const div = document.createElement('div');\n",
              "      const label = document.createElement('label');\n",
              "      label.textContent = `Downloading \"${filename}\": `;\n",
              "      div.appendChild(label);\n",
              "      const progress = document.createElement('progress');\n",
              "      progress.max = size;\n",
              "      div.appendChild(progress);\n",
              "      document.body.appendChild(div);\n",
              "\n",
              "      const buffers = [];\n",
              "      let downloaded = 0;\n",
              "\n",
              "      const channel = await google.colab.kernel.comms.open(id);\n",
              "      // Send a message to notify the kernel that we're ready.\n",
              "      channel.send({})\n",
              "\n",
              "      for await (const message of channel.messages) {\n",
              "        // Send a message to notify the kernel that we're ready.\n",
              "        channel.send({})\n",
              "        if (message.buffers) {\n",
              "          for (const buffer of message.buffers) {\n",
              "            buffers.push(buffer);\n",
              "            downloaded += buffer.byteLength;\n",
              "            progress.value = downloaded;\n",
              "          }\n",
              "        }\n",
              "      }\n",
              "      const blob = new Blob(buffers, {type: 'application/binary'});\n",
              "      const a = document.createElement('a');\n",
              "      a.href = window.URL.createObjectURL(blob);\n",
              "      a.download = filename;\n",
              "      div.appendChild(a);\n",
              "      a.click();\n",
              "      div.remove();\n",
              "    }\n",
              "  "
            ],
            "text/plain": [
              "<IPython.core.display.Javascript object>"
            ]
          },
          "metadata": {
            "tags": []
          }
        },
        {
          "output_type": "display_data",
          "data": {
            "application/javascript": [
              "download(\"download_9650286c-b3ad-4efa-99a8-3429fccb4709\", \"ann-1-learning-curves.png\", 103536)"
            ],
            "text/plain": [
              "<IPython.core.display.Javascript object>"
            ]
          },
          "metadata": {
            "tags": []
          }
        },
        {
          "output_type": "display_data",
          "data": {
            "image/png": "[encoded data removed]",
            "text/plain": [
              "<Figure size 576x360 with 1 Axes>"
            ]
          },
          "metadata": {
            "tags": []
          }
        }
      ]
    },
    {
      "cell_type": "code",
      "metadata": {
        "colab": {
          "base_uri": "https://localhost:8080/",
          "height": 17
        },
        "id": "-86kTQVLqMkL",
        "outputId": "3d6245bd-249e-4093-900d-a7c8fe77bc4c"
      },
      "source": [
        "model.save('sequential1.h5')\n",
        "files.download('sequential1.h5')"
      ],
      "execution_count": null,
      "outputs": [
        {
          "output_type": "display_data",
          "data": {
            "application/javascript": [
              "\n",
              "    async function download(id, filename, size) {\n",
              "      if (!google.colab.kernel.accessAllowed) {\n",
              "        return;\n",
              "      }\n",
              "      const div = document.createElement('div');\n",
              "      const label = document.createElement('label');\n",
              "      label.textContent = `Downloading \"${filename}\": `;\n",
              "      div.appendChild(label);\n",
              "      const progress = document.createElement('progress');\n",
              "      progress.max = size;\n",
              "      div.appendChild(progress);\n",
              "      document.body.appendChild(div);\n",
              "\n",
              "      const buffers = [];\n",
              "      let downloaded = 0;\n",
              "\n",
              "      const channel = await google.colab.kernel.comms.open(id);\n",
              "      // Send a message to notify the kernel that we're ready.\n",
              "      channel.send({})\n",
              "\n",
              "      for await (const message of channel.messages) {\n",
              "        // Send a message to notify the kernel that we're ready.\n",
              "        channel.send({})\n",
              "        if (message.buffers) {\n",
              "          for (const buffer of message.buffers) {\n",
              "            buffers.push(buffer);\n",
              "            downloaded += buffer.byteLength;\n",
              "            progress.value = downloaded;\n",
              "          }\n",
              "        }\n",
              "      }\n",
              "      const blob = new Blob(buffers, {type: 'application/binary'});\n",
              "      const a = document.createElement('a');\n",
              "      a.href = window.URL.createObjectURL(blob);\n",
              "      a.download = filename;\n",
              "      div.appendChild(a);\n",
              "      a.click();\n",
              "      div.remove();\n",
              "    }\n",
              "  "
            ],
            "text/plain": [
              "<IPython.core.display.Javascript object>"
            ]
          },
          "metadata": {
            "tags": []
          }
        },
        {
          "output_type": "display_data",
          "data": {
            "application/javascript": [
              "download(\"download_6cc7eecd-bbc5-4a2f-ad4e-8b03f7632613\", \"sequential1.h5\", 167784)"
            ],
            "text/plain": [
              "<IPython.core.display.Javascript object>"
            ]
          },
          "metadata": {
            "tags": []
          }
        }
      ]
    },
    {
      "cell_type": "markdown",
      "metadata": {
        "id": "hSkGvyzNoTnp"
      },
      "source": [
        "These results look very good for a quick test.  But there is something strange going on, because the validation accuracy is higher than training, and validation loss is much lower than training.  This might be because the network is too large for the data set.  We used 2 layers with 300, and 100 nodes, but we only used 20 features from the data set.  We should try a smaller network for smaller feature sets.  \n",
        "Of course we'll also want to tune the hyper-parameters.  The training set is skewed so we should set `class_weight`.  \n",
        "For comparison to the other models we'll want to train on each feature subset, but ultimately we want to see what we can do with the full set."
      ]
    },
    {
      "cell_type": "markdown",
      "metadata": {
        "id": "eh1XpY-7k4mN"
      },
      "source": [
        "Let's see what happens with fewer nodes."
      ]
    },
    {
      "cell_type": "code",
      "metadata": {
        "id": "3LftKRmannX-"
      },
      "source": [
        "model2 = keras.models.Sequential([keras.layers.Input(shape=train_std_ig.shape[1:]),\n",
        "                                 keras.layers.Dense(20, activation='relu'),\n",
        "                                 keras.layers.Dense(15, activation='relu'),\n",
        "                                 keras.layers.Dense(10, activation='softmax')\n",
        "])"
      ],
      "execution_count": null,
      "outputs": []
    },
    {
      "cell_type": "code",
      "metadata": {
        "id": "-Y2Ksm0qlCC-"
      },
      "source": [
        "model2.compile(loss='sparse_categorical_crossentropy',\n",
        "              optimizer='sgd',\n",
        "              metrics=['accuracy'])"
      ],
      "execution_count": null,
      "outputs": []
    },
    {
      "cell_type": "code",
      "metadata": {
        "colab": {
          "base_uri": "https://localhost:8080/"
        },
        "id": "-WWg6qTGlC8q",
        "outputId": "4fa5401d-3272-4d1b-eb8e-1d29c0a55f1b"
      },
      "source": [
        "hist2 = model2.fit(train_std_ig, y_train, epochs=30, validation_split=0.2)"
      ],
      "execution_count": null,
      "outputs": [
        {
          "output_type": "stream",
          "text": [
            "Epoch 1/30\n",
            "4384/4384 [==============================] - 6s 1ms/step - loss: 1.1836 - accuracy: 0.5725 - val_loss: 0.5260 - val_accuracy: 0.8357\n",
            "Epoch 2/30\n",
            "4384/4384 [==============================] - 5s 1ms/step - loss: 0.8185 - accuracy: 0.6958 - val_loss: 0.4694 - val_accuracy: 0.8667\n",
            "Epoch 3/30\n",
            "4384/4384 [==============================] - 5s 1ms/step - loss: 0.7609 - accuracy: 0.7163 - val_loss: 0.4407 - val_accuracy: 0.8683\n",
            "Epoch 4/30\n",
            "4384/4384 [==============================] - 5s 1ms/step - loss: 0.7399 - accuracy: 0.7282 - val_loss: 0.4238 - val_accuracy: 0.8786\n",
            "Epoch 5/30\n",
            "4384/4384 [==============================] - 5s 1ms/step - loss: 0.7232 - accuracy: 0.7336 - val_loss: 0.4116 - val_accuracy: 0.8813\n",
            "Epoch 6/30\n",
            "4384/4384 [==============================] - 5s 1ms/step - loss: 0.7112 - accuracy: 0.7365 - val_loss: 0.4032 - val_accuracy: 0.8813\n",
            "Epoch 7/30\n",
            "4384/4384 [==============================] - 5s 1ms/step - loss: 0.7000 - accuracy: 0.7384 - val_loss: 0.3944 - val_accuracy: 0.8787\n",
            "Epoch 8/30\n",
            "4384/4384 [==============================] - 5s 1ms/step - loss: 0.6920 - accuracy: 0.7422 - val_loss: 0.3902 - val_accuracy: 0.8824\n",
            "Epoch 9/30\n",
            "4384/4384 [==============================] - 5s 1ms/step - loss: 0.6774 - accuracy: 0.7440 - val_loss: 0.3880 - val_accuracy: 0.8827\n",
            "Epoch 10/30\n",
            "4384/4384 [==============================] - 6s 1ms/step - loss: 0.6759 - accuracy: 0.7439 - val_loss: 0.3799 - val_accuracy: 0.8850\n",
            "Epoch 11/30\n",
            "4384/4384 [==============================] - 6s 1ms/step - loss: 0.6659 - accuracy: 0.7478 - val_loss: 0.3717 - val_accuracy: 0.8842\n",
            "Epoch 12/30\n",
            "4384/4384 [==============================] - 5s 1ms/step - loss: 0.6599 - accuracy: 0.7496 - val_loss: 0.3668 - val_accuracy: 0.8880\n",
            "Epoch 13/30\n",
            "4384/4384 [==============================] - 5s 1ms/step - loss: 0.6559 - accuracy: 0.7485 - val_loss: 0.3624 - val_accuracy: 0.8870\n",
            "Epoch 14/30\n",
            "4384/4384 [==============================] - 5s 1ms/step - loss: 0.6478 - accuracy: 0.7509 - val_loss: 0.3661 - val_accuracy: 0.8861\n",
            "Epoch 15/30\n",
            "4384/4384 [==============================] - 5s 1ms/step - loss: 0.6501 - accuracy: 0.7501 - val_loss: 0.3603 - val_accuracy: 0.8901\n",
            "Epoch 16/30\n",
            "4384/4384 [==============================] - 5s 1ms/step - loss: 0.6462 - accuracy: 0.7514 - val_loss: 0.3789 - val_accuracy: 0.8752\n",
            "Epoch 17/30\n",
            "4384/4384 [==============================] - 5s 1ms/step - loss: 0.6425 - accuracy: 0.7537 - val_loss: 0.3518 - val_accuracy: 0.8876\n",
            "Epoch 18/30\n",
            "4384/4384 [==============================] - 5s 1ms/step - loss: 0.6392 - accuracy: 0.7540 - val_loss: 0.3600 - val_accuracy: 0.8863\n",
            "Epoch 19/30\n",
            "4384/4384 [==============================] - 5s 1ms/step - loss: 0.6396 - accuracy: 0.7544 - val_loss: 0.3636 - val_accuracy: 0.8796\n",
            "Epoch 20/30\n",
            "4384/4384 [==============================] - 5s 1ms/step - loss: 0.6286 - accuracy: 0.7570 - val_loss: 0.3599 - val_accuracy: 0.8798\n",
            "Epoch 21/30\n",
            "4384/4384 [==============================] - 5s 1ms/step - loss: 0.6335 - accuracy: 0.7544 - val_loss: 0.3584 - val_accuracy: 0.8811\n",
            "Epoch 22/30\n",
            "4384/4384 [==============================] - 5s 1ms/step - loss: 0.6262 - accuracy: 0.7583 - val_loss: 0.3420 - val_accuracy: 0.8926\n",
            "Epoch 23/30\n",
            "4384/4384 [==============================] - 5s 1ms/step - loss: 0.6258 - accuracy: 0.7563 - val_loss: 0.3559 - val_accuracy: 0.8847\n",
            "Epoch 24/30\n",
            "4384/4384 [==============================] - 5s 1ms/step - loss: 0.6274 - accuracy: 0.7580 - val_loss: 0.3440 - val_accuracy: 0.8919\n",
            "Epoch 25/30\n",
            "4384/4384 [==============================] - 6s 1ms/step - loss: 0.6219 - accuracy: 0.7603 - val_loss: 0.3396 - val_accuracy: 0.8913\n",
            "Epoch 26/30\n",
            "4384/4384 [==============================] - 6s 1ms/step - loss: 0.6166 - accuracy: 0.7610 - val_loss: 0.3499 - val_accuracy: 0.8821\n",
            "Epoch 27/30\n",
            "4384/4384 [==============================] - 5s 1ms/step - loss: 0.6190 - accuracy: 0.7606 - val_loss: 0.3353 - val_accuracy: 0.8959\n",
            "Epoch 28/30\n",
            "4384/4384 [==============================] - 5s 1ms/step - loss: 0.6203 - accuracy: 0.7602 - val_loss: 0.3440 - val_accuracy: 0.8876\n",
            "Epoch 29/30\n",
            "4384/4384 [==============================] - 5s 1ms/step - loss: 0.6194 - accuracy: 0.7604 - val_loss: 0.3416 - val_accuracy: 0.8921\n",
            "Epoch 30/30\n",
            "4384/4384 [==============================] - 5s 1ms/step - loss: 0.6200 - accuracy: 0.7595 - val_loss: 0.3395 - val_accuracy: 0.8872\n"
          ],
          "name": "stdout"
        }
      ]
    },
    {
      "cell_type": "code",
      "metadata": {
        "colab": {
          "base_uri": "https://localhost:8080/",
          "height": 324
        },
        "id": "4f0D7SDMlK04",
        "outputId": "7fd5ffe0-bca6-4141-cbbe-8e84dad55d0a"
      },
      "source": [
        "pd.DataFrame(hist2.history).plot(figsize=(8, 5))\n",
        "sns.set_style('darkgrid')\n",
        "plt.ylim((0, 1))\n",
        "plt.savefig('ann-2-learning-curves.png', dpi=300, bbox_inches='tight')\n",
        "files.download('ann-2-learning-curves.png')\n",
        "plt.show()"
      ],
      "execution_count": null,
      "outputs": [
        {
          "output_type": "display_data",
          "data": {
            "application/javascript": [
              "\n",
              "    async function download(id, filename, size) {\n",
              "      if (!google.colab.kernel.accessAllowed) {\n",
              "        return;\n",
              "      }\n",
              "      const div = document.createElement('div');\n",
              "      const label = document.createElement('label');\n",
              "      label.textContent = `Downloading \"${filename}\": `;\n",
              "      div.appendChild(label);\n",
              "      const progress = document.createElement('progress');\n",
              "      progress.max = size;\n",
              "      div.appendChild(progress);\n",
              "      document.body.appendChild(div);\n",
              "\n",
              "      const buffers = [];\n",
              "      let downloaded = 0;\n",
              "\n",
              "      const channel = await google.colab.kernel.comms.open(id);\n",
              "      // Send a message to notify the kernel that we're ready.\n",
              "      channel.send({})\n",
              "\n",
              "      for await (const message of channel.messages) {\n",
              "        // Send a message to notify the kernel that we're ready.\n",
              "        channel.send({})\n",
              "        if (message.buffers) {\n",
              "          for (const buffer of message.buffers) {\n",
              "            buffers.push(buffer);\n",
              "            downloaded += buffer.byteLength;\n",
              "            progress.value = downloaded;\n",
              "          }\n",
              "        }\n",
              "      }\n",
              "      const blob = new Blob(buffers, {type: 'application/binary'});\n",
              "      const a = document.createElement('a');\n",
              "      a.href = window.URL.createObjectURL(blob);\n",
              "      a.download = filename;\n",
              "      div.appendChild(a);\n",
              "      a.click();\n",
              "      div.remove();\n",
              "    }\n",
              "  "
            ],
            "text/plain": [
              "<IPython.core.display.Javascript object>"
            ]
          },
          "metadata": {
            "tags": []
          }
        },
        {
          "output_type": "display_data",
          "data": {
            "application/javascript": [
              "download(\"download_8349f858-1a71-4e8d-bbf5-072f7e7e9512\", \"ann-2-learning-curves.png\", 107509)"
            ],
            "text/plain": [
              "<IPython.core.display.Javascript object>"
            ]
          },
          "metadata": {
            "tags": []
          }
        },
        {
          "output_type": "display_data",
          "data": {
            "image/png": "[encoded data removed]",
            "text/plain": [
              "<Figure size 576x360 with 1 Axes>"
            ]
          },
          "metadata": {
            "tags": []
          }
        }
      ]
    },
    {
      "cell_type": "code",
      "metadata": {
        "colab": {
          "base_uri": "https://localhost:8080/",
          "height": 17
        },
        "id": "CfdewxGvqcef",
        "outputId": "2c70a9e8-5d03-44ce-e216-f7cb38270537"
      },
      "source": [
        "model2.save('sequential2.h5')\n",
        "files.download('sequential2.h5')"
      ],
      "execution_count": null,
      "outputs": [
        {
          "output_type": "display_data",
          "data": {
            "application/javascript": [
              "\n",
              "    async function download(id, filename, size) {\n",
              "      if (!google.colab.kernel.accessAllowed) {\n",
              "        return;\n",
              "      }\n",
              "      const div = document.createElement('div');\n",
              "      const label = document.createElement('label');\n",
              "      label.textContent = `Downloading \"${filename}\": `;\n",
              "      div.appendChild(label);\n",
              "      const progress = document.createElement('progress');\n",
              "      progress.max = size;\n",
              "      div.appendChild(progress);\n",
              "      document.body.appendChild(div);\n",
              "\n",
              "      const buffers = [];\n",
              "      let downloaded = 0;\n",
              "\n",
              "      const channel = await google.colab.kernel.comms.open(id);\n",
              "      // Send a message to notify the kernel that we're ready.\n",
              "      channel.send({})\n",
              "\n",
              "      for await (const message of channel.messages) {\n",
              "        // Send a message to notify the kernel that we're ready.\n",
              "        channel.send({})\n",
              "        if (message.buffers) {\n",
              "          for (const buffer of message.buffers) {\n",
              "            buffers.push(buffer);\n",
              "            downloaded += buffer.byteLength;\n",
              "            progress.value = downloaded;\n",
              "          }\n",
              "        }\n",
              "      }\n",
              "      const blob = new Blob(buffers, {type: 'application/binary'});\n",
              "      const a = document.createElement('a');\n",
              "      a.href = window.URL.createObjectURL(blob);\n",
              "      a.download = filename;\n",
              "      div.appendChild(a);\n",
              "      a.click();\n",
              "      div.remove();\n",
              "    }\n",
              "  "
            ],
            "text/plain": [
              "<IPython.core.display.Javascript object>"
            ]
          },
          "metadata": {
            "tags": []
          }
        },
        {
          "output_type": "display_data",
          "data": {
            "application/javascript": [
              "download(\"download_d516c598-429e-433d-b8ef-a1754e36b415\", \"sequential2.h5\", 21752)"
            ],
            "text/plain": [
              "<IPython.core.display.Javascript object>"
            ]
          },
          "metadata": {
            "tags": []
          }
        }
      ]
    },
    {
      "cell_type": "markdown",
      "metadata": {
        "id": "Ulsa1NQymBbo"
      },
      "source": [
        "Even with far fewer nodes we still see the same behavior.  A little more investigation is called for."
      ]
    },
    {
      "cell_type": "markdown",
      "metadata": {
        "id": "Wz_ip7fUnlpG"
      },
      "source": [
        "The issue may be with the training/validation split.  The 20% `validation_split` may not be representative of the full data set.  It's probably better to use k-fold cross-validation.  That's also what we did for the other models we've trained."
      ]
    },
    {
      "cell_type": "code",
      "metadata": {
        "id": "HUFHunH4l20D"
      },
      "source": [
        "model3 = keras.models.Sequential([keras.layers.Input(shape=train_std_ig.shape[1:]),\n",
        "                                 keras.layers.Dense(18, activation='relu'),\n",
        "                                 keras.layers.Dense(15, activation='relu'),\n",
        "                                 keras.layers.Dense(12, activation='relu'),\n",
        "                                 keras.layers.Dense(10, activation='softmax')\n",
        "])"
      ],
      "execution_count": null,
      "outputs": []
    },
    {
      "cell_type": "code",
      "metadata": {
        "id": "las1ppMmKzSV"
      },
      "source": [
        "model3.compile(loss='sparse_categorical_crossentropy',\n",
        "              optimizer='adam',\n",
        "              metrics=['accuracy'])"
      ],
      "execution_count": null,
      "outputs": []
    },
    {
      "cell_type": "code",
      "metadata": {
        "colab": {
          "base_uri": "https://localhost:8080/"
        },
        "id": "U4_e2nltK3p-",
        "outputId": "5e3f46cd-e1c2-4b1c-c881-e466edb5eb4d"
      },
      "source": [
        "hist3 = model3.fit(train_std_ig, y_train, epochs=30, validation_split=0.2)"
      ],
      "execution_count": null,
      "outputs": [
        {
          "output_type": "stream",
          "text": [
            "Epoch 1/30\n",
            "4384/4384 [==============================] - 8s 2ms/step - loss: 0.9935 - accuracy: 0.6500 - val_loss: 0.4117 - val_accuracy: 0.8798\n",
            "Epoch 2/30\n",
            "4384/4384 [==============================] - 7s 2ms/step - loss: 0.6939 - accuracy: 0.7386 - val_loss: 0.3862 - val_accuracy: 0.8829\n",
            "Epoch 3/30\n",
            "4384/4384 [==============================] - 7s 1ms/step - loss: 0.6630 - accuracy: 0.7489 - val_loss: 0.3652 - val_accuracy: 0.8835\n",
            "Epoch 4/30\n",
            "4384/4384 [==============================] - 7s 2ms/step - loss: 0.6416 - accuracy: 0.7535 - val_loss: 0.3522 - val_accuracy: 0.8838\n",
            "Epoch 5/30\n",
            "4384/4384 [==============================] - 7s 2ms/step - loss: 0.6300 - accuracy: 0.7562 - val_loss: 0.3404 - val_accuracy: 0.8861\n",
            "Epoch 6/30\n",
            "4384/4384 [==============================] - 7s 2ms/step - loss: 0.6219 - accuracy: 0.7606 - val_loss: 0.3388 - val_accuracy: 0.8888\n",
            "Epoch 7/30\n",
            "4384/4384 [==============================] - 7s 2ms/step - loss: 0.6197 - accuracy: 0.7617 - val_loss: 0.3405 - val_accuracy: 0.8873\n",
            "Epoch 8/30\n",
            "4384/4384 [==============================] - 7s 2ms/step - loss: 0.6142 - accuracy: 0.7624 - val_loss: 0.3303 - val_accuracy: 0.8907\n",
            "Epoch 9/30\n",
            "4384/4384 [==============================] - 7s 2ms/step - loss: 0.6086 - accuracy: 0.7656 - val_loss: 0.3356 - val_accuracy: 0.8872\n",
            "Epoch 10/30\n",
            "4384/4384 [==============================] - 7s 2ms/step - loss: 0.6101 - accuracy: 0.7637 - val_loss: 0.3396 - val_accuracy: 0.8831\n",
            "Epoch 11/30\n",
            "4384/4384 [==============================] - 7s 2ms/step - loss: 0.6053 - accuracy: 0.7651 - val_loss: 0.3269 - val_accuracy: 0.8949\n",
            "Epoch 12/30\n",
            "4384/4384 [==============================] - 7s 2ms/step - loss: 0.6030 - accuracy: 0.7664 - val_loss: 0.3314 - val_accuracy: 0.8931\n",
            "Epoch 13/30\n",
            "4384/4384 [==============================] - 7s 2ms/step - loss: 0.6022 - accuracy: 0.7664 - val_loss: 0.3413 - val_accuracy: 0.8868\n",
            "Epoch 14/30\n",
            "4384/4384 [==============================] - 7s 2ms/step - loss: 0.6002 - accuracy: 0.7668 - val_loss: 0.3143 - val_accuracy: 0.8984\n",
            "Epoch 15/30\n",
            "4384/4384 [==============================] - 7s 2ms/step - loss: 0.5975 - accuracy: 0.7672 - val_loss: 0.3302 - val_accuracy: 0.8918\n",
            "Epoch 16/30\n",
            "4384/4384 [==============================] - 6s 1ms/step - loss: 0.5975 - accuracy: 0.7665 - val_loss: 0.3293 - val_accuracy: 0.8927\n",
            "Epoch 17/30\n",
            "4384/4384 [==============================] - 6s 1ms/step - loss: 0.5933 - accuracy: 0.7682 - val_loss: 0.3241 - val_accuracy: 0.8915\n",
            "Epoch 18/30\n",
            "4384/4384 [==============================] - 7s 1ms/step - loss: 0.5896 - accuracy: 0.7691 - val_loss: 0.3328 - val_accuracy: 0.8849\n",
            "Epoch 19/30\n",
            "4384/4384 [==============================] - 6s 1ms/step - loss: 0.5931 - accuracy: 0.7676 - val_loss: 0.3278 - val_accuracy: 0.8839\n",
            "Epoch 20/30\n",
            "4384/4384 [==============================] - 6s 1ms/step - loss: 0.5924 - accuracy: 0.7683 - val_loss: 0.3333 - val_accuracy: 0.8854\n",
            "Epoch 21/30\n",
            "4384/4384 [==============================] - 6s 1ms/step - loss: 0.5900 - accuracy: 0.7688 - val_loss: 0.3205 - val_accuracy: 0.8922\n",
            "Epoch 22/30\n",
            "4384/4384 [==============================] - 7s 1ms/step - loss: 0.5830 - accuracy: 0.7723 - val_loss: 0.3223 - val_accuracy: 0.8926\n",
            "Epoch 23/30\n",
            "4384/4384 [==============================] - 7s 1ms/step - loss: 0.5852 - accuracy: 0.7702 - val_loss: 0.3199 - val_accuracy: 0.8908\n",
            "Epoch 24/30\n",
            "4384/4384 [==============================] - 7s 1ms/step - loss: 0.5847 - accuracy: 0.7700 - val_loss: 0.3332 - val_accuracy: 0.8850\n",
            "Epoch 25/30\n",
            "4384/4384 [==============================] - 7s 1ms/step - loss: 0.5854 - accuracy: 0.7707 - val_loss: 0.3219 - val_accuracy: 0.8931\n",
            "Epoch 26/30\n",
            "4384/4384 [==============================] - 7s 1ms/step - loss: 0.5849 - accuracy: 0.7696 - val_loss: 0.3271 - val_accuracy: 0.8894\n",
            "Epoch 27/30\n",
            "4384/4384 [==============================] - 7s 2ms/step - loss: 0.5797 - accuracy: 0.7709 - val_loss: 0.3151 - val_accuracy: 0.8964\n",
            "Epoch 28/30\n",
            "4384/4384 [==============================] - 7s 2ms/step - loss: 0.5831 - accuracy: 0.7698 - val_loss: 0.3179 - val_accuracy: 0.8907\n",
            "Epoch 29/30\n",
            "4384/4384 [==============================] - 7s 2ms/step - loss: 0.5822 - accuracy: 0.7714 - val_loss: 0.3191 - val_accuracy: 0.8894\n",
            "Epoch 30/30\n",
            "4384/4384 [==============================] - 7s 2ms/step - loss: 0.5802 - accuracy: 0.7710 - val_loss: 0.3112 - val_accuracy: 0.8917\n"
          ],
          "name": "stdout"
        }
      ]
    },
    {
      "cell_type": "code",
      "metadata": {
        "colab": {
          "base_uri": "https://localhost:8080/",
          "height": 324
        },
        "id": "68CNTujOMZkD",
        "outputId": "ea68cac4-03c0-4046-c334-0a86e09d2d73"
      },
      "source": [
        "pd.DataFrame(hist3.history).plot(figsize=(8, 5))\n",
        "sns.set_style('darkgrid')\n",
        "plt.ylim((0, 1))\n",
        "plt.savefig('ann-3-learning-curves.png', dpi=300, bbox_inches='tight')\n",
        "files.download('ann-3-learning-curves.png')\n",
        "plt.show()"
      ],
      "execution_count": null,
      "outputs": [
        {
          "output_type": "display_data",
          "data": {
            "application/javascript": [
              "\n",
              "    async function download(id, filename, size) {\n",
              "      if (!google.colab.kernel.accessAllowed) {\n",
              "        return;\n",
              "      }\n",
              "      const div = document.createElement('div');\n",
              "      const label = document.createElement('label');\n",
              "      label.textContent = `Downloading \"${filename}\": `;\n",
              "      div.appendChild(label);\n",
              "      const progress = document.createElement('progress');\n",
              "      progress.max = size;\n",
              "      div.appendChild(progress);\n",
              "      document.body.appendChild(div);\n",
              "\n",
              "      const buffers = [];\n",
              "      let downloaded = 0;\n",
              "\n",
              "      const channel = await google.colab.kernel.comms.open(id);\n",
              "      // Send a message to notify the kernel that we're ready.\n",
              "      channel.send({})\n",
              "\n",
              "      for await (const message of channel.messages) {\n",
              "        // Send a message to notify the kernel that we're ready.\n",
              "        channel.send({})\n",
              "        if (message.buffers) {\n",
              "          for (const buffer of message.buffers) {\n",
              "            buffers.push(buffer);\n",
              "            downloaded += buffer.byteLength;\n",
              "            progress.value = downloaded;\n",
              "          }\n",
              "        }\n",
              "      }\n",
              "      const blob = new Blob(buffers, {type: 'application/binary'});\n",
              "      const a = document.createElement('a');\n",
              "      a.href = window.URL.createObjectURL(blob);\n",
              "      a.download = filename;\n",
              "      div.appendChild(a);\n",
              "      a.click();\n",
              "      div.remove();\n",
              "    }\n",
              "  "
            ],
            "text/plain": [
              "<IPython.core.display.Javascript object>"
            ]
          },
          "metadata": {
            "tags": []
          }
        },
        {
          "output_type": "display_data",
          "data": {
            "application/javascript": [
              "download(\"download_461cea69-640c-41aa-9510-cb08d34b8fd5\", \"ann-3-learning-curves.png\", 92075)"
            ],
            "text/plain": [
              "<IPython.core.display.Javascript object>"
            ]
          },
          "metadata": {
            "tags": []
          }
        },
        {
          "output_type": "display_data",
          "data": {
            "image/png": "[encoded data removed]",
            "text/plain": [
              "<Figure size 576x360 with 1 Axes>"
            ]
          },
          "metadata": {
            "tags": [],
            "needs_background": "light"
          }
        }
      ]
    },
    {
      "cell_type": "code",
      "metadata": {
        "colab": {
          "base_uri": "https://localhost:8080/",
          "height": 17
        },
        "id": "WVr_cHrbNxt1",
        "outputId": "0bf167d6-4bac-430b-b0ce-893833c86797"
      },
      "source": [
        "model3.save('sequential3.h5')\n",
        "files.download('sequential3.h5')"
      ],
      "execution_count": null,
      "outputs": [
        {
          "output_type": "display_data",
          "data": {
            "application/javascript": [
              "\n",
              "    async function download(id, filename, size) {\n",
              "      if (!google.colab.kernel.accessAllowed) {\n",
              "        return;\n",
              "      }\n",
              "      const div = document.createElement('div');\n",
              "      const label = document.createElement('label');\n",
              "      label.textContent = `Downloading \"${filename}\": `;\n",
              "      div.appendChild(label);\n",
              "      const progress = document.createElement('progress');\n",
              "      progress.max = size;\n",
              "      div.appendChild(progress);\n",
              "      document.body.appendChild(div);\n",
              "\n",
              "      const buffers = [];\n",
              "      let downloaded = 0;\n",
              "\n",
              "      const channel = await google.colab.kernel.comms.open(id);\n",
              "      // Send a message to notify the kernel that we're ready.\n",
              "      channel.send({})\n",
              "\n",
              "      for await (const message of channel.messages) {\n",
              "        // Send a message to notify the kernel that we're ready.\n",
              "        channel.send({})\n",
              "        if (message.buffers) {\n",
              "          for (const buffer of message.buffers) {\n",
              "            buffers.push(buffer);\n",
              "            downloaded += buffer.byteLength;\n",
              "            progress.value = downloaded;\n",
              "          }\n",
              "        }\n",
              "      }\n",
              "      const blob = new Blob(buffers, {type: 'application/binary'});\n",
              "      const a = document.createElement('a');\n",
              "      a.href = window.URL.createObjectURL(blob);\n",
              "      a.download = filename;\n",
              "      div.appendChild(a);\n",
              "      a.click();\n",
              "      div.remove();\n",
              "    }\n",
              "  "
            ],
            "text/plain": [
              "<IPython.core.display.Javascript object>"
            ]
          },
          "metadata": {
            "tags": []
          }
        },
        {
          "output_type": "display_data",
          "data": {
            "application/javascript": [
              "download(\"download_ea43271d-39e9-4884-aec1-811ebce3d2a5\", \"sequential3.h5\", 50976)"
            ],
            "text/plain": [
              "<IPython.core.display.Javascript object>"
            ]
          },
          "metadata": {
            "tags": []
          }
        }
      ]
    },
    {
      "cell_type": "markdown",
      "metadata": {
        "id": "WX4FoOM1OYh2"
      },
      "source": [
        "Adding more layers and changing the optimizer to 'Adam' improves training accuracy and loss. Validation accuracy and loss remain about the same. Perhaps cross-validation will make a difference, but maybe we just need to tune the parameters."
      ]
    },
    {
      "cell_type": "markdown",
      "metadata": {
        "id": "QmMz7Hb9O_dt"
      },
      "source": [
        "Let's try one with a larger feature set."
      ]
    },
    {
      "cell_type": "code",
      "metadata": {
        "colab": {
          "resources": {
            "http://localhost:8080/nbextensions/google.colab/files.js": {
              "data": "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",
              "ok": true,
              "headers": [
                [
                  "content-type",
                  "application/javascript"
                ]
              ],
              "status": 200,
              "status_text": "OK"
            }
          },
          "base_uri": "https://localhost:8080/",
          "height": 77
        },
        "id": "fJf1R6TmOJkv",
        "outputId": "8f5f1008-ace0-4125-c5d3-81d5488413df"
      },
      "source": [
        "sorted_features_pkl = files.upload() # joblib.load('./data/rfb3_sorted_feature_importances.pkl')"
      ],
      "execution_count": null,
      "outputs": [
        {
          "output_type": "display_data",
          "data": {
            "text/html": [
              "\n",
              "     <input type=\"file\" id=\"files-40764cfa-4f5c-448b-a9dc-093ed420cb91\" name=\"files[]\" multiple disabled\n",
              "        style=\"border:none\" />\n",
              "     <output id=\"result-40764cfa-4f5c-448b-a9dc-093ed420cb91\">\n",
              "      Upload widget is only available when the cell has been executed in the\n",
              "      current browser session. Please rerun this cell to enable.\n",
              "      </output>\n",
              "      <script src=\"/nbextensions/google.colab/files.js\"></script> "
            ],
            "text/plain": [
              "<IPython.core.display.HTML object>"
            ]
          },
          "metadata": {
            "tags": []
          }
        },
        {
          "output_type": "stream",
          "text": [
            "Saving rfb3_sorted_feature_importances.pkl to rfb3_sorted_feature_importances.pkl\n"
          ],
          "name": "stdout"
        }
      ]
    },
    {
      "cell_type": "code",
      "metadata": {
        "id": "4my2wxQ8PZlf"
      },
      "source": [
        "sorted_features = joblib.load('rfb3_sorted_feature_importances.pkl')"
      ],
      "execution_count": 39,
      "outputs": []
    },
    {
      "cell_type": "code",
      "metadata": {
        "id": "WPuYSATeQzlO"
      },
      "source": [
        "top_feats = [x[0] for x in sorted_features if x[1] > 1e-3]"
      ],
      "execution_count": 41,
      "outputs": []
    },
    {
      "cell_type": "code",
      "metadata": {
        "id": "ORZvIwNAQPZw"
      },
      "source": [
        "train_std_RF = training_data_std[top_feats].copy()\n",
        "test_std_RF = testing_data_std[top_feats].copy()"
      ],
      "execution_count": 42,
      "outputs": []
    },
    {
      "cell_type": "code",
      "metadata": {
        "colab": {
          "base_uri": "https://localhost:8080/"
        },
        "id": "bZzkTllBRVwP",
        "outputId": "0cb1aa28-5a5c-4590-b480-bf0e900ce3fc"
      },
      "source": [
        "len(top_feats)"
      ],
      "execution_count": 43,
      "outputs": [
        {
          "output_type": "execute_result",
          "data": {
            "text/plain": [
              "50"
            ]
          },
          "metadata": {
            "tags": []
          },
          "execution_count": 43
        }
      ]
    },
    {
      "cell_type": "code",
      "metadata": {
        "id": "nin25MjbRL4e"
      },
      "source": [
        "model4 = keras.models.Sequential([keras.layers.Input(shape=train_std_RF.shape[1:]),\n",
        "                                 keras.layers.Dense(48, activation='relu'),\n",
        "                                 keras.layers.Dense(36, activation='relu'),\n",
        "                                 keras.layers.Dense(24, activation='relu'),\n",
        "                                 keras.layers.Dense(12, activation='relu'),\n",
        "                                 keras.layers.Dense(10, activation='softmax')\n",
        "])"
      ],
      "execution_count": 44,
      "outputs": []
    },
    {
      "cell_type": "code",
      "metadata": {
        "id": "fnwV260GRla9"
      },
      "source": [
        "# we're using Sparse Categorical Cross-entropy loss b/c the labels are integers, not one-hot vectors\n",
        "model4.compile(loss='sparse_categorical_crossentropy', optimizer='adam', metrics=['accuracy'])"
      ],
      "execution_count": 45,
      "outputs": []
    },
    {
      "cell_type": "code",
      "metadata": {
        "colab": {
          "base_uri": "https://localhost:8080/"
        },
        "id": "qK4OTiIjR2Kt",
        "outputId": "8e8532f4-fa00-49c5-d518-1f2dc2d05d4f"
      },
      "source": [
        "hist4 = model4.fit(train_std_RF, y_train, epochs=30, validation_split=0.2)"
      ],
      "execution_count": 46,
      "outputs": [
        {
          "output_type": "stream",
          "text": [
            "Epoch 1/30\n",
            "4384/4384 [==============================] - 8s 2ms/step - loss: 0.8139 - accuracy: 0.6976 - val_loss: 0.3138 - val_accuracy: 0.8962\n",
            "Epoch 2/30\n",
            "4384/4384 [==============================] - 7s 2ms/step - loss: 0.6051 - accuracy: 0.7584 - val_loss: 0.3072 - val_accuracy: 0.8964\n",
            "Epoch 3/30\n",
            "4384/4384 [==============================] - 8s 2ms/step - loss: 0.5791 - accuracy: 0.7665 - val_loss: 0.3017 - val_accuracy: 0.8919\n",
            "Epoch 4/30\n",
            "4384/4384 [==============================] - 7s 2ms/step - loss: 0.5680 - accuracy: 0.7716 - val_loss: 0.2902 - val_accuracy: 0.9041\n",
            "Epoch 5/30\n",
            "4384/4384 [==============================] - 7s 2ms/step - loss: 0.5615 - accuracy: 0.7748 - val_loss: 0.2826 - val_accuracy: 0.9047\n",
            "Epoch 6/30\n",
            "4384/4384 [==============================] - 7s 2ms/step - loss: 0.5561 - accuracy: 0.7742 - val_loss: 0.2965 - val_accuracy: 0.8906\n",
            "Epoch 7/30\n",
            "4384/4384 [==============================] - 7s 2ms/step - loss: 0.5511 - accuracy: 0.7761 - val_loss: 0.2782 - val_accuracy: 0.9025\n",
            "Epoch 8/30\n",
            "4384/4384 [==============================] - 7s 2ms/step - loss: 0.5440 - accuracy: 0.7786 - val_loss: 0.2893 - val_accuracy: 0.8924\n",
            "Epoch 9/30\n",
            "4384/4384 [==============================] - 7s 2ms/step - loss: 0.5383 - accuracy: 0.7815 - val_loss: 0.2850 - val_accuracy: 0.8956\n",
            "Epoch 10/30\n",
            "4384/4384 [==============================] - 7s 2ms/step - loss: 0.5383 - accuracy: 0.7809 - val_loss: 0.2742 - val_accuracy: 0.9040\n",
            "Epoch 11/30\n",
            "4384/4384 [==============================] - 7s 2ms/step - loss: 0.5320 - accuracy: 0.7838 - val_loss: 0.2848 - val_accuracy: 0.8958\n",
            "Epoch 12/30\n",
            "4384/4384 [==============================] - 7s 2ms/step - loss: 0.5329 - accuracy: 0.7830 - val_loss: 0.2825 - val_accuracy: 0.8993\n",
            "Epoch 13/30\n",
            "4384/4384 [==============================] - 7s 2ms/step - loss: 0.5283 - accuracy: 0.7836 - val_loss: 0.2900 - val_accuracy: 0.9001\n",
            "Epoch 14/30\n",
            "4384/4384 [==============================] - 7s 2ms/step - loss: 0.5279 - accuracy: 0.7841 - val_loss: 0.2864 - val_accuracy: 0.8977\n",
            "Epoch 15/30\n",
            "4384/4384 [==============================] - 7s 2ms/step - loss: 0.5237 - accuracy: 0.7870 - val_loss: 0.2813 - val_accuracy: 0.8960\n",
            "Epoch 16/30\n",
            "4384/4384 [==============================] - 7s 2ms/step - loss: 0.5184 - accuracy: 0.7889 - val_loss: 0.2759 - val_accuracy: 0.9002\n",
            "Epoch 17/30\n",
            "4384/4384 [==============================] - 7s 2ms/step - loss: 0.5239 - accuracy: 0.7875 - val_loss: 0.2721 - val_accuracy: 0.9029\n",
            "Epoch 18/30\n",
            "4384/4384 [==============================] - 7s 2ms/step - loss: 0.5209 - accuracy: 0.7862 - val_loss: 0.2810 - val_accuracy: 0.8979\n",
            "Epoch 19/30\n",
            "4384/4384 [==============================] - 7s 2ms/step - loss: 0.5154 - accuracy: 0.7904 - val_loss: 0.2730 - val_accuracy: 0.9039\n",
            "Epoch 20/30\n",
            "4384/4384 [==============================] - 7s 2ms/step - loss: 0.5210 - accuracy: 0.7873 - val_loss: 0.2739 - val_accuracy: 0.9009\n",
            "Epoch 21/30\n",
            "4384/4384 [==============================] - 7s 2ms/step - loss: 0.5145 - accuracy: 0.7899 - val_loss: 0.2646 - val_accuracy: 0.9047\n",
            "Epoch 22/30\n",
            "4384/4384 [==============================] - 7s 2ms/step - loss: 0.5109 - accuracy: 0.7920 - val_loss: 0.2702 - val_accuracy: 0.9024\n",
            "Epoch 23/30\n",
            "4384/4384 [==============================] - 7s 2ms/step - loss: 0.5094 - accuracy: 0.7927 - val_loss: 0.2796 - val_accuracy: 0.8994\n",
            "Epoch 24/30\n",
            "4384/4384 [==============================] - 7s 2ms/step - loss: 0.5141 - accuracy: 0.7908 - val_loss: 0.2794 - val_accuracy: 0.8985\n",
            "Epoch 25/30\n",
            "4384/4384 [==============================] - 7s 2ms/step - loss: 0.5072 - accuracy: 0.7932 - val_loss: 0.2675 - val_accuracy: 0.9047\n",
            "Epoch 26/30\n",
            "4384/4384 [==============================] - 7s 2ms/step - loss: 0.5130 - accuracy: 0.7924 - val_loss: 0.2745 - val_accuracy: 0.9010\n",
            "Epoch 27/30\n",
            "4384/4384 [==============================] - 7s 2ms/step - loss: 0.5076 - accuracy: 0.7937 - val_loss: 0.2687 - val_accuracy: 0.9022\n",
            "Epoch 28/30\n",
            "4384/4384 [==============================] - 7s 2ms/step - loss: 0.5074 - accuracy: 0.7934 - val_loss: 0.2688 - val_accuracy: 0.9060\n",
            "Epoch 29/30\n",
            "4384/4384 [==============================] - 7s 2ms/step - loss: 0.5054 - accuracy: 0.7942 - val_loss: 0.2625 - val_accuracy: 0.9074\n",
            "Epoch 30/30\n",
            "4384/4384 [==============================] - 7s 2ms/step - loss: 0.5047 - accuracy: 0.7941 - val_loss: 0.2794 - val_accuracy: 0.8989\n"
          ],
          "name": "stdout"
        }
      ]
    },
    {
      "cell_type": "code",
      "metadata": {
        "colab": {
          "base_uri": "https://localhost:8080/",
          "height": 324
        },
        "id": "7gKQ2tSuSCD0",
        "outputId": "1c7e00d5-c444-4f15-e5a1-adbfe60add23"
      },
      "source": [
        "pd.DataFrame(hist4.history).plot(figsize=(8, 5))\n",
        "sns.set_style('darkgrid')\n",
        "plt.ylim((0, 1))\n",
        "plt.savefig('ann-4-learning-curves.png', dpi=300, bbox_inches='tight')\n",
        "files.download('ann-4-learning-curves.png')\n",
        "plt.show()"
      ],
      "execution_count": 47,
      "outputs": [
        {
          "output_type": "display_data",
          "data": {
            "application/javascript": [
              "\n",
              "    async function download(id, filename, size) {\n",
              "      if (!google.colab.kernel.accessAllowed) {\n",
              "        return;\n",
              "      }\n",
              "      const div = document.createElement('div');\n",
              "      const label = document.createElement('label');\n",
              "      label.textContent = `Downloading \"${filename}\": `;\n",
              "      div.appendChild(label);\n",
              "      const progress = document.createElement('progress');\n",
              "      progress.max = size;\n",
              "      div.appendChild(progress);\n",
              "      document.body.appendChild(div);\n",
              "\n",
              "      const buffers = [];\n",
              "      let downloaded = 0;\n",
              "\n",
              "      const channel = await google.colab.kernel.comms.open(id);\n",
              "      // Send a message to notify the kernel that we're ready.\n",
              "      channel.send({})\n",
              "\n",
              "      for await (const message of channel.messages) {\n",
              "        // Send a message to notify the kernel that we're ready.\n",
              "        channel.send({})\n",
              "        if (message.buffers) {\n",
              "          for (const buffer of message.buffers) {\n",
              "            buffers.push(buffer);\n",
              "            downloaded += buffer.byteLength;\n",
              "            progress.value = downloaded;\n",
              "          }\n",
              "        }\n",
              "      }\n",
              "      const blob = new Blob(buffers, {type: 'application/binary'});\n",
              "      const a = document.createElement('a');\n",
              "      a.href = window.URL.createObjectURL(blob);\n",
              "      a.download = filename;\n",
              "      div.appendChild(a);\n",
              "      a.click();\n",
              "      div.remove();\n",
              "    }\n",
              "  "
            ],
            "text/plain": [
              "<IPython.core.display.Javascript object>"
            ]
          },
          "metadata": {
            "tags": []
          }
        },
        {
          "output_type": "display_data",
          "data": {
            "application/javascript": [
              "download(\"download_255b84a4-5af4-4e9c-a9d7-2242962992c0\", \"ann-4-learning-curves.png\", 93006)"
            ],
            "text/plain": [
              "<IPython.core.display.Javascript object>"
            ]
          },
          "metadata": {
            "tags": []
          }
        },
        {
          "output_type": "display_data",
          "data": {
            "image/png": "[encoded data removed]",
            "text/plain": [
              "<Figure size 576x360 with 1 Axes>"
            ]
          },
          "metadata": {
            "tags": []
          }
        }
      ]
    },
    {
      "cell_type": "code",
      "metadata": {
        "colab": {
          "base_uri": "https://localhost:8080/",
          "height": 17
        },
        "id": "7Xn0OGoDSJ4T",
        "outputId": "4ff11ebc-15d8-457c-ef71-0b6ddb96e80b"
      },
      "source": [
        "model4.save('sequential4.h5')\n",
        "files.download('sequential4.h5')"
      ],
      "execution_count": 48,
      "outputs": [
        {
          "output_type": "display_data",
          "data": {
            "application/javascript": [
              "\n",
              "    async function download(id, filename, size) {\n",
              "      if (!google.colab.kernel.accessAllowed) {\n",
              "        return;\n",
              "      }\n",
              "      const div = document.createElement('div');\n",
              "      const label = document.createElement('label');\n",
              "      label.textContent = `Downloading \"${filename}\": `;\n",
              "      div.appendChild(label);\n",
              "      const progress = document.createElement('progress');\n",
              "      progress.max = size;\n",
              "      div.appendChild(progress);\n",
              "      document.body.appendChild(div);\n",
              "\n",
              "      const buffers = [];\n",
              "      let downloaded = 0;\n",
              "\n",
              "      const channel = await google.colab.kernel.comms.open(id);\n",
              "      // Send a message to notify the kernel that we're ready.\n",
              "      channel.send({})\n",
              "\n",
              "      for await (const message of channel.messages) {\n",
              "        // Send a message to notify the kernel that we're ready.\n",
              "        channel.send({})\n",
              "        if (message.buffers) {\n",
              "          for (const buffer of message.buffers) {\n",
              "            buffers.push(buffer);\n",
              "            downloaded += buffer.byteLength;\n",
              "            progress.value = downloaded;\n",
              "          }\n",
              "        }\n",
              "      }\n",
              "      const blob = new Blob(buffers, {type: 'application/binary'});\n",
              "      const a = document.createElement('a');\n",
              "      a.href = window.URL.createObjectURL(blob);\n",
              "      a.download = filename;\n",
              "      div.appendChild(a);\n",
              "      a.click();\n",
              "      div.remove();\n",
              "    }\n",
              "  "
            ],
            "text/plain": [
              "<IPython.core.display.Javascript object>"
            ]
          },
          "metadata": {
            "tags": []
          }
        },
        {
          "output_type": "display_data",
          "data": {
            "application/javascript": [
              "download(\"download_6b86cc72-f82c-4d75-ae59-0a2305849e16\", \"sequential4.h5\", 113256)"
            ],
            "text/plain": [
              "<IPython.core.display.Javascript object>"
            ]
          },
          "metadata": {
            "tags": []
          }
        }
      ]
    },
    {
      "cell_type": "markdown",
      "metadata": {
        "id": "NcIZKBsMToTK"
      },
      "source": [
        "More features and a larger network lead to improved training and validation accuracy and loss. It's probably time to do some grid-searching to tune the parameters of these networks."
      ]
    },
    {
      "cell_type": "markdown",
      "metadata": {
        "id": "9JPoEAsSVBX3"
      },
      "source": [
        "So far, these networks seem to reach their best accuracy around 10-15 epochs of training."
      ]
    },
    {
      "cell_type": "code",
      "metadata": {
        "id": "vtmlxlFJTMjN"
      },
      "source": [
        ""
      ],
      "execution_count": null,
      "outputs": []
    }
  ]
}