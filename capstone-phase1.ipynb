{
 "cells": [
  {
   "cell_type": "markdown",
   "id": "bridal-colon",
   "metadata": {},
   "source": [
    "# Phase 1: Loading Data, Cleaning, Transformation, & Exploration"
   ]
  },
  {
   "cell_type": "code",
   "execution_count": 1,
   "id": "ultimate-formula",
   "metadata": {},
   "outputs": [],
   "source": [
    "import pandas as pd\n",
    "import numpy as np\n",
    "from zipfile import ZipFile\n",
    "\n",
    "import seaborn as sns\n",
    "import matplotlib.pyplot as plt\n",
    "%matplotlib inline"
   ]
  },
  {
   "cell_type": "markdown",
   "id": "super-therapist",
   "metadata": {},
   "source": [
    "### 1. Loading the Data"
   ]
  },
  {
   "cell_type": "markdown",
   "id": "shaped-uncertainty",
   "metadata": {},
   "source": [
    "The training data csv file was too large\n",
    "to upload to github, so I've uploaded the zip file containing the training and testing set files.  We'll need to extract those files from the zip so we can read them into DataFrames."
   ]
  },
  {
   "cell_type": "code",
   "execution_count": 2,
   "id": "dutch-waste",
   "metadata": {},
   "outputs": [],
   "source": [
    "with ZipFile('./Data/UNSW_NB15 training and testing sets.zip') as datasets_zip:\n",
    "    # open each file and read in to a DataFrame\n",
    "    with datasets_zip.open('UNSW_NB15_training-set.csv') as training_file:\n",
    "        training_data = pd.read_csv(training_file, index_col='id')\n",
    "    with datasets_zip.open('UNSW_NB15_testing-set.csv') as testing_file:\n",
    "        testing_data = pd.read_csv(testing_file, index_col='id')"
   ]
  },
  {
   "cell_type": "code",
   "execution_count": 3,
   "id": "adaptive-animal",
   "metadata": {},
   "outputs": [],
   "source": [
    "# if the training files are unzipped, we can load them directly\n",
    "#training_file = './data/UNSW_NB15_training-set.csv'\n",
    "#training_data = pd.read_csv(training_file)"
   ]
  },
  {
   "cell_type": "markdown",
   "id": "explicit-interpretation",
   "metadata": {},
   "source": [
    "### 2. Inspecting the Data Structure"
   ]
  },
  {
   "cell_type": "markdown",
   "id": "blind-hypothetical",
   "metadata": {},
   "source": [
    "Check out `head`, `info`, `describe` and `hist`ograms to get an idea of what the data looks like."
   ]
  },
  {
   "cell_type": "code",
   "execution_count": 4,
   "id": "rubber-prefix",
   "metadata": {},
   "outputs": [
    {
     "name": "stdout",
     "output_type": "stream",
     "text": [
      "<class 'pandas.core.frame.DataFrame'>\n",
      "Int64Index: 175341 entries, 1 to 175341\n",
      "Data columns (total 44 columns):\n",
      " #   Column             Non-Null Count   Dtype  \n",
      "---  ------             --------------   -----  \n",
      " 0   dur                175341 non-null  float64\n",
      " 1   proto              175341 non-null  object \n",
      " 2   service            175341 non-null  object \n",
      " 3   state              175341 non-null  object \n",
      " 4   spkts              175341 non-null  int64  \n",
      " 5   dpkts              175341 non-null  int64  \n",
      " 6   sbytes             175341 non-null  int64  \n",
      " 7   dbytes             175341 non-null  int64  \n",
      " 8   rate               175341 non-null  float64\n",
      " 9   sttl               175341 non-null  int64  \n",
      " 10  dttl               175341 non-null  int64  \n",
      " 11  sload              175341 non-null  float64\n",
      " 12  dload              175341 non-null  float64\n",
      " 13  sloss              175341 non-null  int64  \n",
      " 14  dloss              175341 non-null  int64  \n",
      " 15  sinpkt             175341 non-null  float64\n",
      " 16  dinpkt             175341 non-null  float64\n",
      " 17  sjit               175341 non-null  float64\n",
      " 18  djit               175341 non-null  float64\n",
      " 19  swin               175341 non-null  int64  \n",
      " 20  stcpb              175341 non-null  int64  \n",
      " 21  dtcpb              175341 non-null  int64  \n",
      " 22  dwin               175341 non-null  int64  \n",
      " 23  tcprtt             175341 non-null  float64\n",
      " 24  synack             175341 non-null  float64\n",
      " 25  ackdat             175341 non-null  float64\n",
      " 26  smean              175341 non-null  int64  \n",
      " 27  dmean              175341 non-null  int64  \n",
      " 28  trans_depth        175341 non-null  int64  \n",
      " 29  response_body_len  175341 non-null  int64  \n",
      " 30  ct_srv_src         175341 non-null  int64  \n",
      " 31  ct_state_ttl       175341 non-null  int64  \n",
      " 32  ct_dst_ltm         175341 non-null  int64  \n",
      " 33  ct_src_dport_ltm   175341 non-null  int64  \n",
      " 34  ct_dst_sport_ltm   175341 non-null  int64  \n",
      " 35  ct_dst_src_ltm     175341 non-null  int64  \n",
      " 36  is_ftp_login       175341 non-null  int64  \n",
      " 37  ct_ftp_cmd         175341 non-null  int64  \n",
      " 38  ct_flw_http_mthd   175341 non-null  int64  \n",
      " 39  ct_src_ltm         175341 non-null  int64  \n",
      " 40  ct_srv_dst         175341 non-null  int64  \n",
      " 41  is_sm_ips_ports    175341 non-null  int64  \n",
      " 42  attack_cat         175341 non-null  object \n",
      " 43  label              175341 non-null  int64  \n",
      "dtypes: float64(11), int64(29), object(4)\n",
      "memory usage: 60.2+ MB\n",
      "None\n"
     ]
    }
   ],
   "source": [
    "print(training_data.info())"
   ]
  },
  {
   "cell_type": "markdown",
   "id": "centered-exclusive",
   "metadata": {},
   "source": [
    "OK, it looks like we've got 175,341 entries and no null values in any column.\n",
    "There are 44 columns, but I think we can drop the *id* column and we'll want to split off the *label* and *attack_cat*.  \n",
    "The `object` type features should be strings."
   ]
  },
  {
   "cell_type": "markdown",
   "id": "appointed-bibliography",
   "metadata": {},
   "source": [
    "Let's take a quick look at some of the data."
   ]
  },
  {
   "cell_type": "code",
   "execution_count": 5,
   "id": "million-brain",
   "metadata": {},
   "outputs": [
    {
     "data": {
      "text/html": [
       "<div>\n",
       "<style scoped>\n",
       "    .dataframe tbody tr th:only-of-type {\n",
       "        vertical-align: middle;\n",
       "    }\n",
       "\n",
       "    .dataframe tbody tr th {\n",
       "        vertical-align: top;\n",
       "    }\n",
       "\n",
       "    .dataframe thead th {\n",
       "        text-align: right;\n",
       "    }\n",
       "</style>\n",
       "<table border=\"1\" class=\"dataframe\">\n",
       "  <thead>\n",
       "    <tr style=\"text-align: right;\">\n",
       "      <th></th>\n",
       "      <th>dur</th>\n",
       "      <th>proto</th>\n",
       "      <th>service</th>\n",
       "      <th>state</th>\n",
       "      <th>spkts</th>\n",
       "      <th>dpkts</th>\n",
       "      <th>sbytes</th>\n",
       "      <th>dbytes</th>\n",
       "      <th>rate</th>\n",
       "      <th>sttl</th>\n",
       "      <th>...</th>\n",
       "      <th>ct_dst_sport_ltm</th>\n",
       "      <th>ct_dst_src_ltm</th>\n",
       "      <th>is_ftp_login</th>\n",
       "      <th>ct_ftp_cmd</th>\n",
       "      <th>ct_flw_http_mthd</th>\n",
       "      <th>ct_src_ltm</th>\n",
       "      <th>ct_srv_dst</th>\n",
       "      <th>is_sm_ips_ports</th>\n",
       "      <th>attack_cat</th>\n",
       "      <th>label</th>\n",
       "    </tr>\n",
       "    <tr>\n",
       "      <th>id</th>\n",
       "      <th></th>\n",
       "      <th></th>\n",
       "      <th></th>\n",
       "      <th></th>\n",
       "      <th></th>\n",
       "      <th></th>\n",
       "      <th></th>\n",
       "      <th></th>\n",
       "      <th></th>\n",
       "      <th></th>\n",
       "      <th></th>\n",
       "      <th></th>\n",
       "      <th></th>\n",
       "      <th></th>\n",
       "      <th></th>\n",
       "      <th></th>\n",
       "      <th></th>\n",
       "      <th></th>\n",
       "      <th></th>\n",
       "      <th></th>\n",
       "      <th></th>\n",
       "    </tr>\n",
       "  </thead>\n",
       "  <tbody>\n",
       "    <tr>\n",
       "      <th>1</th>\n",
       "      <td>0.121478</td>\n",
       "      <td>tcp</td>\n",
       "      <td>-</td>\n",
       "      <td>FIN</td>\n",
       "      <td>6</td>\n",
       "      <td>4</td>\n",
       "      <td>258</td>\n",
       "      <td>172</td>\n",
       "      <td>74.087490</td>\n",
       "      <td>252</td>\n",
       "      <td>...</td>\n",
       "      <td>1</td>\n",
       "      <td>1</td>\n",
       "      <td>0</td>\n",
       "      <td>0</td>\n",
       "      <td>0</td>\n",
       "      <td>1</td>\n",
       "      <td>1</td>\n",
       "      <td>0</td>\n",
       "      <td>Normal</td>\n",
       "      <td>0</td>\n",
       "    </tr>\n",
       "    <tr>\n",
       "      <th>2</th>\n",
       "      <td>0.649902</td>\n",
       "      <td>tcp</td>\n",
       "      <td>-</td>\n",
       "      <td>FIN</td>\n",
       "      <td>14</td>\n",
       "      <td>38</td>\n",
       "      <td>734</td>\n",
       "      <td>42014</td>\n",
       "      <td>78.473372</td>\n",
       "      <td>62</td>\n",
       "      <td>...</td>\n",
       "      <td>1</td>\n",
       "      <td>2</td>\n",
       "      <td>0</td>\n",
       "      <td>0</td>\n",
       "      <td>0</td>\n",
       "      <td>1</td>\n",
       "      <td>6</td>\n",
       "      <td>0</td>\n",
       "      <td>Normal</td>\n",
       "      <td>0</td>\n",
       "    </tr>\n",
       "    <tr>\n",
       "      <th>3</th>\n",
       "      <td>1.623129</td>\n",
       "      <td>tcp</td>\n",
       "      <td>-</td>\n",
       "      <td>FIN</td>\n",
       "      <td>8</td>\n",
       "      <td>16</td>\n",
       "      <td>364</td>\n",
       "      <td>13186</td>\n",
       "      <td>14.170161</td>\n",
       "      <td>62</td>\n",
       "      <td>...</td>\n",
       "      <td>1</td>\n",
       "      <td>3</td>\n",
       "      <td>0</td>\n",
       "      <td>0</td>\n",
       "      <td>0</td>\n",
       "      <td>2</td>\n",
       "      <td>6</td>\n",
       "      <td>0</td>\n",
       "      <td>Normal</td>\n",
       "      <td>0</td>\n",
       "    </tr>\n",
       "    <tr>\n",
       "      <th>4</th>\n",
       "      <td>1.681642</td>\n",
       "      <td>tcp</td>\n",
       "      <td>ftp</td>\n",
       "      <td>FIN</td>\n",
       "      <td>12</td>\n",
       "      <td>12</td>\n",
       "      <td>628</td>\n",
       "      <td>770</td>\n",
       "      <td>13.677108</td>\n",
       "      <td>62</td>\n",
       "      <td>...</td>\n",
       "      <td>1</td>\n",
       "      <td>3</td>\n",
       "      <td>1</td>\n",
       "      <td>1</td>\n",
       "      <td>0</td>\n",
       "      <td>2</td>\n",
       "      <td>1</td>\n",
       "      <td>0</td>\n",
       "      <td>Normal</td>\n",
       "      <td>0</td>\n",
       "    </tr>\n",
       "    <tr>\n",
       "      <th>5</th>\n",
       "      <td>0.449454</td>\n",
       "      <td>tcp</td>\n",
       "      <td>-</td>\n",
       "      <td>FIN</td>\n",
       "      <td>10</td>\n",
       "      <td>6</td>\n",
       "      <td>534</td>\n",
       "      <td>268</td>\n",
       "      <td>33.373826</td>\n",
       "      <td>254</td>\n",
       "      <td>...</td>\n",
       "      <td>1</td>\n",
       "      <td>40</td>\n",
       "      <td>0</td>\n",
       "      <td>0</td>\n",
       "      <td>0</td>\n",
       "      <td>2</td>\n",
       "      <td>39</td>\n",
       "      <td>0</td>\n",
       "      <td>Normal</td>\n",
       "      <td>0</td>\n",
       "    </tr>\n",
       "  </tbody>\n",
       "</table>\n",
       "<p>5 rows × 44 columns</p>\n",
       "</div>"
      ],
      "text/plain": [
       "         dur proto service state  spkts  dpkts  sbytes  dbytes       rate  \\\n",
       "id                                                                          \n",
       "1   0.121478   tcp       -   FIN      6      4     258     172  74.087490   \n",
       "2   0.649902   tcp       -   FIN     14     38     734   42014  78.473372   \n",
       "3   1.623129   tcp       -   FIN      8     16     364   13186  14.170161   \n",
       "4   1.681642   tcp     ftp   FIN     12     12     628     770  13.677108   \n",
       "5   0.449454   tcp       -   FIN     10      6     534     268  33.373826   \n",
       "\n",
       "    sttl  ...  ct_dst_sport_ltm  ct_dst_src_ltm  is_ftp_login  ct_ftp_cmd  \\\n",
       "id        ...                                                               \n",
       "1    252  ...                 1               1             0           0   \n",
       "2     62  ...                 1               2             0           0   \n",
       "3     62  ...                 1               3             0           0   \n",
       "4     62  ...                 1               3             1           1   \n",
       "5    254  ...                 1              40             0           0   \n",
       "\n",
       "    ct_flw_http_mthd  ct_src_ltm  ct_srv_dst  is_sm_ips_ports  attack_cat  \\\n",
       "id                                                                          \n",
       "1                  0           1           1                0      Normal   \n",
       "2                  0           1           6                0      Normal   \n",
       "3                  0           2           6                0      Normal   \n",
       "4                  0           2           1                0      Normal   \n",
       "5                  0           2          39                0      Normal   \n",
       "\n",
       "    label  \n",
       "id         \n",
       "1       0  \n",
       "2       0  \n",
       "3       0  \n",
       "4       0  \n",
       "5       0  \n",
       "\n",
       "[5 rows x 44 columns]"
      ]
     },
     "execution_count": 5,
     "metadata": {},
     "output_type": "execute_result"
    }
   ],
   "source": [
    "training_data.head()"
   ]
  },
  {
   "cell_type": "markdown",
   "id": "talented-square",
   "metadata": {},
   "source": [
    "Here we can see that the 4 object type features (*proto*, *service*, *state*, and *attack_cat*) appear to be Strings.  \n",
    "*attack_cat* is the class we want to learn, factorizing may be a good option for that (one-hot encoding of y labels should use scikit learn `LabelBinarizer`).  \n",
    "*Label* is either 0 or 1, indicating benign or malicious."
   ]
  },
  {
   "cell_type": "markdown",
   "id": "sitting-extent",
   "metadata": {},
   "source": [
    "Let's see how many classes there are."
   ]
  },
  {
   "cell_type": "code",
   "execution_count": 6,
   "id": "alone-attempt",
   "metadata": {},
   "outputs": [
    {
     "name": "stdout",
     "output_type": "stream",
     "text": [
      "There are 10 unique values.\n",
      "Categories: ['Normal' 'Backdoor' 'Analysis' 'Fuzzers' 'Shellcode' 'Reconnaissance'\n",
      " 'Exploits' 'DoS' 'Worms' 'Generic']\n"
     ]
    }
   ],
   "source": [
    "print(\"There are\", training_data['attack_cat'].nunique(), \"unique values.\")\n",
    "print(\"Categories:\", training_data['attack_cat'].unique())"
   ]
  },
  {
   "cell_type": "markdown",
   "id": "reported-magnet",
   "metadata": {},
   "source": [
    "OK, it looks like 9 classes of Malware, plus 'Normal' benign activity.  \n",
    "Maybe we can convert the classes to category type and order them so we can look for correlations with other features. Or we can just convert them to an integer sequence instead. We'll come back to that later."
   ]
  },
  {
   "cell_type": "markdown",
   "id": "general-peace",
   "metadata": {},
   "source": [
    "Let's see what those other objects are all about."
   ]
  },
  {
   "cell_type": "code",
   "execution_count": 7,
   "id": "humanitarian-elephant",
   "metadata": {},
   "outputs": [
    {
     "name": "stdout",
     "output_type": "stream",
     "text": [
      "There are 133 unique values.\n",
      "Protocols: ['tcp' 'udp' 'arp' 'ospf' 'icmp' 'igmp' 'rtp' 'ddp' 'ipv6-frag' 'cftp'\n",
      " 'wsn' 'pvp' 'wb-expak' 'mtp' 'pri-enc' 'sat-mon' 'cphb' 'sun-nd' 'iso-ip'\n",
      " 'xtp' 'il' 'unas' 'mfe-nsp' '3pc' 'ipv6-route' 'idrp' 'bna' 'swipe'\n",
      " 'kryptolan' 'cpnx' 'rsvp' 'wb-mon' 'vmtp' 'ib' 'dgp' 'eigrp' 'ax.25'\n",
      " 'gmtp' 'pnni' 'sep' 'pgm' 'idpr-cmtp' 'zero' 'rvd' 'mobile' 'narp' 'fc'\n",
      " 'pipe' 'ipcomp' 'ipv6-no' 'sat-expak' 'ipv6-opts' 'snp' 'ipcv'\n",
      " 'br-sat-mon' 'ttp' 'tcf' 'nsfnet-igp' 'sprite-rpc' 'aes-sp3-d' 'sccopmce'\n",
      " 'sctp' 'qnx' 'scps' 'etherip' 'aris' 'pim' 'compaq-peer' 'vrrp' 'iatp'\n",
      " 'stp' 'l2tp' 'srp' 'sm' 'isis' 'smp' 'fire' 'ptp' 'crtp' 'sps'\n",
      " 'merit-inp' 'idpr' 'skip' 'any' 'larp' 'ipip' 'micp' 'encap' 'ifmp'\n",
      " 'tp++' 'a/n' 'ipv6' 'i-nlsp' 'ipx-n-ip' 'sdrp' 'tlsp' 'gre' 'mhrp' 'ddx'\n",
      " 'ippc' 'visa' 'secure-vmtp' 'uti' 'vines' 'crudp' 'iplt' 'ggp' 'ip'\n",
      " 'ipnip' 'st2' 'argus' 'bbn-rcc' 'egp' 'emcon' 'igp' 'nvp' 'pup' 'xnet'\n",
      " 'chaos' 'mux' 'dcn' 'hmp' 'prm' 'trunk-1' 'xns-idp' 'leaf-1' 'leaf-2'\n",
      " 'rdp' 'irtp' 'iso-tp4' 'netblt' 'trunk-2' 'cbt']\n"
     ]
    }
   ],
   "source": [
    "print(\"There are\", training_data['proto'].nunique(), \"unique values.\")\n",
    "print(\"Protocols:\", training_data['proto'].unique())"
   ]
  },
  {
   "cell_type": "code",
   "execution_count": 8,
   "id": "modern-barcelona",
   "metadata": {},
   "outputs": [
    {
     "name": "stdout",
     "output_type": "stream",
     "text": [
      "There are 13 unique values.\n",
      "Services: ['-' 'ftp' 'smtp' 'snmp' 'http' 'ftp-data' 'dns' 'ssh' 'radius' 'pop3'\n",
      " 'dhcp' 'ssl' 'irc']\n"
     ]
    }
   ],
   "source": [
    "print(\"There are\", training_data['service'].nunique(), \"unique values.\")\n",
    "print(\"Services:\", training_data['service'].unique())"
   ]
  },
  {
   "cell_type": "code",
   "execution_count": 9,
   "id": "monetary-buffalo",
   "metadata": {},
   "outputs": [
    {
     "name": "stdout",
     "output_type": "stream",
     "text": [
      "There are 9 unique values.\n",
      "State: ['FIN' 'INT' 'CON' 'ECO' 'REQ' 'RST' 'PAR' 'URN' 'no']\n"
     ]
    }
   ],
   "source": [
    "print(\"There are\", training_data['state'].nunique(), \"unique values.\")\n",
    "print(\"State:\", training_data['state'].unique())"
   ]
  },
  {
   "cell_type": "markdown",
   "id": "arranged-volume",
   "metadata": {},
   "source": [
    "This gives us an idea of what kind of network traffic data we're working with."
   ]
  },
  {
   "cell_type": "markdown",
   "id": "happy-seminar",
   "metadata": {},
   "source": [
    "Let's look at some histograms of the numeric features."
   ]
  },
  {
   "cell_type": "code",
   "execution_count": 10,
   "id": "framed-science",
   "metadata": {},
   "outputs": [
    {
     "data": {
      "image/png": "[encoded data removed]",
      "text/plain": [
       "<Figure size 1440x1080 with 42 Axes>"
      ]
     },
     "metadata": {
      "needs_background": "light"
     },
     "output_type": "display_data"
    }
   ],
   "source": [
    "#%matplotlib inline # moved to top of notebook with imports\n",
    "training_data.hist(bins=50, figsize=(20,15))\n",
    "plt.show()"
   ]
  },
  {
   "cell_type": "markdown",
   "id": "black-excess",
   "metadata": {},
   "source": [
    "We can see that most features have most of their instances at or near zero and relatively few instances at higher values, in some cases much higher. Other features cluster close to zero and have long tails."
   ]
  },
  {
   "cell_type": "markdown",
   "id": "quiet-special",
   "metadata": {},
   "source": [
    "Let's see the distribution of labels and classes."
   ]
  },
  {
   "cell_type": "code",
   "execution_count": 11,
   "id": "chronic-services",
   "metadata": {},
   "outputs": [
    {
     "data": {
      "image/png": "[encoded data removed]",
      "text/plain": [
       "<Figure size 432x288 with 1 Axes>"
      ]
     },
     "metadata": {
      "needs_background": "light"
     },
     "output_type": "display_data"
    }
   ],
   "source": [
    "_ = training_data['label'].value_counts().plot(kind='bar', title='Normal or Malware')"
   ]
  },
  {
   "cell_type": "code",
   "execution_count": 12,
   "id": "statistical-donor",
   "metadata": {},
   "outputs": [
    {
     "data": {
      "text/plain": [
       "1    119341\n",
       "0     56000\n",
       "Name: label, dtype: int64"
      ]
     },
     "execution_count": 12,
     "metadata": {},
     "output_type": "execute_result"
    }
   ],
   "source": [
    "training_data['label'].value_counts()"
   ]
  },
  {
   "cell_type": "markdown",
   "id": "stainless-window",
   "metadata": {},
   "source": [
    "Here, 0 represents 'Normal' activity, and 1 is 'Malicious' activity (one of the 9 attack categories). So, we have 56,000 normal instances and 119341 attack instances. Let's so how the attacks break down."
   ]
  },
  {
   "cell_type": "code",
   "execution_count": 13,
   "id": "according-character",
   "metadata": {},
   "outputs": [
    {
     "data": {
      "image/png": "[encoded data removed]",
      "text/plain": [
       "<Figure size 432x288 with 1 Axes>"
      ]
     },
     "metadata": {
      "needs_background": "light"
     },
     "output_type": "display_data"
    }
   ],
   "source": [
    "_ = training_data['attack_cat'].value_counts().plot(kind='bar', title='Instances of Each Class')"
   ]
  },
  {
   "cell_type": "code",
   "execution_count": 14,
   "id": "turkish-percentage",
   "metadata": {},
   "outputs": [
    {
     "data": {
      "text/plain": [
       "Normal            56000\n",
       "Generic           40000\n",
       "Exploits          33393\n",
       "Fuzzers           18184\n",
       "DoS               12264\n",
       "Reconnaissance    10491\n",
       "Analysis           2000\n",
       "Backdoor           1746\n",
       "Shellcode          1133\n",
       "Worms               130\n",
       "Name: attack_cat, dtype: int64"
      ]
     },
     "execution_count": 14,
     "metadata": {},
     "output_type": "execute_result"
    }
   ],
   "source": [
    "training_data['attack_cat'].value_counts()"
   ]
  },
  {
   "cell_type": "markdown",
   "id": "considerable-aerospace",
   "metadata": {},
   "source": [
    "Is there a danger of classification bias with this breakdown (only 130/175,341 instances are worms)?\n",
    "What could we do to better balance without throwing away most of the data.\n",
    "On the other hand this data set is probably representative of the percentages of malware in the wild."
   ]
  },
  {
   "cell_type": "markdown",
   "id": "violent-plane",
   "metadata": {},
   "source": [
    "### 3. Looking for Correlations and Visualizing"
   ]
  },
  {
   "cell_type": "markdown",
   "id": "stuck-castle",
   "metadata": {},
   "source": [
    "We should calculate data correlations and plot a scatter matrix."
   ]
  },
  {
   "cell_type": "markdown",
   "id": "outer-sunset",
   "metadata": {},
   "source": [
    "For training the ML models, we'll want to separate the class labels from the rest of the data.  But for investigating correlations, we'll want to include the labels."
   ]
  },
  {
   "cell_type": "code",
   "execution_count": 15,
   "id": "golden-interest",
   "metadata": {},
   "outputs": [],
   "source": [
    "correlation_matrix = training_data.corr()"
   ]
  },
  {
   "cell_type": "markdown",
   "id": "tested-arlington",
   "metadata": {},
   "source": [
    "And let's see how the features correlate to the label (normal or attack).  After converting the few categorical features to one-hot there are about 200 features to correlate."
   ]
  },
  {
   "cell_type": "code",
   "execution_count": 16,
   "id": "dedicated-programmer",
   "metadata": {},
   "outputs": [
    {
     "data": {
      "text/plain": [
       "label                1.000000\n",
       "sttl                 0.692741\n",
       "ct_state_ttl         0.577704\n",
       "ct_dst_sport_ltm     0.357213\n",
       "rate                 0.337979\n",
       "ct_src_dport_ltm     0.305579\n",
       "ct_dst_src_ltm       0.303855\n",
       "ct_src_ltm           0.238225\n",
       "ct_dst_ltm           0.229887\n",
       "ct_srv_src           0.229044\n",
       "ct_srv_dst           0.228046\n",
       "sload                0.182870\n",
       "ackdat               0.097364\n",
       "dttl                 0.095049\n",
       "tcprtt               0.081584\n",
       "synack               0.058299\n",
       "dur                  0.036175\n",
       "sbytes               0.018576\n",
       "ct_flw_http_mthd     0.015800\n",
       "trans_depth          0.010801\n",
       "sloss               -0.000640\n",
       "sjit                -0.007069\n",
       "smean               -0.010798\n",
       "ct_ftp_cmd          -0.011055\n",
       "is_ftp_login        -0.011055\n",
       "response_body_len   -0.021361\n",
       "dinpkt              -0.022887\n",
       "spkts               -0.052178\n",
       "djit                -0.060870\n",
       "dbytes              -0.076871\n",
       "dloss               -0.094685\n",
       "dpkts               -0.118591\n",
       "sinpkt              -0.176110\n",
       "is_sm_ips_ports     -0.184679\n",
       "dtcpb               -0.250340\n",
       "stcpb               -0.255006\n",
       "dwin                -0.319626\n",
       "swin                -0.333633\n",
       "dmean               -0.341806\n",
       "dload               -0.393739\n",
       "Name: label, dtype: float64"
      ]
     },
     "execution_count": 16,
     "metadata": {},
     "output_type": "execute_result"
    }
   ],
   "source": [
    "correlation_matrix['label'].sort_values(ascending=False)"
   ]
  },
  {
   "cell_type": "markdown",
   "id": "plastic-credits",
   "metadata": {},
   "source": [
    "It seems like a few features (*sttl*, *ct_state_ttl*) have a decent positive correlation to the label (higher values for the malicious label), and a couple are somewhat negatively correlated (*dmean*, *dload*).  \n",
    "* *sttl* is the source time-to-live value.  \n",
    "* *ct_state_ttl* is the count for state according to values for time-to-live.  \n",
    "* *dmean* is the mean of flow packet size transmitted by the destination.  \n",
    "* *dload* is the number of bits per second from the destination.  \n",
    "\n",
    "Let's check out a scatter matrix of some of these features to better vizualize the correlation."
   ]
  },
  {
   "cell_type": "code",
   "execution_count": 17,
   "id": "engaged-strengthening",
   "metadata": {},
   "outputs": [],
   "source": [
    "attrs = ['label', 'sttl', 'ct_state_ttl', 'dmean', 'dload'] #, 'ct_dst_sport_ltm', 'rate', 'ct_src_dport_ltm', 'ct_dst_src_ltm', 'dwin', 'swin', 'dmean', 'dload']"
   ]
  },
  {
   "cell_type": "code",
   "execution_count": 18,
   "id": "fixed-respondent",
   "metadata": {},
   "outputs": [
    {
     "data": {
      "image/png": "[encoded data removed]",
      "text/plain": [
       "<Figure size 540x540 with 30 Axes>"
      ]
     },
     "metadata": {},
     "output_type": "display_data"
    }
   ],
   "source": [
    "#training_data.plot.scatter()\n",
    "#_ = scatter_matrix(correlation_matrix, figsize=(12,8))\n",
    "#import seaborn as sns # added to import block at top of notebook\n",
    "sns.set(style='ticks', color_codes=True)\n",
    "_ = sns.pairplot(data=correlation_matrix[attrs], height=1.5, aspect=1, plot_kws={'alpha':0.5})"
   ]
  },
  {
   "cell_type": "markdown",
   "id": "anonymous-registrar",
   "metadata": {},
   "source": [
    "### 4. ML prep"
   ]
  },
  {
   "cell_type": "markdown",
   "id": "emerging-closure",
   "metadata": {},
   "source": [
    "#### 4.1 Separate labels"
   ]
  },
  {
   "cell_type": "markdown",
   "id": "entitled-scotland",
   "metadata": {},
   "source": [
    "Let's separate out the labels from the predicting features.  \n",
    "We'll also take out the *attack_cat*, since that's what we want to learn."
   ]
  },
  {
   "cell_type": "code",
   "execution_count": 19,
   "id": "active-dress",
   "metadata": {},
   "outputs": [],
   "source": [
    "training = training_data.drop(['label', 'attack_cat'], axis=1)\n",
    "training_labels = training_data['label'].copy()\n",
    "training_cats = training_data['attack_cat'].copy()\n",
    "\n",
    "# whatever we do to the training set should also be done to the testing set\n",
    "testing = testing_data.drop(['label', 'attack_cat'], axis=1)\n",
    "testing_labels = testing_data['label'].copy()\n",
    "testing_cats = testing_data['attack_cat'].copy()"
   ]
  },
  {
   "cell_type": "code",
   "execution_count": 20,
   "id": "european-passing",
   "metadata": {},
   "outputs": [
    {
     "name": "stdout",
     "output_type": "stream",
     "text": [
      "<class 'pandas.core.frame.DataFrame'>\n",
      "Int64Index: 175341 entries, 1 to 175341\n",
      "Data columns (total 42 columns):\n",
      " #   Column             Non-Null Count   Dtype  \n",
      "---  ------             --------------   -----  \n",
      " 0   dur                175341 non-null  float64\n",
      " 1   proto              175341 non-null  object \n",
      " 2   service            175341 non-null  object \n",
      " 3   state              175341 non-null  object \n",
      " 4   spkts              175341 non-null  int64  \n",
      " 5   dpkts              175341 non-null  int64  \n",
      " 6   sbytes             175341 non-null  int64  \n",
      " 7   dbytes             175341 non-null  int64  \n",
      " 8   rate               175341 non-null  float64\n",
      " 9   sttl               175341 non-null  int64  \n",
      " 10  dttl               175341 non-null  int64  \n",
      " 11  sload              175341 non-null  float64\n",
      " 12  dload              175341 non-null  float64\n",
      " 13  sloss              175341 non-null  int64  \n",
      " 14  dloss              175341 non-null  int64  \n",
      " 15  sinpkt             175341 non-null  float64\n",
      " 16  dinpkt             175341 non-null  float64\n",
      " 17  sjit               175341 non-null  float64\n",
      " 18  djit               175341 non-null  float64\n",
      " 19  swin               175341 non-null  int64  \n",
      " 20  stcpb              175341 non-null  int64  \n",
      " 21  dtcpb              175341 non-null  int64  \n",
      " 22  dwin               175341 non-null  int64  \n",
      " 23  tcprtt             175341 non-null  float64\n",
      " 24  synack             175341 non-null  float64\n",
      " 25  ackdat             175341 non-null  float64\n",
      " 26  smean              175341 non-null  int64  \n",
      " 27  dmean              175341 non-null  int64  \n",
      " 28  trans_depth        175341 non-null  int64  \n",
      " 29  response_body_len  175341 non-null  int64  \n",
      " 30  ct_srv_src         175341 non-null  int64  \n",
      " 31  ct_state_ttl       175341 non-null  int64  \n",
      " 32  ct_dst_ltm         175341 non-null  int64  \n",
      " 33  ct_src_dport_ltm   175341 non-null  int64  \n",
      " 34  ct_dst_sport_ltm   175341 non-null  int64  \n",
      " 35  ct_dst_src_ltm     175341 non-null  int64  \n",
      " 36  is_ftp_login       175341 non-null  int64  \n",
      " 37  ct_ftp_cmd         175341 non-null  int64  \n",
      " 38  ct_flw_http_mthd   175341 non-null  int64  \n",
      " 39  ct_src_ltm         175341 non-null  int64  \n",
      " 40  ct_srv_dst         175341 non-null  int64  \n",
      " 41  is_sm_ips_ports    175341 non-null  int64  \n",
      "dtypes: float64(11), int64(28), object(3)\n",
      "memory usage: 57.5+ MB\n"
     ]
    }
   ],
   "source": [
    "training.info()"
   ]
  },
  {
   "cell_type": "code",
   "execution_count": 21,
   "id": "another-found",
   "metadata": {},
   "outputs": [
    {
     "data": {
      "text/plain": [
       "id\n",
       "1         0\n",
       "2         0\n",
       "3         0\n",
       "4         0\n",
       "5         0\n",
       "         ..\n",
       "175337    1\n",
       "175338    1\n",
       "175339    1\n",
       "175340    1\n",
       "175341    1\n",
       "Name: label, Length: 175341, dtype: int64"
      ]
     },
     "execution_count": 21,
     "metadata": {},
     "output_type": "execute_result"
    }
   ],
   "source": [
    "training_labels"
   ]
  },
  {
   "cell_type": "code",
   "execution_count": 22,
   "id": "changing-attachment",
   "metadata": {},
   "outputs": [
    {
     "data": {
      "text/plain": [
       "id\n",
       "1            Normal\n",
       "2            Normal\n",
       "3            Normal\n",
       "4            Normal\n",
       "5            Normal\n",
       "            ...    \n",
       "175337      Generic\n",
       "175338    Shellcode\n",
       "175339      Generic\n",
       "175340      Generic\n",
       "175341      Generic\n",
       "Name: attack_cat, Length: 175341, dtype: object"
      ]
     },
     "execution_count": 22,
     "metadata": {},
     "output_type": "execute_result"
    }
   ],
   "source": [
    "training_cats"
   ]
  },
  {
   "cell_type": "markdown",
   "id": "experimental-keyboard",
   "metadata": {},
   "source": [
    "#### 4.2 Transform Categorical Features"
   ]
  },
  {
   "cell_type": "markdown",
   "id": "graphic-delhi",
   "metadata": {},
   "source": [
    "Since these categorical features don't appear to have an inherent ordering, let's try encoding them as one-hot vectors for better ML performance.  \n",
    "What about the *attack_class*, if we want to do multiclassification on the class we probably need to binarize that as well."
   ]
  },
  {
   "cell_type": "code",
   "execution_count": 23,
   "id": "simplified-binary",
   "metadata": {},
   "outputs": [
    {
     "data": {
      "text/plain": [
       "array(['Analysis', 'Backdoor', 'DoS', 'Exploits', 'Fuzzers', 'Generic',\n",
       "       'Normal', 'Reconnaissance', 'Shellcode', 'Worms'], dtype='<U14')"
      ]
     },
     "execution_count": 23,
     "metadata": {},
     "output_type": "execute_result"
    }
   ],
   "source": [
    "training_data_onehot = pd.get_dummies(training, columns=['proto', 'service', 'state'], prefix=['proto', 'service', 'state'])\n",
    "training_data_onehot.head()\n",
    "\n",
    "# one-hot the testing set as well\n",
    "testing_data_onehot = pd.get_dummies(testing, columns=['proto', 'service', 'state'], prefix=['proto', 'service', 'state'])\n",
    "\n",
    "from sklearn import preprocessing\n",
    "binarizer = preprocessing.LabelBinarizer()\n",
    "binarized_cats = binarizer.fit_transform(training_cats)\n",
    "binarizer.classes_"
   ]
  },
  {
   "cell_type": "code",
   "execution_count": 24,
   "id": "pleased-audit",
   "metadata": {},
   "outputs": [
    {
     "name": "stdout",
     "output_type": "stream",
     "text": [
      "<class 'pandas.core.frame.DataFrame'>\n",
      "Int64Index: 175341 entries, 1 to 175341\n",
      "Columns: 194 entries, dur to state_no\n",
      "dtypes: float64(11), int64(28), uint8(155)\n",
      "memory usage: 79.4 MB\n"
     ]
    }
   ],
   "source": [
    "training_data_onehot.info()"
   ]
  },
  {
   "cell_type": "markdown",
   "id": "significant-yahoo",
   "metadata": {},
   "source": [
    "OK, we still need to deal with the *id*, but this doesn't look too bad.\n",
    "We went from 45 columns to 195, that shouldn't be too unreasonable for ML.  We also still need to separate the classes/labels and we can probably drop the *id* feature, since it's just a sequential numbering of instances."
   ]
  },
  {
   "cell_type": "markdown",
   "id": "smaller-seeking",
   "metadata": {},
   "source": [
    "#### 4.3 Scale Features"
   ]
  },
  {
   "cell_type": "markdown",
   "id": "dramatic-problem",
   "metadata": {},
   "source": [
    "We can check out the statistics for each feature, do they need to be normalized?"
   ]
  },
  {
   "cell_type": "code",
   "execution_count": 25,
   "id": "sacred-saver",
   "metadata": {},
   "outputs": [
    {
     "data": {
      "text/html": [
       "<div>\n",
       "<style scoped>\n",
       "    .dataframe tbody tr th:only-of-type {\n",
       "        vertical-align: middle;\n",
       "    }\n",
       "\n",
       "    .dataframe tbody tr th {\n",
       "        vertical-align: top;\n",
       "    }\n",
       "\n",
       "    .dataframe thead th {\n",
       "        text-align: right;\n",
       "    }\n",
       "</style>\n",
       "<table border=\"1\" class=\"dataframe\">\n",
       "  <thead>\n",
       "    <tr style=\"text-align: right;\">\n",
       "      <th></th>\n",
       "      <th>dur</th>\n",
       "      <th>spkts</th>\n",
       "      <th>dpkts</th>\n",
       "      <th>sbytes</th>\n",
       "      <th>dbytes</th>\n",
       "      <th>rate</th>\n",
       "      <th>sttl</th>\n",
       "      <th>dttl</th>\n",
       "      <th>sload</th>\n",
       "      <th>dload</th>\n",
       "      <th>...</th>\n",
       "      <th>service_ssl</th>\n",
       "      <th>state_CON</th>\n",
       "      <th>state_ECO</th>\n",
       "      <th>state_FIN</th>\n",
       "      <th>state_INT</th>\n",
       "      <th>state_PAR</th>\n",
       "      <th>state_REQ</th>\n",
       "      <th>state_RST</th>\n",
       "      <th>state_URN</th>\n",
       "      <th>state_no</th>\n",
       "    </tr>\n",
       "  </thead>\n",
       "  <tbody>\n",
       "    <tr>\n",
       "      <th>count</th>\n",
       "      <td>175341.000000</td>\n",
       "      <td>175341.000000</td>\n",
       "      <td>175341.000000</td>\n",
       "      <td>1.753410e+05</td>\n",
       "      <td>1.753410e+05</td>\n",
       "      <td>1.753410e+05</td>\n",
       "      <td>175341.000000</td>\n",
       "      <td>175341.000000</td>\n",
       "      <td>1.753410e+05</td>\n",
       "      <td>1.753410e+05</td>\n",
       "      <td>...</td>\n",
       "      <td>175341.000000</td>\n",
       "      <td>175341.000000</td>\n",
       "      <td>175341.000000</td>\n",
       "      <td>175341.000000</td>\n",
       "      <td>175341.000000</td>\n",
       "      <td>175341.000000</td>\n",
       "      <td>175341.000000</td>\n",
       "      <td>175341.000000</td>\n",
       "      <td>175341.000000</td>\n",
       "      <td>175341.000000</td>\n",
       "    </tr>\n",
       "    <tr>\n",
       "      <th>mean</th>\n",
       "      <td>1.359389</td>\n",
       "      <td>20.298664</td>\n",
       "      <td>18.969591</td>\n",
       "      <td>8.844844e+03</td>\n",
       "      <td>1.492892e+04</td>\n",
       "      <td>9.540619e+04</td>\n",
       "      <td>179.546997</td>\n",
       "      <td>79.609567</td>\n",
       "      <td>7.345403e+07</td>\n",
       "      <td>6.712056e+05</td>\n",
       "      <td>...</td>\n",
       "      <td>0.000319</td>\n",
       "      <td>0.075008</td>\n",
       "      <td>0.000068</td>\n",
       "      <td>0.443849</td>\n",
       "      <td>0.469229</td>\n",
       "      <td>0.000006</td>\n",
       "      <td>0.011355</td>\n",
       "      <td>0.000473</td>\n",
       "      <td>0.000006</td>\n",
       "      <td>0.000006</td>\n",
       "    </tr>\n",
       "    <tr>\n",
       "      <th>std</th>\n",
       "      <td>6.480249</td>\n",
       "      <td>136.887597</td>\n",
       "      <td>110.258271</td>\n",
       "      <td>1.747656e+05</td>\n",
       "      <td>1.436542e+05</td>\n",
       "      <td>1.654010e+05</td>\n",
       "      <td>102.940011</td>\n",
       "      <td>110.506863</td>\n",
       "      <td>1.883574e+08</td>\n",
       "      <td>2.421312e+06</td>\n",
       "      <td>...</td>\n",
       "      <td>0.017868</td>\n",
       "      <td>0.263405</td>\n",
       "      <td>0.008272</td>\n",
       "      <td>0.496839</td>\n",
       "      <td>0.499054</td>\n",
       "      <td>0.002388</td>\n",
       "      <td>0.105954</td>\n",
       "      <td>0.021752</td>\n",
       "      <td>0.002388</td>\n",
       "      <td>0.002388</td>\n",
       "    </tr>\n",
       "    <tr>\n",
       "      <th>min</th>\n",
       "      <td>0.000000</td>\n",
       "      <td>1.000000</td>\n",
       "      <td>0.000000</td>\n",
       "      <td>2.800000e+01</td>\n",
       "      <td>0.000000e+00</td>\n",
       "      <td>0.000000e+00</td>\n",
       "      <td>0.000000</td>\n",
       "      <td>0.000000</td>\n",
       "      <td>0.000000e+00</td>\n",
       "      <td>0.000000e+00</td>\n",
       "      <td>...</td>\n",
       "      <td>0.000000</td>\n",
       "      <td>0.000000</td>\n",
       "      <td>0.000000</td>\n",
       "      <td>0.000000</td>\n",
       "      <td>0.000000</td>\n",
       "      <td>0.000000</td>\n",
       "      <td>0.000000</td>\n",
       "      <td>0.000000</td>\n",
       "      <td>0.000000</td>\n",
       "      <td>0.000000</td>\n",
       "    </tr>\n",
       "    <tr>\n",
       "      <th>25%</th>\n",
       "      <td>0.000008</td>\n",
       "      <td>2.000000</td>\n",
       "      <td>0.000000</td>\n",
       "      <td>1.140000e+02</td>\n",
       "      <td>0.000000e+00</td>\n",
       "      <td>3.278614e+01</td>\n",
       "      <td>62.000000</td>\n",
       "      <td>0.000000</td>\n",
       "      <td>1.305334e+04</td>\n",
       "      <td>0.000000e+00</td>\n",
       "      <td>...</td>\n",
       "      <td>0.000000</td>\n",
       "      <td>0.000000</td>\n",
       "      <td>0.000000</td>\n",
       "      <td>0.000000</td>\n",
       "      <td>0.000000</td>\n",
       "      <td>0.000000</td>\n",
       "      <td>0.000000</td>\n",
       "      <td>0.000000</td>\n",
       "      <td>0.000000</td>\n",
       "      <td>0.000000</td>\n",
       "    </tr>\n",
       "    <tr>\n",
       "      <th>50%</th>\n",
       "      <td>0.001582</td>\n",
       "      <td>2.000000</td>\n",
       "      <td>2.000000</td>\n",
       "      <td>4.300000e+02</td>\n",
       "      <td>1.640000e+02</td>\n",
       "      <td>3.225807e+03</td>\n",
       "      <td>254.000000</td>\n",
       "      <td>29.000000</td>\n",
       "      <td>8.796748e+05</td>\n",
       "      <td>1.447023e+03</td>\n",
       "      <td>...</td>\n",
       "      <td>0.000000</td>\n",
       "      <td>0.000000</td>\n",
       "      <td>0.000000</td>\n",
       "      <td>0.000000</td>\n",
       "      <td>0.000000</td>\n",
       "      <td>0.000000</td>\n",
       "      <td>0.000000</td>\n",
       "      <td>0.000000</td>\n",
       "      <td>0.000000</td>\n",
       "      <td>0.000000</td>\n",
       "    </tr>\n",
       "    <tr>\n",
       "      <th>75%</th>\n",
       "      <td>0.668069</td>\n",
       "      <td>12.000000</td>\n",
       "      <td>10.000000</td>\n",
       "      <td>1.418000e+03</td>\n",
       "      <td>1.102000e+03</td>\n",
       "      <td>1.250000e+05</td>\n",
       "      <td>254.000000</td>\n",
       "      <td>252.000000</td>\n",
       "      <td>8.888889e+07</td>\n",
       "      <td>2.784487e+04</td>\n",
       "      <td>...</td>\n",
       "      <td>0.000000</td>\n",
       "      <td>0.000000</td>\n",
       "      <td>0.000000</td>\n",
       "      <td>1.000000</td>\n",
       "      <td>1.000000</td>\n",
       "      <td>0.000000</td>\n",
       "      <td>0.000000</td>\n",
       "      <td>0.000000</td>\n",
       "      <td>0.000000</td>\n",
       "      <td>0.000000</td>\n",
       "    </tr>\n",
       "    <tr>\n",
       "      <th>max</th>\n",
       "      <td>59.999989</td>\n",
       "      <td>9616.000000</td>\n",
       "      <td>10974.000000</td>\n",
       "      <td>1.296523e+07</td>\n",
       "      <td>1.465555e+07</td>\n",
       "      <td>1.000000e+06</td>\n",
       "      <td>255.000000</td>\n",
       "      <td>254.000000</td>\n",
       "      <td>5.988000e+09</td>\n",
       "      <td>2.242273e+07</td>\n",
       "      <td>...</td>\n",
       "      <td>1.000000</td>\n",
       "      <td>1.000000</td>\n",
       "      <td>1.000000</td>\n",
       "      <td>1.000000</td>\n",
       "      <td>1.000000</td>\n",
       "      <td>1.000000</td>\n",
       "      <td>1.000000</td>\n",
       "      <td>1.000000</td>\n",
       "      <td>1.000000</td>\n",
       "      <td>1.000000</td>\n",
       "    </tr>\n",
       "  </tbody>\n",
       "</table>\n",
       "<p>8 rows × 194 columns</p>\n",
       "</div>"
      ],
      "text/plain": [
       "                 dur          spkts          dpkts        sbytes  \\\n",
       "count  175341.000000  175341.000000  175341.000000  1.753410e+05   \n",
       "mean        1.359389      20.298664      18.969591  8.844844e+03   \n",
       "std         6.480249     136.887597     110.258271  1.747656e+05   \n",
       "min         0.000000       1.000000       0.000000  2.800000e+01   \n",
       "25%         0.000008       2.000000       0.000000  1.140000e+02   \n",
       "50%         0.001582       2.000000       2.000000  4.300000e+02   \n",
       "75%         0.668069      12.000000      10.000000  1.418000e+03   \n",
       "max        59.999989    9616.000000   10974.000000  1.296523e+07   \n",
       "\n",
       "             dbytes          rate           sttl           dttl         sload  \\\n",
       "count  1.753410e+05  1.753410e+05  175341.000000  175341.000000  1.753410e+05   \n",
       "mean   1.492892e+04  9.540619e+04     179.546997      79.609567  7.345403e+07   \n",
       "std    1.436542e+05  1.654010e+05     102.940011     110.506863  1.883574e+08   \n",
       "min    0.000000e+00  0.000000e+00       0.000000       0.000000  0.000000e+00   \n",
       "25%    0.000000e+00  3.278614e+01      62.000000       0.000000  1.305334e+04   \n",
       "50%    1.640000e+02  3.225807e+03     254.000000      29.000000  8.796748e+05   \n",
       "75%    1.102000e+03  1.250000e+05     254.000000     252.000000  8.888889e+07   \n",
       "max    1.465555e+07  1.000000e+06     255.000000     254.000000  5.988000e+09   \n",
       "\n",
       "              dload  ...    service_ssl      state_CON      state_ECO  \\\n",
       "count  1.753410e+05  ...  175341.000000  175341.000000  175341.000000   \n",
       "mean   6.712056e+05  ...       0.000319       0.075008       0.000068   \n",
       "std    2.421312e+06  ...       0.017868       0.263405       0.008272   \n",
       "min    0.000000e+00  ...       0.000000       0.000000       0.000000   \n",
       "25%    0.000000e+00  ...       0.000000       0.000000       0.000000   \n",
       "50%    1.447023e+03  ...       0.000000       0.000000       0.000000   \n",
       "75%    2.784487e+04  ...       0.000000       0.000000       0.000000   \n",
       "max    2.242273e+07  ...       1.000000       1.000000       1.000000   \n",
       "\n",
       "           state_FIN      state_INT      state_PAR      state_REQ  \\\n",
       "count  175341.000000  175341.000000  175341.000000  175341.000000   \n",
       "mean        0.443849       0.469229       0.000006       0.011355   \n",
       "std         0.496839       0.499054       0.002388       0.105954   \n",
       "min         0.000000       0.000000       0.000000       0.000000   \n",
       "25%         0.000000       0.000000       0.000000       0.000000   \n",
       "50%         0.000000       0.000000       0.000000       0.000000   \n",
       "75%         1.000000       1.000000       0.000000       0.000000   \n",
       "max         1.000000       1.000000       1.000000       1.000000   \n",
       "\n",
       "           state_RST      state_URN       state_no  \n",
       "count  175341.000000  175341.000000  175341.000000  \n",
       "mean        0.000473       0.000006       0.000006  \n",
       "std         0.021752       0.002388       0.002388  \n",
       "min         0.000000       0.000000       0.000000  \n",
       "25%         0.000000       0.000000       0.000000  \n",
       "50%         0.000000       0.000000       0.000000  \n",
       "75%         0.000000       0.000000       0.000000  \n",
       "max         1.000000       1.000000       1.000000  \n",
       "\n",
       "[8 rows x 194 columns]"
      ]
     },
     "execution_count": 25,
     "metadata": {},
     "output_type": "execute_result"
    }
   ],
   "source": [
    "#training_data.describe().T\n",
    "training_data_onehot.describe()"
   ]
  },
  {
   "cell_type": "markdown",
   "id": "honest-command",
   "metadata": {},
   "source": [
    "We'll probably want to scale these features using normalization or standardization."
   ]
  },
  {
   "cell_type": "code",
   "execution_count": 26,
   "id": "metropolitan-american",
   "metadata": {},
   "outputs": [],
   "source": [
    "from sklearn import preprocessing\n",
    "training_scaler = preprocessing.StandardScaler().fit(training_data_onehot)\n",
    "#print(training_scaler.mean_)\n",
    "#print(training_scaler.scale_)"
   ]
  },
  {
   "cell_type": "code",
   "execution_count": 27,
   "id": "corresponding-corpus",
   "metadata": {},
   "outputs": [],
   "source": [
    "training_data_standardized = training_scaler.transform(training_data_onehot)\n",
    "#print(training_data_standardized)\n",
    "#print(training_data_standardized.mean(axis=0))"
   ]
  },
  {
   "cell_type": "code",
   "execution_count": 28,
   "id": "variable-penny",
   "metadata": {},
   "outputs": [
    {
     "name": "stdout",
     "output_type": "stream",
     "text": [
      "[1. 1. 1. 1. 1. 1. 1. 1. 1. 1. 1. 1. 1. 1. 1. 1. 1. 1. 1. 1. 1. 1. 1. 1.\n",
      " 1. 1. 1. 1. 1. 1. 1. 1. 1. 1. 1. 1. 1. 1. 1. 1. 1. 1. 1. 1. 1. 1. 1. 1.\n",
      " 1. 1. 1. 1. 1. 1. 1. 1. 1. 1. 1. 1. 1. 1. 1. 1. 1. 1. 1. 1. 1. 1. 1. 1.\n",
      " 1. 1. 1. 1. 1. 1. 1. 1. 1. 1. 1. 1. 1. 1. 1. 1. 1. 1. 1. 1. 1. 1. 1. 1.\n",
      " 1. 1. 1. 1. 1. 1. 1. 1. 1. 1. 1. 1. 1. 1. 1. 1. 1. 1. 1. 1. 1. 1. 1. 1.\n",
      " 1. 1. 1. 1. 1. 1. 1. 1. 1. 1. 1. 1. 1. 1. 1. 1. 1. 1. 1. 1. 1. 1. 1. 1.\n",
      " 1. 1. 1. 1. 1. 1. 1. 1. 1. 1. 1. 1. 1. 1. 1. 1. 1. 1. 1. 1. 1. 1. 1. 1.\n",
      " 1. 1. 1. 1. 1. 1. 1. 1. 1. 1. 1. 1. 1. 1. 1. 1. 1. 1. 1. 1. 1. 1. 1. 1.\n",
      " 1. 1.]\n"
     ]
    }
   ],
   "source": [
    "print(training_data_standardized.std(axis=0))"
   ]
  },
  {
   "cell_type": "code",
   "execution_count": 29,
   "id": "white-diploma",
   "metadata": {},
   "outputs": [],
   "source": [
    "training_data_std = pd.DataFrame(training_data_standardized, columns=training_data_onehot.columns)"
   ]
  },
  {
   "cell_type": "code",
   "execution_count": 30,
   "id": "stopped-oklahoma",
   "metadata": {},
   "outputs": [
    {
     "data": {
      "text/html": [
       "<div>\n",
       "<style scoped>\n",
       "    .dataframe tbody tr th:only-of-type {\n",
       "        vertical-align: middle;\n",
       "    }\n",
       "\n",
       "    .dataframe tbody tr th {\n",
       "        vertical-align: top;\n",
       "    }\n",
       "\n",
       "    .dataframe thead th {\n",
       "        text-align: right;\n",
       "    }\n",
       "</style>\n",
       "<table border=\"1\" class=\"dataframe\">\n",
       "  <thead>\n",
       "    <tr style=\"text-align: right;\">\n",
       "      <th></th>\n",
       "      <th>dur</th>\n",
       "      <th>spkts</th>\n",
       "      <th>dpkts</th>\n",
       "      <th>sbytes</th>\n",
       "      <th>dbytes</th>\n",
       "      <th>rate</th>\n",
       "      <th>sttl</th>\n",
       "      <th>dttl</th>\n",
       "      <th>sload</th>\n",
       "      <th>dload</th>\n",
       "      <th>...</th>\n",
       "      <th>service_ssl</th>\n",
       "      <th>state_CON</th>\n",
       "      <th>state_ECO</th>\n",
       "      <th>state_FIN</th>\n",
       "      <th>state_INT</th>\n",
       "      <th>state_PAR</th>\n",
       "      <th>state_REQ</th>\n",
       "      <th>state_RST</th>\n",
       "      <th>state_URN</th>\n",
       "      <th>state_no</th>\n",
       "    </tr>\n",
       "  </thead>\n",
       "  <tbody>\n",
       "    <tr>\n",
       "      <th>count</th>\n",
       "      <td>1.753410e+05</td>\n",
       "      <td>1.753410e+05</td>\n",
       "      <td>1.753410e+05</td>\n",
       "      <td>1.753410e+05</td>\n",
       "      <td>1.753410e+05</td>\n",
       "      <td>1.753410e+05</td>\n",
       "      <td>1.753410e+05</td>\n",
       "      <td>1.753410e+05</td>\n",
       "      <td>1.753410e+05</td>\n",
       "      <td>1.753410e+05</td>\n",
       "      <td>...</td>\n",
       "      <td>1.753410e+05</td>\n",
       "      <td>1.753410e+05</td>\n",
       "      <td>1.753410e+05</td>\n",
       "      <td>1.753410e+05</td>\n",
       "      <td>1.753410e+05</td>\n",
       "      <td>1.753410e+05</td>\n",
       "      <td>1.753410e+05</td>\n",
       "      <td>1.753410e+05</td>\n",
       "      <td>1.753410e+05</td>\n",
       "      <td>1.753410e+05</td>\n",
       "    </tr>\n",
       "    <tr>\n",
       "      <th>mean</th>\n",
       "      <td>-3.241878e-18</td>\n",
       "      <td>-1.426426e-17</td>\n",
       "      <td>5.187005e-18</td>\n",
       "      <td>-1.053610e-18</td>\n",
       "      <td>1.410217e-17</td>\n",
       "      <td>-3.241878e-17</td>\n",
       "      <td>-1.607972e-16</td>\n",
       "      <td>-1.141141e-16</td>\n",
       "      <td>1.167076e-17</td>\n",
       "      <td>-6.872782e-17</td>\n",
       "      <td>...</td>\n",
       "      <td>5.592240e-18</td>\n",
       "      <td>-3.112203e-17</td>\n",
       "      <td>-4.639938e-18</td>\n",
       "      <td>9.855310e-17</td>\n",
       "      <td>6.483757e-17</td>\n",
       "      <td>-1.347406e-18</td>\n",
       "      <td>3.930777e-18</td>\n",
       "      <td>-2.917690e-18</td>\n",
       "      <td>7.902078e-19</td>\n",
       "      <td>7.902078e-19</td>\n",
       "    </tr>\n",
       "    <tr>\n",
       "      <th>std</th>\n",
       "      <td>1.000003e+00</td>\n",
       "      <td>1.000003e+00</td>\n",
       "      <td>1.000003e+00</td>\n",
       "      <td>1.000003e+00</td>\n",
       "      <td>1.000003e+00</td>\n",
       "      <td>1.000003e+00</td>\n",
       "      <td>1.000003e+00</td>\n",
       "      <td>1.000003e+00</td>\n",
       "      <td>1.000003e+00</td>\n",
       "      <td>1.000003e+00</td>\n",
       "      <td>...</td>\n",
       "      <td>1.000003e+00</td>\n",
       "      <td>1.000003e+00</td>\n",
       "      <td>1.000003e+00</td>\n",
       "      <td>1.000003e+00</td>\n",
       "      <td>1.000003e+00</td>\n",
       "      <td>1.000003e+00</td>\n",
       "      <td>1.000003e+00</td>\n",
       "      <td>1.000003e+00</td>\n",
       "      <td>1.000003e+00</td>\n",
       "      <td>1.000003e+00</td>\n",
       "    </tr>\n",
       "    <tr>\n",
       "      <th>min</th>\n",
       "      <td>-2.097747e-01</td>\n",
       "      <td>-1.409822e-01</td>\n",
       "      <td>-1.720474e-01</td>\n",
       "      <td>-5.044967e-02</td>\n",
       "      <td>-1.039229e-01</td>\n",
       "      <td>-5.768192e-01</td>\n",
       "      <td>-1.744196e+00</td>\n",
       "      <td>-7.204059e-01</td>\n",
       "      <td>-3.899726e-01</td>\n",
       "      <td>-2.772081e-01</td>\n",
       "      <td>...</td>\n",
       "      <td>-1.787400e-02</td>\n",
       "      <td>-2.847641e-01</td>\n",
       "      <td>-8.273014e-03</td>\n",
       "      <td>-8.933500e-01</td>\n",
       "      <td>-9.402393e-01</td>\n",
       "      <td>-2.388138e-03</td>\n",
       "      <td>-1.071701e-01</td>\n",
       "      <td>-2.176207e-02</td>\n",
       "      <td>-2.388138e-03</td>\n",
       "      <td>-2.388138e-03</td>\n",
       "    </tr>\n",
       "    <tr>\n",
       "      <th>25%</th>\n",
       "      <td>-2.097735e-01</td>\n",
       "      <td>-1.336769e-01</td>\n",
       "      <td>-1.720474e-01</td>\n",
       "      <td>-4.995758e-02</td>\n",
       "      <td>-1.039229e-01</td>\n",
       "      <td>-5.766210e-01</td>\n",
       "      <td>-1.141901e+00</td>\n",
       "      <td>-7.204059e-01</td>\n",
       "      <td>-3.899033e-01</td>\n",
       "      <td>-2.772081e-01</td>\n",
       "      <td>...</td>\n",
       "      <td>-1.787400e-02</td>\n",
       "      <td>-2.847641e-01</td>\n",
       "      <td>-8.273014e-03</td>\n",
       "      <td>-8.933500e-01</td>\n",
       "      <td>-9.402393e-01</td>\n",
       "      <td>-2.388138e-03</td>\n",
       "      <td>-1.071701e-01</td>\n",
       "      <td>-2.176207e-02</td>\n",
       "      <td>-2.388138e-03</td>\n",
       "      <td>-2.388138e-03</td>\n",
       "    </tr>\n",
       "    <tr>\n",
       "      <th>50%</th>\n",
       "      <td>-2.095306e-01</td>\n",
       "      <td>-1.336769e-01</td>\n",
       "      <td>-1.539081e-01</td>\n",
       "      <td>-4.814944e-02</td>\n",
       "      <td>-1.027813e-01</td>\n",
       "      <td>-5.573162e-01</td>\n",
       "      <td>7.232680e-01</td>\n",
       "      <td>-4.579780e-01</td>\n",
       "      <td>-3.853023e-01</td>\n",
       "      <td>-2.766105e-01</td>\n",
       "      <td>...</td>\n",
       "      <td>-1.787400e-02</td>\n",
       "      <td>-2.847641e-01</td>\n",
       "      <td>-8.273014e-03</td>\n",
       "      <td>-8.933500e-01</td>\n",
       "      <td>-9.402393e-01</td>\n",
       "      <td>-2.388138e-03</td>\n",
       "      <td>-1.071701e-01</td>\n",
       "      <td>-2.176207e-02</td>\n",
       "      <td>-2.388138e-03</td>\n",
       "      <td>-2.388138e-03</td>\n",
       "    </tr>\n",
       "    <tr>\n",
       "      <th>75%</th>\n",
       "      <td>-1.066813e-01</td>\n",
       "      <td>-6.062410e-02</td>\n",
       "      <td>-8.135096e-02</td>\n",
       "      <td>-4.249614e-02</td>\n",
       "      <td>-9.625167e-02</td>\n",
       "      <td>1.789221e-01</td>\n",
       "      <td>7.232680e-01</td>\n",
       "      <td>1.560002e+00</td>\n",
       "      <td>8.194472e-02</td>\n",
       "      <td>-2.657082e-01</td>\n",
       "      <td>...</td>\n",
       "      <td>-1.787400e-02</td>\n",
       "      <td>-2.847641e-01</td>\n",
       "      <td>-8.273014e-03</td>\n",
       "      <td>1.119382e+00</td>\n",
       "      <td>1.063559e+00</td>\n",
       "      <td>-2.388138e-03</td>\n",
       "      <td>-1.071701e-01</td>\n",
       "      <td>-2.176207e-02</td>\n",
       "      <td>-2.388138e-03</td>\n",
       "      <td>-2.388138e-03</td>\n",
       "    </tr>\n",
       "    <tr>\n",
       "      <th>max</th>\n",
       "      <td>9.049154e+00</td>\n",
       "      <td>7.009933e+01</td>\n",
       "      <td>9.935819e+01</td>\n",
       "      <td>7.413600e+01</td>\n",
       "      <td>1.019160e+02</td>\n",
       "      <td>5.469112e+00</td>\n",
       "      <td>7.329824e-01</td>\n",
       "      <td>1.578100e+00</td>\n",
       "      <td>3.140074e+01</td>\n",
       "      <td>8.983387e+00</td>\n",
       "      <td>...</td>\n",
       "      <td>5.594720e+01</td>\n",
       "      <td>3.511679e+00</td>\n",
       "      <td>1.208749e+02</td>\n",
       "      <td>1.119382e+00</td>\n",
       "      <td>1.063559e+00</td>\n",
       "      <td>4.187362e+02</td>\n",
       "      <td>9.330959e+00</td>\n",
       "      <td>4.595152e+01</td>\n",
       "      <td>4.187362e+02</td>\n",
       "      <td>4.187362e+02</td>\n",
       "    </tr>\n",
       "  </tbody>\n",
       "</table>\n",
       "<p>8 rows × 194 columns</p>\n",
       "</div>"
      ],
      "text/plain": [
       "                dur         spkts         dpkts        sbytes        dbytes  \\\n",
       "count  1.753410e+05  1.753410e+05  1.753410e+05  1.753410e+05  1.753410e+05   \n",
       "mean  -3.241878e-18 -1.426426e-17  5.187005e-18 -1.053610e-18  1.410217e-17   \n",
       "std    1.000003e+00  1.000003e+00  1.000003e+00  1.000003e+00  1.000003e+00   \n",
       "min   -2.097747e-01 -1.409822e-01 -1.720474e-01 -5.044967e-02 -1.039229e-01   \n",
       "25%   -2.097735e-01 -1.336769e-01 -1.720474e-01 -4.995758e-02 -1.039229e-01   \n",
       "50%   -2.095306e-01 -1.336769e-01 -1.539081e-01 -4.814944e-02 -1.027813e-01   \n",
       "75%   -1.066813e-01 -6.062410e-02 -8.135096e-02 -4.249614e-02 -9.625167e-02   \n",
       "max    9.049154e+00  7.009933e+01  9.935819e+01  7.413600e+01  1.019160e+02   \n",
       "\n",
       "               rate          sttl          dttl         sload         dload  \\\n",
       "count  1.753410e+05  1.753410e+05  1.753410e+05  1.753410e+05  1.753410e+05   \n",
       "mean  -3.241878e-17 -1.607972e-16 -1.141141e-16  1.167076e-17 -6.872782e-17   \n",
       "std    1.000003e+00  1.000003e+00  1.000003e+00  1.000003e+00  1.000003e+00   \n",
       "min   -5.768192e-01 -1.744196e+00 -7.204059e-01 -3.899726e-01 -2.772081e-01   \n",
       "25%   -5.766210e-01 -1.141901e+00 -7.204059e-01 -3.899033e-01 -2.772081e-01   \n",
       "50%   -5.573162e-01  7.232680e-01 -4.579780e-01 -3.853023e-01 -2.766105e-01   \n",
       "75%    1.789221e-01  7.232680e-01  1.560002e+00  8.194472e-02 -2.657082e-01   \n",
       "max    5.469112e+00  7.329824e-01  1.578100e+00  3.140074e+01  8.983387e+00   \n",
       "\n",
       "       ...   service_ssl     state_CON     state_ECO     state_FIN  \\\n",
       "count  ...  1.753410e+05  1.753410e+05  1.753410e+05  1.753410e+05   \n",
       "mean   ...  5.592240e-18 -3.112203e-17 -4.639938e-18  9.855310e-17   \n",
       "std    ...  1.000003e+00  1.000003e+00  1.000003e+00  1.000003e+00   \n",
       "min    ... -1.787400e-02 -2.847641e-01 -8.273014e-03 -8.933500e-01   \n",
       "25%    ... -1.787400e-02 -2.847641e-01 -8.273014e-03 -8.933500e-01   \n",
       "50%    ... -1.787400e-02 -2.847641e-01 -8.273014e-03 -8.933500e-01   \n",
       "75%    ... -1.787400e-02 -2.847641e-01 -8.273014e-03  1.119382e+00   \n",
       "max    ...  5.594720e+01  3.511679e+00  1.208749e+02  1.119382e+00   \n",
       "\n",
       "          state_INT     state_PAR     state_REQ     state_RST     state_URN  \\\n",
       "count  1.753410e+05  1.753410e+05  1.753410e+05  1.753410e+05  1.753410e+05   \n",
       "mean   6.483757e-17 -1.347406e-18  3.930777e-18 -2.917690e-18  7.902078e-19   \n",
       "std    1.000003e+00  1.000003e+00  1.000003e+00  1.000003e+00  1.000003e+00   \n",
       "min   -9.402393e-01 -2.388138e-03 -1.071701e-01 -2.176207e-02 -2.388138e-03   \n",
       "25%   -9.402393e-01 -2.388138e-03 -1.071701e-01 -2.176207e-02 -2.388138e-03   \n",
       "50%   -9.402393e-01 -2.388138e-03 -1.071701e-01 -2.176207e-02 -2.388138e-03   \n",
       "75%    1.063559e+00 -2.388138e-03 -1.071701e-01 -2.176207e-02 -2.388138e-03   \n",
       "max    1.063559e+00  4.187362e+02  9.330959e+00  4.595152e+01  4.187362e+02   \n",
       "\n",
       "           state_no  \n",
       "count  1.753410e+05  \n",
       "mean   7.902078e-19  \n",
       "std    1.000003e+00  \n",
       "min   -2.388138e-03  \n",
       "25%   -2.388138e-03  \n",
       "50%   -2.388138e-03  \n",
       "75%   -2.388138e-03  \n",
       "max    4.187362e+02  \n",
       "\n",
       "[8 rows x 194 columns]"
      ]
     },
     "execution_count": 30,
     "metadata": {},
     "output_type": "execute_result"
    }
   ],
   "source": [
    "training_data_std.describe()"
   ]
  },
  {
   "cell_type": "markdown",
   "id": "conventional-exhaust",
   "metadata": {},
   "source": [
    "That should work better, the standard deviation for each feature is 1 and the mean is ~0.  \n",
    "But should the binary features not change?"
   ]
  },
  {
   "cell_type": "markdown",
   "id": "silent-constitutional",
   "metadata": {},
   "source": [
    "## Save transformed data sets for later?"
   ]
  },
  {
   "cell_type": "code",
   "execution_count": null,
   "id": "activated-theta",
   "metadata": {},
   "outputs": [],
   "source": []
  }
 ],
 "metadata": {
  "kernelspec": {
   "display_name": "Python 3",
   "language": "python",
   "name": "python3"
  },
  "language_info": {
   "codemirror_mode": {
    "name": "ipython",
    "version": 3
   },
   "file_extension": ".py",
   "mimetype": "text/x-python",
   "name": "python",
   "nbconvert_exporter": "python",
   "pygments_lexer": "ipython3",
   "version": "3.8.5"
  }
 },
 "nbformat": 4,
 "nbformat_minor": 5
}
