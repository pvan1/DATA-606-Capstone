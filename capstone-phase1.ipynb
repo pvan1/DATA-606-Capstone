{
 "cells": [
  {
   "cell_type": "markdown",
   "id": "bridal-colon",
   "metadata": {},
   "source": [
    "# Phase 1: Loading Data, Cleaning, Transformation, & Exploration"
   ]
  },
  {
   "cell_type": "code",
   "execution_count": 52,
   "id": "ultimate-formula",
   "metadata": {},
   "outputs": [],
   "source": [
    "import pandas as pd\n",
    "import numpy as np\n",
    "from zipfile import ZipFile\n",
    "\n",
    "import seaborn as sns\n",
    "import matplotlib.pyplot as plt\n",
    "%matplotlib inline"
   ]
  },
  {
   "cell_type": "markdown",
   "id": "wrong-abraham",
   "metadata": {},
   "source": [
    "### 1. Loading the Data"
   ]
  },
  {
   "cell_type": "markdown",
   "id": "shaped-uncertainty",
   "metadata": {},
   "source": [
    "The training data csv file was too big to upload to github, so I've uploaded the zip file containing the training and testing set files.  We'll need to extract those files from the zip so we can read them into DataFrames."
   ]
  },
  {
   "cell_type": "code",
   "execution_count": 45,
   "id": "dutch-waste",
   "metadata": {},
   "outputs": [],
   "source": [
    "with ZipFile('./Data/UNSW_NB15 training and testing sets.zip') as datasets_zip:\n",
    "    # open each file and read in to a DataFrame\n",
    "    with datasets_zip.open('UNSW_NB15_training-set.csv') as training_file:\n",
    "        training_data = pd.read_csv(training_file)\n",
    "    with datasets_zip.open('UNSW_NB15_testing-set.csv') as testing_file:\n",
    "        testing_data = pd.read_csv(testing_file)"
   ]
  },
  {
   "cell_type": "markdown",
   "id": "impaired-forestry",
   "metadata": {},
   "source": [
    "### 2. Inspecting the Data Structure"
   ]
  },
  {
   "cell_type": "markdown",
   "id": "dirty-timer",
   "metadata": {},
   "source": [
    "Check out `head`, `info`, `describe` and `hist`ograms to get an idea of what the data looks like."
   ]
  },
  {
   "cell_type": "code",
   "execution_count": 48,
   "id": "rubber-prefix",
   "metadata": {},
   "outputs": [
    {
     "name": "stdout",
     "output_type": "stream",
     "text": [
      "<class 'pandas.core.frame.DataFrame'>\n",
      "RangeIndex: 175341 entries, 0 to 175340\n",
      "Data columns (total 45 columns):\n",
      " #   Column             Non-Null Count   Dtype  \n",
      "---  ------             --------------   -----  \n",
      " 0   id                 175341 non-null  int64  \n",
      " 1   dur                175341 non-null  float64\n",
      " 2   proto              175341 non-null  object \n",
      " 3   service            175341 non-null  object \n",
      " 4   state              175341 non-null  object \n",
      " 5   spkts              175341 non-null  int64  \n",
      " 6   dpkts              175341 non-null  int64  \n",
      " 7   sbytes             175341 non-null  int64  \n",
      " 8   dbytes             175341 non-null  int64  \n",
      " 9   rate               175341 non-null  float64\n",
      " 10  sttl               175341 non-null  int64  \n",
      " 11  dttl               175341 non-null  int64  \n",
      " 12  sload              175341 non-null  float64\n",
      " 13  dload              175341 non-null  float64\n",
      " 14  sloss              175341 non-null  int64  \n",
      " 15  dloss              175341 non-null  int64  \n",
      " 16  sinpkt             175341 non-null  float64\n",
      " 17  dinpkt             175341 non-null  float64\n",
      " 18  sjit               175341 non-null  float64\n",
      " 19  djit               175341 non-null  float64\n",
      " 20  swin               175341 non-null  int64  \n",
      " 21  stcpb              175341 non-null  int64  \n",
      " 22  dtcpb              175341 non-null  int64  \n",
      " 23  dwin               175341 non-null  int64  \n",
      " 24  tcprtt             175341 non-null  float64\n",
      " 25  synack             175341 non-null  float64\n",
      " 26  ackdat             175341 non-null  float64\n",
      " 27  smean              175341 non-null  int64  \n",
      " 28  dmean              175341 non-null  int64  \n",
      " 29  trans_depth        175341 non-null  int64  \n",
      " 30  response_body_len  175341 non-null  int64  \n",
      " 31  ct_srv_src         175341 non-null  int64  \n",
      " 32  ct_state_ttl       175341 non-null  int64  \n",
      " 33  ct_dst_ltm         175341 non-null  int64  \n",
      " 34  ct_src_dport_ltm   175341 non-null  int64  \n",
      " 35  ct_dst_sport_ltm   175341 non-null  int64  \n",
      " 36  ct_dst_src_ltm     175341 non-null  int64  \n",
      " 37  is_ftp_login       175341 non-null  int64  \n",
      " 38  ct_ftp_cmd         175341 non-null  int64  \n",
      " 39  ct_flw_http_mthd   175341 non-null  int64  \n",
      " 40  ct_src_ltm         175341 non-null  int64  \n",
      " 41  ct_srv_dst         175341 non-null  int64  \n",
      " 42  is_sm_ips_ports    175341 non-null  int64  \n",
      " 43  attack_cat         175341 non-null  object \n",
      " 44  label              175341 non-null  int64  \n",
      "dtypes: float64(11), int64(30), object(4)\n",
      "memory usage: 60.2+ MB\n",
      "None\n"
     ]
    }
   ],
   "source": [
    "#training_file = './data/UNSW_NB15_training-set.csv'\n",
    "#training_data = pd.read_csv(training_file)\n",
    "print(training_data.info())"
   ]
  },
  {
   "cell_type": "code",
   "execution_count": 5,
   "id": "attempted-thomson",
   "metadata": {},
   "outputs": [
    {
     "data": {
      "text/plain": [
       "0"
      ]
     },
     "execution_count": 5,
     "metadata": {},
     "output_type": "execute_result"
    }
   ],
   "source": [
    "training_data.isnull().values.sum()"
   ]
  },
  {
   "cell_type": "markdown",
   "id": "centered-exclusive",
   "metadata": {},
   "source": [
    "OK, it looks like we've got 175,341 entries and no null values in any column.\n",
    "There are 44 columns, but I think there should be a few more, so let's investigate that in a minute."
   ]
  },
  {
   "cell_type": "markdown",
   "id": "palestinian-market",
   "metadata": {},
   "source": [
    "I might want to think about renaming these columns to something more readable."
   ]
  },
  {
   "cell_type": "code",
   "execution_count": 3,
   "id": "million-brain",
   "metadata": {},
   "outputs": [
    {
     "data": {
      "text/html": [
       "<div>\n",
       "<style scoped>\n",
       "    .dataframe tbody tr th:only-of-type {\n",
       "        vertical-align: middle;\n",
       "    }\n",
       "\n",
       "    .dataframe tbody tr th {\n",
       "        vertical-align: top;\n",
       "    }\n",
       "\n",
       "    .dataframe thead th {\n",
       "        text-align: right;\n",
       "    }\n",
       "</style>\n",
       "<table border=\"1\" class=\"dataframe\">\n",
       "  <thead>\n",
       "    <tr style=\"text-align: right;\">\n",
       "      <th></th>\n",
       "      <th>id</th>\n",
       "      <th>dur</th>\n",
       "      <th>proto</th>\n",
       "      <th>service</th>\n",
       "      <th>state</th>\n",
       "      <th>spkts</th>\n",
       "      <th>dpkts</th>\n",
       "      <th>sbytes</th>\n",
       "      <th>dbytes</th>\n",
       "      <th>rate</th>\n",
       "      <th>...</th>\n",
       "      <th>ct_dst_sport_ltm</th>\n",
       "      <th>ct_dst_src_ltm</th>\n",
       "      <th>is_ftp_login</th>\n",
       "      <th>ct_ftp_cmd</th>\n",
       "      <th>ct_flw_http_mthd</th>\n",
       "      <th>ct_src_ltm</th>\n",
       "      <th>ct_srv_dst</th>\n",
       "      <th>is_sm_ips_ports</th>\n",
       "      <th>attack_cat</th>\n",
       "      <th>label</th>\n",
       "    </tr>\n",
       "  </thead>\n",
       "  <tbody>\n",
       "    <tr>\n",
       "      <th>0</th>\n",
       "      <td>1</td>\n",
       "      <td>0.121478</td>\n",
       "      <td>tcp</td>\n",
       "      <td>-</td>\n",
       "      <td>FIN</td>\n",
       "      <td>6</td>\n",
       "      <td>4</td>\n",
       "      <td>258</td>\n",
       "      <td>172</td>\n",
       "      <td>74.087490</td>\n",
       "      <td>...</td>\n",
       "      <td>1</td>\n",
       "      <td>1</td>\n",
       "      <td>0</td>\n",
       "      <td>0</td>\n",
       "      <td>0</td>\n",
       "      <td>1</td>\n",
       "      <td>1</td>\n",
       "      <td>0</td>\n",
       "      <td>Normal</td>\n",
       "      <td>0</td>\n",
       "    </tr>\n",
       "    <tr>\n",
       "      <th>1</th>\n",
       "      <td>2</td>\n",
       "      <td>0.649902</td>\n",
       "      <td>tcp</td>\n",
       "      <td>-</td>\n",
       "      <td>FIN</td>\n",
       "      <td>14</td>\n",
       "      <td>38</td>\n",
       "      <td>734</td>\n",
       "      <td>42014</td>\n",
       "      <td>78.473372</td>\n",
       "      <td>...</td>\n",
       "      <td>1</td>\n",
       "      <td>2</td>\n",
       "      <td>0</td>\n",
       "      <td>0</td>\n",
       "      <td>0</td>\n",
       "      <td>1</td>\n",
       "      <td>6</td>\n",
       "      <td>0</td>\n",
       "      <td>Normal</td>\n",
       "      <td>0</td>\n",
       "    </tr>\n",
       "    <tr>\n",
       "      <th>2</th>\n",
       "      <td>3</td>\n",
       "      <td>1.623129</td>\n",
       "      <td>tcp</td>\n",
       "      <td>-</td>\n",
       "      <td>FIN</td>\n",
       "      <td>8</td>\n",
       "      <td>16</td>\n",
       "      <td>364</td>\n",
       "      <td>13186</td>\n",
       "      <td>14.170161</td>\n",
       "      <td>...</td>\n",
       "      <td>1</td>\n",
       "      <td>3</td>\n",
       "      <td>0</td>\n",
       "      <td>0</td>\n",
       "      <td>0</td>\n",
       "      <td>2</td>\n",
       "      <td>6</td>\n",
       "      <td>0</td>\n",
       "      <td>Normal</td>\n",
       "      <td>0</td>\n",
       "    </tr>\n",
       "    <tr>\n",
       "      <th>3</th>\n",
       "      <td>4</td>\n",
       "      <td>1.681642</td>\n",
       "      <td>tcp</td>\n",
       "      <td>ftp</td>\n",
       "      <td>FIN</td>\n",
       "      <td>12</td>\n",
       "      <td>12</td>\n",
       "      <td>628</td>\n",
       "      <td>770</td>\n",
       "      <td>13.677108</td>\n",
       "      <td>...</td>\n",
       "      <td>1</td>\n",
       "      <td>3</td>\n",
       "      <td>1</td>\n",
       "      <td>1</td>\n",
       "      <td>0</td>\n",
       "      <td>2</td>\n",
       "      <td>1</td>\n",
       "      <td>0</td>\n",
       "      <td>Normal</td>\n",
       "      <td>0</td>\n",
       "    </tr>\n",
       "    <tr>\n",
       "      <th>4</th>\n",
       "      <td>5</td>\n",
       "      <td>0.449454</td>\n",
       "      <td>tcp</td>\n",
       "      <td>-</td>\n",
       "      <td>FIN</td>\n",
       "      <td>10</td>\n",
       "      <td>6</td>\n",
       "      <td>534</td>\n",
       "      <td>268</td>\n",
       "      <td>33.373826</td>\n",
       "      <td>...</td>\n",
       "      <td>1</td>\n",
       "      <td>40</td>\n",
       "      <td>0</td>\n",
       "      <td>0</td>\n",
       "      <td>0</td>\n",
       "      <td>2</td>\n",
       "      <td>39</td>\n",
       "      <td>0</td>\n",
       "      <td>Normal</td>\n",
       "      <td>0</td>\n",
       "    </tr>\n",
       "  </tbody>\n",
       "</table>\n",
       "<p>5 rows × 45 columns</p>\n",
       "</div>"
      ],
      "text/plain": [
       "   id       dur proto service state  spkts  dpkts  sbytes  dbytes       rate  \\\n",
       "0   1  0.121478   tcp       -   FIN      6      4     258     172  74.087490   \n",
       "1   2  0.649902   tcp       -   FIN     14     38     734   42014  78.473372   \n",
       "2   3  1.623129   tcp       -   FIN      8     16     364   13186  14.170161   \n",
       "3   4  1.681642   tcp     ftp   FIN     12     12     628     770  13.677108   \n",
       "4   5  0.449454   tcp       -   FIN     10      6     534     268  33.373826   \n",
       "\n",
       "   ...  ct_dst_sport_ltm  ct_dst_src_ltm  is_ftp_login  ct_ftp_cmd  \\\n",
       "0  ...                 1               1             0           0   \n",
       "1  ...                 1               2             0           0   \n",
       "2  ...                 1               3             0           0   \n",
       "3  ...                 1               3             1           1   \n",
       "4  ...                 1              40             0           0   \n",
       "\n",
       "   ct_flw_http_mthd  ct_src_ltm  ct_srv_dst  is_sm_ips_ports  attack_cat  \\\n",
       "0                 0           1           1                0      Normal   \n",
       "1                 0           1           6                0      Normal   \n",
       "2                 0           2           6                0      Normal   \n",
       "3                 0           2           1                0      Normal   \n",
       "4                 0           2          39                0      Normal   \n",
       "\n",
       "   label  \n",
       "0      0  \n",
       "1      0  \n",
       "2      0  \n",
       "3      0  \n",
       "4      0  \n",
       "\n",
       "[5 rows x 45 columns]"
      ]
     },
     "execution_count": 3,
     "metadata": {},
     "output_type": "execute_result"
    }
   ],
   "source": [
    "training_data.head()"
   ]
  },
  {
   "cell_type": "markdown",
   "id": "talented-square",
   "metadata": {},
   "source": [
    "Here we can see that the 4 object type features (*proto*, *service*, *state*, and *attack_cat*) appear to be Strings.  \n",
    "*attack_cat* is the class we want to learn, factorizing may be a good option for that (one-hot encoding of y labels should use scikit learn `LabelBinarizer`).  \n",
    "*Label* is either 0 or 1, indicating benign or malicious."
   ]
  },
  {
   "cell_type": "markdown",
   "id": "sitting-extent",
   "metadata": {},
   "source": [
    "Let's see how many classes there are."
   ]
  },
  {
   "cell_type": "code",
   "execution_count": 4,
   "id": "alone-attempt",
   "metadata": {},
   "outputs": [
    {
     "name": "stdout",
     "output_type": "stream",
     "text": [
      "There are 10 unique values.\n",
      "Categories: ['Normal' 'Backdoor' 'Analysis' 'Fuzzers' 'Shellcode' 'Reconnaissance'\n",
      " 'Exploits' 'DoS' 'Worms' 'Generic']\n"
     ]
    }
   ],
   "source": [
    "print(\"There are\", training_data['attack_cat'].nunique(), \"unique values.\")\n",
    "print(\"Categories:\", training_data['attack_cat'].unique())"
   ]
  },
  {
   "cell_type": "markdown",
   "id": "reported-magnet",
   "metadata": {},
   "source": [
    "OK, it looks like 9 classes of Malware, plus 'Normal' benign activity.\n",
    "Maybe we can convert the classes to category type and order them so we can look for correlations with other features.  Or we can just convert them to an integer sequence instead."
   ]
  },
  {
   "cell_type": "code",
   "execution_count": 49,
   "id": "greatest-reservation",
   "metadata": {},
   "outputs": [],
   "source": [
    "# I don't think changing dtype to 'category' is the best way to accomplish the goal\n",
    "#training_data['attack_cat'] = training_data['attack_cat'].astype('category')\n",
    "#training_data.info()"
   ]
  },
  {
   "cell_type": "markdown",
   "id": "general-peace",
   "metadata": {},
   "source": [
    "Let's see what those other objects are all about."
   ]
  },
  {
   "cell_type": "code",
   "execution_count": 6,
   "id": "humanitarian-elephant",
   "metadata": {},
   "outputs": [
    {
     "name": "stdout",
     "output_type": "stream",
     "text": [
      "There are 133 unique values.\n",
      "Protocols: ['tcp' 'udp' 'arp' 'ospf' 'icmp' 'igmp' 'rtp' 'ddp' 'ipv6-frag' 'cftp'\n",
      " 'wsn' 'pvp' 'wb-expak' 'mtp' 'pri-enc' 'sat-mon' 'cphb' 'sun-nd' 'iso-ip'\n",
      " 'xtp' 'il' 'unas' 'mfe-nsp' '3pc' 'ipv6-route' 'idrp' 'bna' 'swipe'\n",
      " 'kryptolan' 'cpnx' 'rsvp' 'wb-mon' 'vmtp' 'ib' 'dgp' 'eigrp' 'ax.25'\n",
      " 'gmtp' 'pnni' 'sep' 'pgm' 'idpr-cmtp' 'zero' 'rvd' 'mobile' 'narp' 'fc'\n",
      " 'pipe' 'ipcomp' 'ipv6-no' 'sat-expak' 'ipv6-opts' 'snp' 'ipcv'\n",
      " 'br-sat-mon' 'ttp' 'tcf' 'nsfnet-igp' 'sprite-rpc' 'aes-sp3-d' 'sccopmce'\n",
      " 'sctp' 'qnx' 'scps' 'etherip' 'aris' 'pim' 'compaq-peer' 'vrrp' 'iatp'\n",
      " 'stp' 'l2tp' 'srp' 'sm' 'isis' 'smp' 'fire' 'ptp' 'crtp' 'sps'\n",
      " 'merit-inp' 'idpr' 'skip' 'any' 'larp' 'ipip' 'micp' 'encap' 'ifmp'\n",
      " 'tp++' 'a/n' 'ipv6' 'i-nlsp' 'ipx-n-ip' 'sdrp' 'tlsp' 'gre' 'mhrp' 'ddx'\n",
      " 'ippc' 'visa' 'secure-vmtp' 'uti' 'vines' 'crudp' 'iplt' 'ggp' 'ip'\n",
      " 'ipnip' 'st2' 'argus' 'bbn-rcc' 'egp' 'emcon' 'igp' 'nvp' 'pup' 'xnet'\n",
      " 'chaos' 'mux' 'dcn' 'hmp' 'prm' 'trunk-1' 'xns-idp' 'leaf-1' 'leaf-2'\n",
      " 'rdp' 'irtp' 'iso-tp4' 'netblt' 'trunk-2' 'cbt']\n"
     ]
    }
   ],
   "source": [
    "print(\"There are\", training_data['proto'].nunique(), \"unique values.\")\n",
    "print(\"Protocols:\", training_data['proto'].unique())"
   ]
  },
  {
   "cell_type": "code",
   "execution_count": 7,
   "id": "modern-barcelona",
   "metadata": {},
   "outputs": [
    {
     "name": "stdout",
     "output_type": "stream",
     "text": [
      "There are 13 unique values.\n",
      "Services: ['-' 'ftp' 'smtp' 'snmp' 'http' 'ftp-data' 'dns' 'ssh' 'radius' 'pop3'\n",
      " 'dhcp' 'ssl' 'irc']\n"
     ]
    }
   ],
   "source": [
    "print(\"There are\", training_data['service'].nunique(), \"unique values.\")\n",
    "print(\"Services:\", training_data['service'].unique())"
   ]
  },
  {
   "cell_type": "code",
   "execution_count": 8,
   "id": "monetary-buffalo",
   "metadata": {},
   "outputs": [
    {
     "name": "stdout",
     "output_type": "stream",
     "text": [
      "There are 9 unique values.\n",
      "State: ['FIN' 'INT' 'CON' 'ECO' 'REQ' 'RST' 'PAR' 'URN' 'no']\n"
     ]
    }
   ],
   "source": [
    "print(\"There are\", training_data['state'].nunique(), \"unique values.\")\n",
    "print(\"State:\", training_data['state'].unique())"
   ]
  },
  {
   "cell_type": "markdown",
   "id": "arranged-volume",
   "metadata": {},
   "source": [
    "This gives us an idea of what kind of network traffic data we're working with."
   ]
  },
  {
   "cell_type": "markdown",
   "id": "happy-seminar",
   "metadata": {},
   "source": [
    "Let's look at some histograms of the numeric features."
   ]
  },
  {
   "cell_type": "code",
   "execution_count": 54,
   "id": "framed-science",
   "metadata": {},
   "outputs": [
    {
     "data": {
      "image/png": "[encoded data removed]",
      "text/plain": [
       "<Figure size 1440x1080 with 42 Axes>"
      ]
     },
     "metadata": {},
     "output_type": "display_data"
    }
   ],
   "source": [
    "#%matplotlib inline # moved to top of notebook with imports\n",
    "training_data.hist(figsize=(20,15))\n",
    "plt.show()"
   ]
  },
  {
   "cell_type": "markdown",
   "id": "retained-helmet",
   "metadata": {},
   "source": [
    "### 3. Looking for Correlations and Visualizing"
   ]
  },
  {
   "cell_type": "markdown",
   "id": "outer-sunset",
   "metadata": {},
   "source": [
    "For training the ML models, we'll want to separate the class labels from the rest of the data.  But for investigating correlations, we'll want to include the labels."
   ]
  },
  {
   "cell_type": "markdown",
   "id": "bottom-balance",
   "metadata": {},
   "source": [
    "### 4. ML prep"
   ]
  },
  {
   "cell_type": "markdown",
   "id": "loaded-reservoir",
   "metadata": {},
   "source": [
    "#### 4.1 Separate labels"
   ]
  },
  {
   "cell_type": "markdown",
   "id": "wicked-fighter",
   "metadata": {},
   "source": [
    "Let's separate out the labels from the predicting features.  \n",
    "*Should happen before handling categorical data and feature scaling.*"
   ]
  },
  {
   "cell_type": "code",
   "execution_count": 34,
   "id": "blind-actress",
   "metadata": {},
   "outputs": [],
   "source": [
    "training = training_data.drop('label', axis=1) # what about attack_cat ?\n",
    "training_labels = training_data['label'].copy()"
   ]
  },
  {
   "cell_type": "code",
   "execution_count": 38,
   "id": "commercial-click",
   "metadata": {},
   "outputs": [
    {
     "name": "stdout",
     "output_type": "stream",
     "text": [
      "<class 'pandas.core.frame.DataFrame'>\n",
      "RangeIndex: 175341 entries, 0 to 175340\n",
      "Data columns (total 44 columns):\n",
      " #   Column             Non-Null Count   Dtype  \n",
      "---  ------             --------------   -----  \n",
      " 0   id                 175341 non-null  int64  \n",
      " 1   dur                175341 non-null  float64\n",
      " 2   proto              175341 non-null  object \n",
      " 3   service            175341 non-null  object \n",
      " 4   state              175341 non-null  object \n",
      " 5   spkts              175341 non-null  int64  \n",
      " 6   dpkts              175341 non-null  int64  \n",
      " 7   sbytes             175341 non-null  int64  \n",
      " 8   dbytes             175341 non-null  int64  \n",
      " 9   rate               175341 non-null  float64\n",
      " 10  sttl               175341 non-null  int64  \n",
      " 11  dttl               175341 non-null  int64  \n",
      " 12  sload              175341 non-null  float64\n",
      " 13  dload              175341 non-null  float64\n",
      " 14  sloss              175341 non-null  int64  \n",
      " 15  dloss              175341 non-null  int64  \n",
      " 16  sinpkt             175341 non-null  float64\n",
      " 17  dinpkt             175341 non-null  float64\n",
      " 18  sjit               175341 non-null  float64\n",
      " 19  djit               175341 non-null  float64\n",
      " 20  swin               175341 non-null  int64  \n",
      " 21  stcpb              175341 non-null  int64  \n",
      " 22  dtcpb              175341 non-null  int64  \n",
      " 23  dwin               175341 non-null  int64  \n",
      " 24  tcprtt             175341 non-null  float64\n",
      " 25  synack             175341 non-null  float64\n",
      " 26  ackdat             175341 non-null  float64\n",
      " 27  smean              175341 non-null  int64  \n",
      " 28  dmean              175341 non-null  int64  \n",
      " 29  trans_depth        175341 non-null  int64  \n",
      " 30  response_body_len  175341 non-null  int64  \n",
      " 31  ct_srv_src         175341 non-null  int64  \n",
      " 32  ct_state_ttl       175341 non-null  int64  \n",
      " 33  ct_dst_ltm         175341 non-null  int64  \n",
      " 34  ct_src_dport_ltm   175341 non-null  int64  \n",
      " 35  ct_dst_sport_ltm   175341 non-null  int64  \n",
      " 36  ct_dst_src_ltm     175341 non-null  int64  \n",
      " 37  is_ftp_login       175341 non-null  int64  \n",
      " 38  ct_ftp_cmd         175341 non-null  int64  \n",
      " 39  ct_flw_http_mthd   175341 non-null  int64  \n",
      " 40  ct_src_ltm         175341 non-null  int64  \n",
      " 41  ct_srv_dst         175341 non-null  int64  \n",
      " 42  is_sm_ips_ports    175341 non-null  int64  \n",
      " 43  attack_cat         175341 non-null  object \n",
      "dtypes: float64(11), int64(29), object(4)\n",
      "memory usage: 58.9+ MB\n"
     ]
    }
   ],
   "source": [
    "training.info()"
   ]
  },
  {
   "cell_type": "code",
   "execution_count": 41,
   "id": "comparative-location",
   "metadata": {},
   "outputs": [
    {
     "data": {
      "text/plain": [
       "0         0\n",
       "1         0\n",
       "2         0\n",
       "3         0\n",
       "4         0\n",
       "         ..\n",
       "175336    1\n",
       "175337    1\n",
       "175338    1\n",
       "175339    1\n",
       "175340    1\n",
       "Name: label, Length: 175341, dtype: int64"
      ]
     },
     "execution_count": 41,
     "metadata": {},
     "output_type": "execute_result"
    }
   ],
   "source": [
    "training_labels"
   ]
  },
  {
   "cell_type": "markdown",
   "id": "quarterly-prize",
   "metadata": {},
   "source": [
    "#### 4.2 Transform Categorical Features"
   ]
  },
  {
   "cell_type": "markdown",
   "id": "duplicate-surveillance",
   "metadata": {},
   "source": [
    "Since these categorical features don't appear to have an inherent ordering, let's try encoding them as one-hot vectors for better ML performance."
   ]
  },
  {
   "cell_type": "code",
   "execution_count": 8,
   "id": "seasonal-jimmy",
   "metadata": {},
   "outputs": [
    {
     "data": {
      "text/html": [
       "<div>\n",
       "<style scoped>\n",
       "    .dataframe tbody tr th:only-of-type {\n",
       "        vertical-align: middle;\n",
       "    }\n",
       "\n",
       "    .dataframe tbody tr th {\n",
       "        vertical-align: top;\n",
       "    }\n",
       "\n",
       "    .dataframe thead th {\n",
       "        text-align: right;\n",
       "    }\n",
       "</style>\n",
       "<table border=\"1\" class=\"dataframe\">\n",
       "  <thead>\n",
       "    <tr style=\"text-align: right;\">\n",
       "      <th></th>\n",
       "      <th>id</th>\n",
       "      <th>dur</th>\n",
       "      <th>spkts</th>\n",
       "      <th>dpkts</th>\n",
       "      <th>sbytes</th>\n",
       "      <th>dbytes</th>\n",
       "      <th>rate</th>\n",
       "      <th>sttl</th>\n",
       "      <th>dttl</th>\n",
       "      <th>sload</th>\n",
       "      <th>...</th>\n",
       "      <th>service_ssl</th>\n",
       "      <th>state_CON</th>\n",
       "      <th>state_ECO</th>\n",
       "      <th>state_FIN</th>\n",
       "      <th>state_INT</th>\n",
       "      <th>state_PAR</th>\n",
       "      <th>state_REQ</th>\n",
       "      <th>state_RST</th>\n",
       "      <th>state_URN</th>\n",
       "      <th>state_no</th>\n",
       "    </tr>\n",
       "  </thead>\n",
       "  <tbody>\n",
       "    <tr>\n",
       "      <th>0</th>\n",
       "      <td>1</td>\n",
       "      <td>0.121478</td>\n",
       "      <td>6</td>\n",
       "      <td>4</td>\n",
       "      <td>258</td>\n",
       "      <td>172</td>\n",
       "      <td>74.087490</td>\n",
       "      <td>252</td>\n",
       "      <td>254</td>\n",
       "      <td>14158.942380</td>\n",
       "      <td>...</td>\n",
       "      <td>0</td>\n",
       "      <td>0</td>\n",
       "      <td>0</td>\n",
       "      <td>1</td>\n",
       "      <td>0</td>\n",
       "      <td>0</td>\n",
       "      <td>0</td>\n",
       "      <td>0</td>\n",
       "      <td>0</td>\n",
       "      <td>0</td>\n",
       "    </tr>\n",
       "    <tr>\n",
       "      <th>1</th>\n",
       "      <td>2</td>\n",
       "      <td>0.649902</td>\n",
       "      <td>14</td>\n",
       "      <td>38</td>\n",
       "      <td>734</td>\n",
       "      <td>42014</td>\n",
       "      <td>78.473372</td>\n",
       "      <td>62</td>\n",
       "      <td>252</td>\n",
       "      <td>8395.112305</td>\n",
       "      <td>...</td>\n",
       "      <td>0</td>\n",
       "      <td>0</td>\n",
       "      <td>0</td>\n",
       "      <td>1</td>\n",
       "      <td>0</td>\n",
       "      <td>0</td>\n",
       "      <td>0</td>\n",
       "      <td>0</td>\n",
       "      <td>0</td>\n",
       "      <td>0</td>\n",
       "    </tr>\n",
       "    <tr>\n",
       "      <th>2</th>\n",
       "      <td>3</td>\n",
       "      <td>1.623129</td>\n",
       "      <td>8</td>\n",
       "      <td>16</td>\n",
       "      <td>364</td>\n",
       "      <td>13186</td>\n",
       "      <td>14.170161</td>\n",
       "      <td>62</td>\n",
       "      <td>252</td>\n",
       "      <td>1572.271851</td>\n",
       "      <td>...</td>\n",
       "      <td>0</td>\n",
       "      <td>0</td>\n",
       "      <td>0</td>\n",
       "      <td>1</td>\n",
       "      <td>0</td>\n",
       "      <td>0</td>\n",
       "      <td>0</td>\n",
       "      <td>0</td>\n",
       "      <td>0</td>\n",
       "      <td>0</td>\n",
       "    </tr>\n",
       "    <tr>\n",
       "      <th>3</th>\n",
       "      <td>4</td>\n",
       "      <td>1.681642</td>\n",
       "      <td>12</td>\n",
       "      <td>12</td>\n",
       "      <td>628</td>\n",
       "      <td>770</td>\n",
       "      <td>13.677108</td>\n",
       "      <td>62</td>\n",
       "      <td>252</td>\n",
       "      <td>2740.178955</td>\n",
       "      <td>...</td>\n",
       "      <td>0</td>\n",
       "      <td>0</td>\n",
       "      <td>0</td>\n",
       "      <td>1</td>\n",
       "      <td>0</td>\n",
       "      <td>0</td>\n",
       "      <td>0</td>\n",
       "      <td>0</td>\n",
       "      <td>0</td>\n",
       "      <td>0</td>\n",
       "    </tr>\n",
       "    <tr>\n",
       "      <th>4</th>\n",
       "      <td>5</td>\n",
       "      <td>0.449454</td>\n",
       "      <td>10</td>\n",
       "      <td>6</td>\n",
       "      <td>534</td>\n",
       "      <td>268</td>\n",
       "      <td>33.373826</td>\n",
       "      <td>254</td>\n",
       "      <td>252</td>\n",
       "      <td>8561.499023</td>\n",
       "      <td>...</td>\n",
       "      <td>0</td>\n",
       "      <td>0</td>\n",
       "      <td>0</td>\n",
       "      <td>1</td>\n",
       "      <td>0</td>\n",
       "      <td>0</td>\n",
       "      <td>0</td>\n",
       "      <td>0</td>\n",
       "      <td>0</td>\n",
       "      <td>0</td>\n",
       "    </tr>\n",
       "  </tbody>\n",
       "</table>\n",
       "<p>5 rows × 197 columns</p>\n",
       "</div>"
      ],
      "text/plain": [
       "   id       dur  spkts  dpkts  sbytes  dbytes       rate  sttl  dttl  \\\n",
       "0   1  0.121478      6      4     258     172  74.087490   252   254   \n",
       "1   2  0.649902     14     38     734   42014  78.473372    62   252   \n",
       "2   3  1.623129      8     16     364   13186  14.170161    62   252   \n",
       "3   4  1.681642     12     12     628     770  13.677108    62   252   \n",
       "4   5  0.449454     10      6     534     268  33.373826   254   252   \n",
       "\n",
       "          sload  ...  service_ssl  state_CON  state_ECO  state_FIN  state_INT  \\\n",
       "0  14158.942380  ...            0          0          0          1          0   \n",
       "1   8395.112305  ...            0          0          0          1          0   \n",
       "2   1572.271851  ...            0          0          0          1          0   \n",
       "3   2740.178955  ...            0          0          0          1          0   \n",
       "4   8561.499023  ...            0          0          0          1          0   \n",
       "\n",
       "   state_PAR  state_REQ  state_RST  state_URN  state_no  \n",
       "0          0          0          0          0         0  \n",
       "1          0          0          0          0         0  \n",
       "2          0          0          0          0         0  \n",
       "3          0          0          0          0         0  \n",
       "4          0          0          0          0         0  \n",
       "\n",
       "[5 rows x 197 columns]"
      ]
     },
     "execution_count": 8,
     "metadata": {},
     "output_type": "execute_result"
    }
   ],
   "source": [
    "training_data_onehot = pd.get_dummies(training_data, columns=['proto', 'service', 'state'], prefix=['proto', 'service', 'state'])\n",
    "training_data_onehot.head()"
   ]
  },
  {
   "cell_type": "code",
   "execution_count": 9,
   "id": "virtual-kuwait",
   "metadata": {},
   "outputs": [
    {
     "name": "stdout",
     "output_type": "stream",
     "text": [
      "<class 'pandas.core.frame.DataFrame'>\n",
      "RangeIndex: 175341 entries, 0 to 175340\n",
      "Columns: 197 entries, id to state_no\n",
      "dtypes: float64(11), int64(30), object(1), uint8(155)\n",
      "memory usage: 82.1+ MB\n"
     ]
    }
   ],
   "source": [
    "training_data_onehot.info()"
   ]
  },
  {
   "cell_type": "markdown",
   "id": "terminal-chemical",
   "metadata": {},
   "source": [
    "OK, we still need to deal with the attack categories, but this doesn't look too bad.\n",
    "We went from 45 columns to 197, that shouldn't be too unreasonable for ML.  We also still need to separate the classes/labels and we can probably drop the *id* feature, since it's just a sequential numbering of instances."
   ]
  },
  {
   "cell_type": "markdown",
   "id": "gorgeous-drain",
   "metadata": {},
   "source": [
    "#### 4.3 Scale Features"
   ]
  },
  {
   "cell_type": "markdown",
   "id": "quiet-special",
   "metadata": {},
   "source": [
    "Let's see the distribution of labels and classes."
   ]
  },
  {
   "cell_type": "code",
   "execution_count": 20,
   "id": "chronic-services",
   "metadata": {},
   "outputs": [
    {
     "data": {
      "image/png": "[encoded data removed]",
      "text/plain": [
       "<Figure size 432x288 with 1 Axes>"
      ]
     },
     "metadata": {},
     "output_type": "display_data"
    }
   ],
   "source": [
    "#_ = training_data['label'].value_counts().plot(kind='bar', title='Normal or Malware')\n",
    "_ = training_data_onehot['label'].value_counts().plot(kind='bar', title='Normal or Malware')"
   ]
  },
  {
   "cell_type": "code",
   "execution_count": 21,
   "id": "statistical-donor",
   "metadata": {},
   "outputs": [
    {
     "data": {
      "text/plain": [
       "1    119341\n",
       "0     56000\n",
       "Name: label, dtype: int64"
      ]
     },
     "execution_count": 21,
     "metadata": {},
     "output_type": "execute_result"
    }
   ],
   "source": [
    "#training_data['label'].value_counts()\n",
    "training_data_onehot['label'].value_counts()"
   ]
  },
  {
   "cell_type": "markdown",
   "id": "stainless-window",
   "metadata": {},
   "source": [
    "Here, 0 represents 'Normal' activity, and 1 is 'Malicious' activity (one of the 9 attack categories)."
   ]
  },
  {
   "cell_type": "code",
   "execution_count": 22,
   "id": "according-character",
   "metadata": {},
   "outputs": [
    {
     "data": {
      "image/png": "[encoded data removed]",
      "text/plain": [
       "<Figure size 432x288 with 1 Axes>"
      ]
     },
     "metadata": {},
     "output_type": "display_data"
    }
   ],
   "source": [
    "#_ = training_data['attack_cat'].value_counts().plot(kind='bar', title='Instances of Each Class')\n",
    "_ = training_data_onehot['attack_cat'].value_counts().plot(kind='bar', title='Instances of Each Class')"
   ]
  },
  {
   "cell_type": "code",
   "execution_count": 23,
   "id": "turkish-percentage",
   "metadata": {},
   "outputs": [
    {
     "data": {
      "text/plain": [
       "Normal            56000\n",
       "Generic           40000\n",
       "Exploits          33393\n",
       "Fuzzers           18184\n",
       "DoS               12264\n",
       "Reconnaissance    10491\n",
       "Analysis           2000\n",
       "Backdoor           1746\n",
       "Shellcode          1133\n",
       "Worms               130\n",
       "Name: attack_cat, dtype: int64"
      ]
     },
     "execution_count": 23,
     "metadata": {},
     "output_type": "execute_result"
    }
   ],
   "source": [
    "#training_data['attack_cat'].value_counts()\n",
    "training_data_onehot['attack_cat'].value_counts()"
   ]
  },
  {
   "cell_type": "markdown",
   "id": "considerable-aerospace",
   "metadata": {},
   "source": [
    "Is there a danger of classification bias with this breakdown (only 130/175,341 instances are worms)?\n",
    "What could we do to better balance without throwing away most of the data.\n",
    "On the other hand this data set is probably representative of the percentages of malware in the wild."
   ]
  },
  {
   "cell_type": "markdown",
   "id": "stuck-castle",
   "metadata": {},
   "source": [
    "We should calculate data correlations and plot a scatter matrix."
   ]
  },
  {
   "cell_type": "code",
   "execution_count": 24,
   "id": "golden-interest",
   "metadata": {},
   "outputs": [],
   "source": [
    "#correlation_matrix = training_data.corr()\n",
    "correlation_matrix = training_data_onehot.corr()"
   ]
  },
  {
   "cell_type": "markdown",
   "id": "tested-arlington",
   "metadata": {},
   "source": [
    "And let's see how the features correlate to the label (normal or attack).  After converting the few categorical features to one-hot there are about 200 features to correlate."
   ]
  },
  {
   "cell_type": "code",
   "execution_count": 25,
   "id": "dedicated-programmer",
   "metadata": {},
   "outputs": [
    {
     "data": {
      "text/plain": [
       "label           1.000000\n",
       "id              0.727173\n",
       "sttl            0.692741\n",
       "ct_state_ttl    0.577704\n",
       "state_INT       0.503995\n",
       "                  ...   \n",
       "swin           -0.333633\n",
       "proto_tcp      -0.333726\n",
       "dmean          -0.341806\n",
       "state_CON      -0.366805\n",
       "dload          -0.393739\n",
       "Name: label, Length: 196, dtype: float64"
      ]
     },
     "execution_count": 25,
     "metadata": {},
     "output_type": "execute_result"
    }
   ],
   "source": [
    "correlation_matrix['label'].sort_values(ascending=False)"
   ]
  },
  {
   "cell_type": "markdown",
   "id": "plastic-credits",
   "metadata": {},
   "source": [
    "Scatter matrix - let's check out a scatter matrix of some of these features to better vizualize the correlation"
   ]
  },
  {
   "cell_type": "code",
   "execution_count": 16,
   "id": "engaged-strengthening",
   "metadata": {},
   "outputs": [],
   "source": [
    "attrs = ['label', 'sttl', 'ct_state_ttl'] #, 'ct_dst_sport_ltm', 'rate', 'ct_src_dport_ltm', 'ct_dst_src_ltm', 'dwin', 'swin', 'dmean', 'dload']"
   ]
  },
  {
   "cell_type": "code",
   "execution_count": 53,
   "id": "fixed-respondent",
   "metadata": {},
   "outputs": [
    {
     "data": {
      "image/png": "[encoded data removed]",
      "text/plain": [
       "<Figure size 324x324 with 12 Axes>"
      ]
     },
     "metadata": {},
     "output_type": "display_data"
    }
   ],
   "source": [
    "#training_data.plot.scatter()\n",
    "#_ = scatter_matrix(correlation_matrix, figsize=(12,8))\n",
    "#import seaborn as sns # added to import block at top of notebook\n",
    "sns.set(style='ticks', color_codes=True)\n",
    "_ = sns.pairplot(data=correlation_matrix[attrs], height=1.5, aspect=1, plot_kws={'alpha':0.5})"
   ]
  },
  {
   "cell_type": "markdown",
   "id": "dramatic-problem",
   "metadata": {},
   "source": [
    "We can check out the statistics for each feature, do they need to be normalized?"
   ]
  },
  {
   "cell_type": "code",
   "execution_count": 26,
   "id": "systematic-lodging",
   "metadata": {},
   "outputs": [],
   "source": [
    "# this isn't necessary because we can use describe on the DataFrame to see statistics of all numeric features\n",
    "#feature_stats = pd.DataFrame()\n",
    "#for feature in training_data.columns[1:-2]:\n",
    "#    feature_stats = feature_stats.append(training_data[feature].describe())"
   ]
  },
  {
   "cell_type": "code",
   "execution_count": 27,
   "id": "macro-inside",
   "metadata": {},
   "outputs": [],
   "source": [
    "#feature_stats"
   ]
  },
  {
   "cell_type": "markdown",
   "id": "protective-bibliography",
   "metadata": {},
   "source": [
    "unique, top and freq are statistics of object type features, these will go away when those features are converted to numeric."
   ]
  },
  {
   "cell_type": "code",
   "execution_count": 28,
   "id": "front-therapy",
   "metadata": {},
   "outputs": [],
   "source": [
    "#feature_stats.info()"
   ]
  },
  {
   "cell_type": "code",
   "execution_count": 29,
   "id": "alone-wireless",
   "metadata": {},
   "outputs": [],
   "source": [
    "#feature_stats.shape"
   ]
  },
  {
   "cell_type": "code",
   "execution_count": 31,
   "id": "sacred-saver",
   "metadata": {},
   "outputs": [
    {
     "data": {
      "text/html": [
       "<div>\n",
       "<style scoped>\n",
       "    .dataframe tbody tr th:only-of-type {\n",
       "        vertical-align: middle;\n",
       "    }\n",
       "\n",
       "    .dataframe tbody tr th {\n",
       "        vertical-align: top;\n",
       "    }\n",
       "\n",
       "    .dataframe thead th {\n",
       "        text-align: right;\n",
       "    }\n",
       "</style>\n",
       "<table border=\"1\" class=\"dataframe\">\n",
       "  <thead>\n",
       "    <tr style=\"text-align: right;\">\n",
       "      <th></th>\n",
       "      <th>id</th>\n",
       "      <th>dur</th>\n",
       "      <th>spkts</th>\n",
       "      <th>dpkts</th>\n",
       "      <th>sbytes</th>\n",
       "      <th>dbytes</th>\n",
       "      <th>rate</th>\n",
       "      <th>sttl</th>\n",
       "      <th>dttl</th>\n",
       "      <th>sload</th>\n",
       "      <th>...</th>\n",
       "      <th>service_ssl</th>\n",
       "      <th>state_CON</th>\n",
       "      <th>state_ECO</th>\n",
       "      <th>state_FIN</th>\n",
       "      <th>state_INT</th>\n",
       "      <th>state_PAR</th>\n",
       "      <th>state_REQ</th>\n",
       "      <th>state_RST</th>\n",
       "      <th>state_URN</th>\n",
       "      <th>state_no</th>\n",
       "    </tr>\n",
       "  </thead>\n",
       "  <tbody>\n",
       "    <tr>\n",
       "      <th>count</th>\n",
       "      <td>175341.000000</td>\n",
       "      <td>175341.000000</td>\n",
       "      <td>175341.000000</td>\n",
       "      <td>175341.000000</td>\n",
       "      <td>1.753410e+05</td>\n",
       "      <td>1.753410e+05</td>\n",
       "      <td>1.753410e+05</td>\n",
       "      <td>175341.000000</td>\n",
       "      <td>175341.000000</td>\n",
       "      <td>1.753410e+05</td>\n",
       "      <td>...</td>\n",
       "      <td>175341.000000</td>\n",
       "      <td>175341.000000</td>\n",
       "      <td>175341.000000</td>\n",
       "      <td>175341.000000</td>\n",
       "      <td>175341.000000</td>\n",
       "      <td>175341.000000</td>\n",
       "      <td>175341.000000</td>\n",
       "      <td>175341.000000</td>\n",
       "      <td>175341.000000</td>\n",
       "      <td>175341.000000</td>\n",
       "    </tr>\n",
       "    <tr>\n",
       "      <th>mean</th>\n",
       "      <td>87671.000000</td>\n",
       "      <td>1.359389</td>\n",
       "      <td>20.298664</td>\n",
       "      <td>18.969591</td>\n",
       "      <td>8.844844e+03</td>\n",
       "      <td>1.492892e+04</td>\n",
       "      <td>9.540619e+04</td>\n",
       "      <td>179.546997</td>\n",
       "      <td>79.609567</td>\n",
       "      <td>7.345403e+07</td>\n",
       "      <td>...</td>\n",
       "      <td>0.000319</td>\n",
       "      <td>0.075008</td>\n",
       "      <td>0.000068</td>\n",
       "      <td>0.443849</td>\n",
       "      <td>0.469229</td>\n",
       "      <td>0.000006</td>\n",
       "      <td>0.011355</td>\n",
       "      <td>0.000473</td>\n",
       "      <td>0.000006</td>\n",
       "      <td>0.000006</td>\n",
       "    </tr>\n",
       "    <tr>\n",
       "      <th>std</th>\n",
       "      <td>50616.731112</td>\n",
       "      <td>6.480249</td>\n",
       "      <td>136.887597</td>\n",
       "      <td>110.258271</td>\n",
       "      <td>1.747656e+05</td>\n",
       "      <td>1.436542e+05</td>\n",
       "      <td>1.654010e+05</td>\n",
       "      <td>102.940011</td>\n",
       "      <td>110.506863</td>\n",
       "      <td>1.883574e+08</td>\n",
       "      <td>...</td>\n",
       "      <td>0.017868</td>\n",
       "      <td>0.263405</td>\n",
       "      <td>0.008272</td>\n",
       "      <td>0.496839</td>\n",
       "      <td>0.499054</td>\n",
       "      <td>0.002388</td>\n",
       "      <td>0.105954</td>\n",
       "      <td>0.021752</td>\n",
       "      <td>0.002388</td>\n",
       "      <td>0.002388</td>\n",
       "    </tr>\n",
       "    <tr>\n",
       "      <th>min</th>\n",
       "      <td>1.000000</td>\n",
       "      <td>0.000000</td>\n",
       "      <td>1.000000</td>\n",
       "      <td>0.000000</td>\n",
       "      <td>2.800000e+01</td>\n",
       "      <td>0.000000e+00</td>\n",
       "      <td>0.000000e+00</td>\n",
       "      <td>0.000000</td>\n",
       "      <td>0.000000</td>\n",
       "      <td>0.000000e+00</td>\n",
       "      <td>...</td>\n",
       "      <td>0.000000</td>\n",
       "      <td>0.000000</td>\n",
       "      <td>0.000000</td>\n",
       "      <td>0.000000</td>\n",
       "      <td>0.000000</td>\n",
       "      <td>0.000000</td>\n",
       "      <td>0.000000</td>\n",
       "      <td>0.000000</td>\n",
       "      <td>0.000000</td>\n",
       "      <td>0.000000</td>\n",
       "    </tr>\n",
       "    <tr>\n",
       "      <th>25%</th>\n",
       "      <td>43836.000000</td>\n",
       "      <td>0.000008</td>\n",
       "      <td>2.000000</td>\n",
       "      <td>0.000000</td>\n",
       "      <td>1.140000e+02</td>\n",
       "      <td>0.000000e+00</td>\n",
       "      <td>3.278614e+01</td>\n",
       "      <td>62.000000</td>\n",
       "      <td>0.000000</td>\n",
       "      <td>1.305334e+04</td>\n",
       "      <td>...</td>\n",
       "      <td>0.000000</td>\n",
       "      <td>0.000000</td>\n",
       "      <td>0.000000</td>\n",
       "      <td>0.000000</td>\n",
       "      <td>0.000000</td>\n",
       "      <td>0.000000</td>\n",
       "      <td>0.000000</td>\n",
       "      <td>0.000000</td>\n",
       "      <td>0.000000</td>\n",
       "      <td>0.000000</td>\n",
       "    </tr>\n",
       "    <tr>\n",
       "      <th>50%</th>\n",
       "      <td>87671.000000</td>\n",
       "      <td>0.001582</td>\n",
       "      <td>2.000000</td>\n",
       "      <td>2.000000</td>\n",
       "      <td>4.300000e+02</td>\n",
       "      <td>1.640000e+02</td>\n",
       "      <td>3.225807e+03</td>\n",
       "      <td>254.000000</td>\n",
       "      <td>29.000000</td>\n",
       "      <td>8.796748e+05</td>\n",
       "      <td>...</td>\n",
       "      <td>0.000000</td>\n",
       "      <td>0.000000</td>\n",
       "      <td>0.000000</td>\n",
       "      <td>0.000000</td>\n",
       "      <td>0.000000</td>\n",
       "      <td>0.000000</td>\n",
       "      <td>0.000000</td>\n",
       "      <td>0.000000</td>\n",
       "      <td>0.000000</td>\n",
       "      <td>0.000000</td>\n",
       "    </tr>\n",
       "    <tr>\n",
       "      <th>75%</th>\n",
       "      <td>131506.000000</td>\n",
       "      <td>0.668069</td>\n",
       "      <td>12.000000</td>\n",
       "      <td>10.000000</td>\n",
       "      <td>1.418000e+03</td>\n",
       "      <td>1.102000e+03</td>\n",
       "      <td>1.250000e+05</td>\n",
       "      <td>254.000000</td>\n",
       "      <td>252.000000</td>\n",
       "      <td>8.888889e+07</td>\n",
       "      <td>...</td>\n",
       "      <td>0.000000</td>\n",
       "      <td>0.000000</td>\n",
       "      <td>0.000000</td>\n",
       "      <td>1.000000</td>\n",
       "      <td>1.000000</td>\n",
       "      <td>0.000000</td>\n",
       "      <td>0.000000</td>\n",
       "      <td>0.000000</td>\n",
       "      <td>0.000000</td>\n",
       "      <td>0.000000</td>\n",
       "    </tr>\n",
       "    <tr>\n",
       "      <th>max</th>\n",
       "      <td>175341.000000</td>\n",
       "      <td>59.999989</td>\n",
       "      <td>9616.000000</td>\n",
       "      <td>10974.000000</td>\n",
       "      <td>1.296523e+07</td>\n",
       "      <td>1.465555e+07</td>\n",
       "      <td>1.000000e+06</td>\n",
       "      <td>255.000000</td>\n",
       "      <td>254.000000</td>\n",
       "      <td>5.988000e+09</td>\n",
       "      <td>...</td>\n",
       "      <td>1.000000</td>\n",
       "      <td>1.000000</td>\n",
       "      <td>1.000000</td>\n",
       "      <td>1.000000</td>\n",
       "      <td>1.000000</td>\n",
       "      <td>1.000000</td>\n",
       "      <td>1.000000</td>\n",
       "      <td>1.000000</td>\n",
       "      <td>1.000000</td>\n",
       "      <td>1.000000</td>\n",
       "    </tr>\n",
       "  </tbody>\n",
       "</table>\n",
       "<p>8 rows × 196 columns</p>\n",
       "</div>"
      ],
      "text/plain": [
       "                  id            dur          spkts          dpkts  \\\n",
       "count  175341.000000  175341.000000  175341.000000  175341.000000   \n",
       "mean    87671.000000       1.359389      20.298664      18.969591   \n",
       "std     50616.731112       6.480249     136.887597     110.258271   \n",
       "min         1.000000       0.000000       1.000000       0.000000   \n",
       "25%     43836.000000       0.000008       2.000000       0.000000   \n",
       "50%     87671.000000       0.001582       2.000000       2.000000   \n",
       "75%    131506.000000       0.668069      12.000000      10.000000   \n",
       "max    175341.000000      59.999989    9616.000000   10974.000000   \n",
       "\n",
       "             sbytes        dbytes          rate           sttl           dttl  \\\n",
       "count  1.753410e+05  1.753410e+05  1.753410e+05  175341.000000  175341.000000   \n",
       "mean   8.844844e+03  1.492892e+04  9.540619e+04     179.546997      79.609567   \n",
       "std    1.747656e+05  1.436542e+05  1.654010e+05     102.940011     110.506863   \n",
       "min    2.800000e+01  0.000000e+00  0.000000e+00       0.000000       0.000000   \n",
       "25%    1.140000e+02  0.000000e+00  3.278614e+01      62.000000       0.000000   \n",
       "50%    4.300000e+02  1.640000e+02  3.225807e+03     254.000000      29.000000   \n",
       "75%    1.418000e+03  1.102000e+03  1.250000e+05     254.000000     252.000000   \n",
       "max    1.296523e+07  1.465555e+07  1.000000e+06     255.000000     254.000000   \n",
       "\n",
       "              sload  ...    service_ssl      state_CON      state_ECO  \\\n",
       "count  1.753410e+05  ...  175341.000000  175341.000000  175341.000000   \n",
       "mean   7.345403e+07  ...       0.000319       0.075008       0.000068   \n",
       "std    1.883574e+08  ...       0.017868       0.263405       0.008272   \n",
       "min    0.000000e+00  ...       0.000000       0.000000       0.000000   \n",
       "25%    1.305334e+04  ...       0.000000       0.000000       0.000000   \n",
       "50%    8.796748e+05  ...       0.000000       0.000000       0.000000   \n",
       "75%    8.888889e+07  ...       0.000000       0.000000       0.000000   \n",
       "max    5.988000e+09  ...       1.000000       1.000000       1.000000   \n",
       "\n",
       "           state_FIN      state_INT      state_PAR      state_REQ  \\\n",
       "count  175341.000000  175341.000000  175341.000000  175341.000000   \n",
       "mean        0.443849       0.469229       0.000006       0.011355   \n",
       "std         0.496839       0.499054       0.002388       0.105954   \n",
       "min         0.000000       0.000000       0.000000       0.000000   \n",
       "25%         0.000000       0.000000       0.000000       0.000000   \n",
       "50%         0.000000       0.000000       0.000000       0.000000   \n",
       "75%         1.000000       1.000000       0.000000       0.000000   \n",
       "max         1.000000       1.000000       1.000000       1.000000   \n",
       "\n",
       "           state_RST      state_URN       state_no  \n",
       "count  175341.000000  175341.000000  175341.000000  \n",
       "mean        0.000473       0.000006       0.000006  \n",
       "std         0.021752       0.002388       0.002388  \n",
       "min         0.000000       0.000000       0.000000  \n",
       "25%         0.000000       0.000000       0.000000  \n",
       "50%         0.000000       0.000000       0.000000  \n",
       "75%         0.000000       0.000000       0.000000  \n",
       "max         1.000000       1.000000       1.000000  \n",
       "\n",
       "[8 rows x 196 columns]"
      ]
     },
     "execution_count": 31,
     "metadata": {},
     "output_type": "execute_result"
    }
   ],
   "source": [
    "#training_data.describe().T\n",
    "training_data_onehot.describe()"
   ]
  },
  {
   "cell_type": "markdown",
   "id": "diagnostic-satin",
   "metadata": {},
   "source": [
    "The *id* feature is just a sequential numbering of the records...it's probably not necessary.  If we drop that, convert the object/categorical types to numeric and excluded the categories and labels, this is an easier way to describe the data."
   ]
  },
  {
   "cell_type": "markdown",
   "id": "covered-kitty",
   "metadata": {},
   "source": [
    "We'll probably want to scale these features using normalization or standardization."
   ]
  },
  {
   "cell_type": "raw",
   "id": "combined-operator",
   "metadata": {},
   "source": [
    "from sklearn import preprocessing\n",
    "import numpy as np\n",
    "X_train = np.array([[ 1., -1.,  2.],\n",
    "                     [ 2.,  0.,  0.],\n",
    "                     [ 0.,  1., -1.]])\n",
    "scaler = preprocessing.StandardScaler().fit(X_train)\n",
    "scaler\n",
    "\n",
    "scaler.mean_\n",
    "\n",
    "scaler.scale_\n",
    "\n",
    "X_scaled = scaler.transform(X_train)\n",
    "X_scaled\n",
    "X_scaled.mean(axis=0)\n",
    "\n",
    "X_scaled.std(axis=0)"
   ]
  },
  {
   "cell_type": "code",
   "execution_count": null,
   "id": "south-hollywood",
   "metadata": {},
   "outputs": [],
   "source": []
  }
 ],
 "metadata": {
  "kernelspec": {
   "display_name": "Python 3",
   "language": "python",
   "name": "python3"
  },
  "language_info": {
   "codemirror_mode": {
    "name": "ipython",
    "version": 3
   },
   "file_extension": ".py",
   "mimetype": "text/x-python",
   "name": "python",
   "nbconvert_exporter": "python",
   "pygments_lexer": "ipython3",
   "version": "3.8.5"
  }
 },
 "nbformat": 4,
 "nbformat_minor": 5
}
