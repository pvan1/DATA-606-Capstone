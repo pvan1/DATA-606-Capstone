{
 "cells": [
  {
   "cell_type": "markdown",
   "id": "bridal-colon",
   "metadata": {},
   "source": [
    "# Phase 1: Loading Data, Cleaning, Transformation, & Exploration"
   ]
  },
  {
   "cell_type": "code",
   "execution_count": 1,
   "id": "ultimate-formula",
   "metadata": {},
   "outputs": [],
   "source": [
    "import pandas as pd\n",
    "import numpy as np"
   ]
  },
  {
   "cell_type": "code",
   "execution_count": 2,
   "id": "rubber-prefix",
   "metadata": {},
   "outputs": [
    {
     "name": "stdout",
     "output_type": "stream",
     "text": [
      "<class 'pandas.core.frame.DataFrame'>\n",
      "RangeIndex: 175341 entries, 0 to 175340\n",
      "Data columns (total 45 columns):\n",
      " #   Column             Non-Null Count   Dtype  \n",
      "---  ------             --------------   -----  \n",
      " 0   id                 175341 non-null  int64  \n",
      " 1   dur                175341 non-null  float64\n",
      " 2   proto              175341 non-null  object \n",
      " 3   service            175341 non-null  object \n",
      " 4   state              175341 non-null  object \n",
      " 5   spkts              175341 non-null  int64  \n",
      " 6   dpkts              175341 non-null  int64  \n",
      " 7   sbytes             175341 non-null  int64  \n",
      " 8   dbytes             175341 non-null  int64  \n",
      " 9   rate               175341 non-null  float64\n",
      " 10  sttl               175341 non-null  int64  \n",
      " 11  dttl               175341 non-null  int64  \n",
      " 12  sload              175341 non-null  float64\n",
      " 13  dload              175341 non-null  float64\n",
      " 14  sloss              175341 non-null  int64  \n",
      " 15  dloss              175341 non-null  int64  \n",
      " 16  sinpkt             175341 non-null  float64\n",
      " 17  dinpkt             175341 non-null  float64\n",
      " 18  sjit               175341 non-null  float64\n",
      " 19  djit               175341 non-null  float64\n",
      " 20  swin               175341 non-null  int64  \n",
      " 21  stcpb              175341 non-null  int64  \n",
      " 22  dtcpb              175341 non-null  int64  \n",
      " 23  dwin               175341 non-null  int64  \n",
      " 24  tcprtt             175341 non-null  float64\n",
      " 25  synack             175341 non-null  float64\n",
      " 26  ackdat             175341 non-null  float64\n",
      " 27  smean              175341 non-null  int64  \n",
      " 28  dmean              175341 non-null  int64  \n",
      " 29  trans_depth        175341 non-null  int64  \n",
      " 30  response_body_len  175341 non-null  int64  \n",
      " 31  ct_srv_src         175341 non-null  int64  \n",
      " 32  ct_state_ttl       175341 non-null  int64  \n",
      " 33  ct_dst_ltm         175341 non-null  int64  \n",
      " 34  ct_src_dport_ltm   175341 non-null  int64  \n",
      " 35  ct_dst_sport_ltm   175341 non-null  int64  \n",
      " 36  ct_dst_src_ltm     175341 non-null  int64  \n",
      " 37  is_ftp_login       175341 non-null  int64  \n",
      " 38  ct_ftp_cmd         175341 non-null  int64  \n",
      " 39  ct_flw_http_mthd   175341 non-null  int64  \n",
      " 40  ct_src_ltm         175341 non-null  int64  \n",
      " 41  ct_srv_dst         175341 non-null  int64  \n",
      " 42  is_sm_ips_ports    175341 non-null  int64  \n",
      " 43  attack_cat         175341 non-null  object \n",
      " 44  label              175341 non-null  int64  \n",
      "dtypes: float64(11), int64(30), object(4)\n",
      "memory usage: 60.2+ MB\n",
      "None\n"
     ]
    }
   ],
   "source": [
    "training_file = './data/UNSW_NB15_training-set.csv'\n",
    "training_data = pd.read_csv(training_file)\n",
    "print(training_data.info())"
   ]
  },
  {
   "cell_type": "markdown",
   "id": "centered-exclusive",
   "metadata": {},
   "source": [
    "OK, it looks like we've got 175,341 entries and no null values in any column.\n",
    "There are 44 columns, but I think there should be a few more, so let's investigate that in a minute."
   ]
  },
  {
   "cell_type": "markdown",
   "id": "palestinian-market",
   "metadata": {},
   "source": [
    "I might want to think about renaming these columns to something more readable."
   ]
  },
  {
   "cell_type": "code",
   "execution_count": 3,
   "id": "million-brain",
   "metadata": {},
   "outputs": [
    {
     "data": {
      "text/html": [
       "<div>\n",
       "<style scoped>\n",
       "    .dataframe tbody tr th:only-of-type {\n",
       "        vertical-align: middle;\n",
       "    }\n",
       "\n",
       "    .dataframe tbody tr th {\n",
       "        vertical-align: top;\n",
       "    }\n",
       "\n",
       "    .dataframe thead th {\n",
       "        text-align: right;\n",
       "    }\n",
       "</style>\n",
       "<table border=\"1\" class=\"dataframe\">\n",
       "  <thead>\n",
       "    <tr style=\"text-align: right;\">\n",
       "      <th></th>\n",
       "      <th>id</th>\n",
       "      <th>dur</th>\n",
       "      <th>proto</th>\n",
       "      <th>service</th>\n",
       "      <th>state</th>\n",
       "      <th>spkts</th>\n",
       "      <th>dpkts</th>\n",
       "      <th>sbytes</th>\n",
       "      <th>dbytes</th>\n",
       "      <th>rate</th>\n",
       "      <th>...</th>\n",
       "      <th>ct_dst_sport_ltm</th>\n",
       "      <th>ct_dst_src_ltm</th>\n",
       "      <th>is_ftp_login</th>\n",
       "      <th>ct_ftp_cmd</th>\n",
       "      <th>ct_flw_http_mthd</th>\n",
       "      <th>ct_src_ltm</th>\n",
       "      <th>ct_srv_dst</th>\n",
       "      <th>is_sm_ips_ports</th>\n",
       "      <th>attack_cat</th>\n",
       "      <th>label</th>\n",
       "    </tr>\n",
       "  </thead>\n",
       "  <tbody>\n",
       "    <tr>\n",
       "      <th>0</th>\n",
       "      <td>1</td>\n",
       "      <td>0.121478</td>\n",
       "      <td>tcp</td>\n",
       "      <td>-</td>\n",
       "      <td>FIN</td>\n",
       "      <td>6</td>\n",
       "      <td>4</td>\n",
       "      <td>258</td>\n",
       "      <td>172</td>\n",
       "      <td>74.087490</td>\n",
       "      <td>...</td>\n",
       "      <td>1</td>\n",
       "      <td>1</td>\n",
       "      <td>0</td>\n",
       "      <td>0</td>\n",
       "      <td>0</td>\n",
       "      <td>1</td>\n",
       "      <td>1</td>\n",
       "      <td>0</td>\n",
       "      <td>Normal</td>\n",
       "      <td>0</td>\n",
       "    </tr>\n",
       "    <tr>\n",
       "      <th>1</th>\n",
       "      <td>2</td>\n",
       "      <td>0.649902</td>\n",
       "      <td>tcp</td>\n",
       "      <td>-</td>\n",
       "      <td>FIN</td>\n",
       "      <td>14</td>\n",
       "      <td>38</td>\n",
       "      <td>734</td>\n",
       "      <td>42014</td>\n",
       "      <td>78.473372</td>\n",
       "      <td>...</td>\n",
       "      <td>1</td>\n",
       "      <td>2</td>\n",
       "      <td>0</td>\n",
       "      <td>0</td>\n",
       "      <td>0</td>\n",
       "      <td>1</td>\n",
       "      <td>6</td>\n",
       "      <td>0</td>\n",
       "      <td>Normal</td>\n",
       "      <td>0</td>\n",
       "    </tr>\n",
       "    <tr>\n",
       "      <th>2</th>\n",
       "      <td>3</td>\n",
       "      <td>1.623129</td>\n",
       "      <td>tcp</td>\n",
       "      <td>-</td>\n",
       "      <td>FIN</td>\n",
       "      <td>8</td>\n",
       "      <td>16</td>\n",
       "      <td>364</td>\n",
       "      <td>13186</td>\n",
       "      <td>14.170161</td>\n",
       "      <td>...</td>\n",
       "      <td>1</td>\n",
       "      <td>3</td>\n",
       "      <td>0</td>\n",
       "      <td>0</td>\n",
       "      <td>0</td>\n",
       "      <td>2</td>\n",
       "      <td>6</td>\n",
       "      <td>0</td>\n",
       "      <td>Normal</td>\n",
       "      <td>0</td>\n",
       "    </tr>\n",
       "    <tr>\n",
       "      <th>3</th>\n",
       "      <td>4</td>\n",
       "      <td>1.681642</td>\n",
       "      <td>tcp</td>\n",
       "      <td>ftp</td>\n",
       "      <td>FIN</td>\n",
       "      <td>12</td>\n",
       "      <td>12</td>\n",
       "      <td>628</td>\n",
       "      <td>770</td>\n",
       "      <td>13.677108</td>\n",
       "      <td>...</td>\n",
       "      <td>1</td>\n",
       "      <td>3</td>\n",
       "      <td>1</td>\n",
       "      <td>1</td>\n",
       "      <td>0</td>\n",
       "      <td>2</td>\n",
       "      <td>1</td>\n",
       "      <td>0</td>\n",
       "      <td>Normal</td>\n",
       "      <td>0</td>\n",
       "    </tr>\n",
       "    <tr>\n",
       "      <th>4</th>\n",
       "      <td>5</td>\n",
       "      <td>0.449454</td>\n",
       "      <td>tcp</td>\n",
       "      <td>-</td>\n",
       "      <td>FIN</td>\n",
       "      <td>10</td>\n",
       "      <td>6</td>\n",
       "      <td>534</td>\n",
       "      <td>268</td>\n",
       "      <td>33.373826</td>\n",
       "      <td>...</td>\n",
       "      <td>1</td>\n",
       "      <td>40</td>\n",
       "      <td>0</td>\n",
       "      <td>0</td>\n",
       "      <td>0</td>\n",
       "      <td>2</td>\n",
       "      <td>39</td>\n",
       "      <td>0</td>\n",
       "      <td>Normal</td>\n",
       "      <td>0</td>\n",
       "    </tr>\n",
       "  </tbody>\n",
       "</table>\n",
       "<p>5 rows × 45 columns</p>\n",
       "</div>"
      ],
      "text/plain": [
       "   id       dur proto service state  spkts  dpkts  sbytes  dbytes       rate  \\\n",
       "0   1  0.121478   tcp       -   FIN      6      4     258     172  74.087490   \n",
       "1   2  0.649902   tcp       -   FIN     14     38     734   42014  78.473372   \n",
       "2   3  1.623129   tcp       -   FIN      8     16     364   13186  14.170161   \n",
       "3   4  1.681642   tcp     ftp   FIN     12     12     628     770  13.677108   \n",
       "4   5  0.449454   tcp       -   FIN     10      6     534     268  33.373826   \n",
       "\n",
       "   ...  ct_dst_sport_ltm  ct_dst_src_ltm  is_ftp_login  ct_ftp_cmd  \\\n",
       "0  ...                 1               1             0           0   \n",
       "1  ...                 1               2             0           0   \n",
       "2  ...                 1               3             0           0   \n",
       "3  ...                 1               3             1           1   \n",
       "4  ...                 1              40             0           0   \n",
       "\n",
       "   ct_flw_http_mthd  ct_src_ltm  ct_srv_dst  is_sm_ips_ports  attack_cat  \\\n",
       "0                 0           1           1                0      Normal   \n",
       "1                 0           1           6                0      Normal   \n",
       "2                 0           2           6                0      Normal   \n",
       "3                 0           2           1                0      Normal   \n",
       "4                 0           2          39                0      Normal   \n",
       "\n",
       "   label  \n",
       "0      0  \n",
       "1      0  \n",
       "2      0  \n",
       "3      0  \n",
       "4      0  \n",
       "\n",
       "[5 rows x 45 columns]"
      ]
     },
     "execution_count": 3,
     "metadata": {},
     "output_type": "execute_result"
    }
   ],
   "source": [
    "training_data.head()"
   ]
  },
  {
   "cell_type": "markdown",
   "id": "talented-square",
   "metadata": {},
   "source": [
    "Here we can see that the 4 object type features (proto, service, state, and attack_cat) appear to be Strings.\n",
    "attack_cat is the class to be learned, might want to convert that to an integer. Label is either 0 or 1, indicating benign or malicious."
   ]
  },
  {
   "cell_type": "markdown",
   "id": "sitting-extent",
   "metadata": {},
   "source": [
    "Let's see how many classes there are."
   ]
  },
  {
   "cell_type": "code",
   "execution_count": 5,
   "id": "alone-attempt",
   "metadata": {},
   "outputs": [
    {
     "name": "stdout",
     "output_type": "stream",
     "text": [
      "There are 10 unique values.\n",
      "Categories: ['Normal' 'Backdoor' 'Analysis' 'Fuzzers' 'Shellcode' 'Reconnaissance'\n",
      " 'Exploits' 'DoS' 'Worms' 'Generic']\n"
     ]
    }
   ],
   "source": [
    "print(\"There are\", training_data['attack_cat'].nunique(), \"unique values.\")\n",
    "print(\"Categories:\", training_data['attack_cat'].unique())"
   ]
  },
  {
   "cell_type": "markdown",
   "id": "reported-magnet",
   "metadata": {},
   "source": [
    "OK, it looks like 9 classes of Malware, plus 'Normal' benign activity.\n",
    "Maybe we can convert the classes to category type and order them so we can look for correlations with other features."
   ]
  },
  {
   "cell_type": "code",
   "execution_count": 9,
   "id": "greatest-reservation",
   "metadata": {},
   "outputs": [
    {
     "name": "stdout",
     "output_type": "stream",
     "text": [
      "<class 'pandas.core.frame.DataFrame'>\n",
      "RangeIndex: 175341 entries, 0 to 175340\n",
      "Data columns (total 45 columns):\n",
      " #   Column             Non-Null Count   Dtype   \n",
      "---  ------             --------------   -----   \n",
      " 0   id                 175341 non-null  int64   \n",
      " 1   dur                175341 non-null  float64 \n",
      " 2   proto              175341 non-null  object  \n",
      " 3   service            175341 non-null  object  \n",
      " 4   state              175341 non-null  object  \n",
      " 5   spkts              175341 non-null  int64   \n",
      " 6   dpkts              175341 non-null  int64   \n",
      " 7   sbytes             175341 non-null  int64   \n",
      " 8   dbytes             175341 non-null  int64   \n",
      " 9   rate               175341 non-null  float64 \n",
      " 10  sttl               175341 non-null  int64   \n",
      " 11  dttl               175341 non-null  int64   \n",
      " 12  sload              175341 non-null  float64 \n",
      " 13  dload              175341 non-null  float64 \n",
      " 14  sloss              175341 non-null  int64   \n",
      " 15  dloss              175341 non-null  int64   \n",
      " 16  sinpkt             175341 non-null  float64 \n",
      " 17  dinpkt             175341 non-null  float64 \n",
      " 18  sjit               175341 non-null  float64 \n",
      " 19  djit               175341 non-null  float64 \n",
      " 20  swin               175341 non-null  int64   \n",
      " 21  stcpb              175341 non-null  int64   \n",
      " 22  dtcpb              175341 non-null  int64   \n",
      " 23  dwin               175341 non-null  int64   \n",
      " 24  tcprtt             175341 non-null  float64 \n",
      " 25  synack             175341 non-null  float64 \n",
      " 26  ackdat             175341 non-null  float64 \n",
      " 27  smean              175341 non-null  int64   \n",
      " 28  dmean              175341 non-null  int64   \n",
      " 29  trans_depth        175341 non-null  int64   \n",
      " 30  response_body_len  175341 non-null  int64   \n",
      " 31  ct_srv_src         175341 non-null  int64   \n",
      " 32  ct_state_ttl       175341 non-null  int64   \n",
      " 33  ct_dst_ltm         175341 non-null  int64   \n",
      " 34  ct_src_dport_ltm   175341 non-null  int64   \n",
      " 35  ct_dst_sport_ltm   175341 non-null  int64   \n",
      " 36  ct_dst_src_ltm     175341 non-null  int64   \n",
      " 37  is_ftp_login       175341 non-null  int64   \n",
      " 38  ct_ftp_cmd         175341 non-null  int64   \n",
      " 39  ct_flw_http_mthd   175341 non-null  int64   \n",
      " 40  ct_src_ltm         175341 non-null  int64   \n",
      " 41  ct_srv_dst         175341 non-null  int64   \n",
      " 42  is_sm_ips_ports    175341 non-null  int64   \n",
      " 43  attack_cat         175341 non-null  category\n",
      " 44  label              175341 non-null  int64   \n",
      "dtypes: category(1), float64(11), int64(30), object(3)\n",
      "memory usage: 59.0+ MB\n"
     ]
    }
   ],
   "source": [
    "training_data['attack_cat'] = training_data['attack_cat'].astype('category')\n",
    "training_data.info()"
   ]
  },
  {
   "cell_type": "markdown",
   "id": "general-peace",
   "metadata": {},
   "source": [
    "Let's see what those other objects are all about."
   ]
  },
  {
   "cell_type": "code",
   "execution_count": 10,
   "id": "humanitarian-elephant",
   "metadata": {},
   "outputs": [
    {
     "name": "stdout",
     "output_type": "stream",
     "text": [
      "There are 133 unique values.\n",
      "Protocols: ['tcp' 'udp' 'arp' 'ospf' 'icmp' 'igmp' 'rtp' 'ddp' 'ipv6-frag' 'cftp'\n",
      " 'wsn' 'pvp' 'wb-expak' 'mtp' 'pri-enc' 'sat-mon' 'cphb' 'sun-nd' 'iso-ip'\n",
      " 'xtp' 'il' 'unas' 'mfe-nsp' '3pc' 'ipv6-route' 'idrp' 'bna' 'swipe'\n",
      " 'kryptolan' 'cpnx' 'rsvp' 'wb-mon' 'vmtp' 'ib' 'dgp' 'eigrp' 'ax.25'\n",
      " 'gmtp' 'pnni' 'sep' 'pgm' 'idpr-cmtp' 'zero' 'rvd' 'mobile' 'narp' 'fc'\n",
      " 'pipe' 'ipcomp' 'ipv6-no' 'sat-expak' 'ipv6-opts' 'snp' 'ipcv'\n",
      " 'br-sat-mon' 'ttp' 'tcf' 'nsfnet-igp' 'sprite-rpc' 'aes-sp3-d' 'sccopmce'\n",
      " 'sctp' 'qnx' 'scps' 'etherip' 'aris' 'pim' 'compaq-peer' 'vrrp' 'iatp'\n",
      " 'stp' 'l2tp' 'srp' 'sm' 'isis' 'smp' 'fire' 'ptp' 'crtp' 'sps'\n",
      " 'merit-inp' 'idpr' 'skip' 'any' 'larp' 'ipip' 'micp' 'encap' 'ifmp'\n",
      " 'tp++' 'a/n' 'ipv6' 'i-nlsp' 'ipx-n-ip' 'sdrp' 'tlsp' 'gre' 'mhrp' 'ddx'\n",
      " 'ippc' 'visa' 'secure-vmtp' 'uti' 'vines' 'crudp' 'iplt' 'ggp' 'ip'\n",
      " 'ipnip' 'st2' 'argus' 'bbn-rcc' 'egp' 'emcon' 'igp' 'nvp' 'pup' 'xnet'\n",
      " 'chaos' 'mux' 'dcn' 'hmp' 'prm' 'trunk-1' 'xns-idp' 'leaf-1' 'leaf-2'\n",
      " 'rdp' 'irtp' 'iso-tp4' 'netblt' 'trunk-2' 'cbt']\n"
     ]
    }
   ],
   "source": [
    "print(\"There are\", training_data['proto'].nunique(), \"unique values.\")\n",
    "print(\"Protocols:\", training_data['proto'].unique())"
   ]
  },
  {
   "cell_type": "code",
   "execution_count": 11,
   "id": "modern-barcelona",
   "metadata": {},
   "outputs": [
    {
     "name": "stdout",
     "output_type": "stream",
     "text": [
      "There are 13 unique values.\n",
      "Services: ['-' 'ftp' 'smtp' 'snmp' 'http' 'ftp-data' 'dns' 'ssh' 'radius' 'pop3'\n",
      " 'dhcp' 'ssl' 'irc']\n"
     ]
    }
   ],
   "source": [
    "print(\"There are\", training_data['service'].nunique(), \"unique values.\")\n",
    "print(\"Services:\", training_data['service'].unique())"
   ]
  },
  {
   "cell_type": "code",
   "execution_count": 12,
   "id": "monetary-buffalo",
   "metadata": {},
   "outputs": [
    {
     "name": "stdout",
     "output_type": "stream",
     "text": [
      "There are 9 unique values.\n",
      "State: ['FIN' 'INT' 'CON' 'ECO' 'REQ' 'RST' 'PAR' 'URN' 'no']\n"
     ]
    }
   ],
   "source": [
    "print(\"There are\", training_data['state'].nunique(), \"unique values.\")\n",
    "print(\"State:\", training_data['state'].unique())"
   ]
  },
  {
   "cell_type": "markdown",
   "id": "arranged-volume",
   "metadata": {},
   "source": [
    "This gives us an idea of what kind of network traffic data we're working with."
   ]
  },
  {
   "cell_type": "markdown",
   "id": "quiet-special",
   "metadata": {},
   "source": [
    "Let's see the distribution of classes."
   ]
  },
  {
   "cell_type": "code",
   "execution_count": 13,
   "id": "according-character",
   "metadata": {},
   "outputs": [
    {
     "name": "stderr",
     "output_type": "stream",
     "text": [
      "Matplotlib is building the font cache; this may take a moment.\n"
     ]
    },
    {
     "data": {
      "image/png": "[encoded data removed]",
      "text/plain": [
       "<Figure size 432x288 with 1 Axes>"
      ]
     },
     "metadata": {
      "needs_background": "light"
     },
     "output_type": "display_data"
    }
   ],
   "source": [
    "_ = training_data['attack_cat'].value_counts().plot(kind='bar', title='Instances of Each Class')"
   ]
  },
  {
   "cell_type": "code",
   "execution_count": 14,
   "id": "turkish-percentage",
   "metadata": {},
   "outputs": [
    {
     "data": {
      "text/plain": [
       "Normal            56000\n",
       "Generic           40000\n",
       "Exploits          33393\n",
       "Fuzzers           18184\n",
       "DoS               12264\n",
       "Reconnaissance    10491\n",
       "Analysis           2000\n",
       "Backdoor           1746\n",
       "Shellcode          1133\n",
       "Worms               130\n",
       "Name: attack_cat, dtype: int64"
      ]
     },
     "execution_count": 14,
     "metadata": {},
     "output_type": "execute_result"
    }
   ],
   "source": [
    "training_data['attack_cat'].value_counts()"
   ]
  },
  {
   "cell_type": "markdown",
   "id": "considerable-aerospace",
   "metadata": {},
   "source": [
    "Is there a danger of classification bias with this breakdown (only 130/175,341 instances are worms)?\n",
    "What could we do to better balance without throwing away most of the data.\n",
    "On the other hand this data set is probably representative of the percentages of malware in the wild."
   ]
  },
  {
   "cell_type": "markdown",
   "id": "stuck-castle",
   "metadata": {},
   "source": [
    "We should calculate data correlations and plot a scatter matrix."
   ]
  },
  {
   "cell_type": "markdown",
   "id": "hired-principal",
   "metadata": {},
   "source": [
    "We can look at statistics for certain features."
   ]
  },
  {
   "cell_type": "code",
   "execution_count": 15,
   "id": "lonely-night",
   "metadata": {},
   "outputs": [
    {
     "data": {
      "text/plain": [
       "count    175341.000000\n",
       "mean          1.359389\n",
       "std           6.480249\n",
       "min           0.000000\n",
       "25%           0.000008\n",
       "50%           0.001582\n",
       "75%           0.668069\n",
       "max          59.999989\n",
       "Name: dur, dtype: float64"
      ]
     },
     "execution_count": 15,
     "metadata": {},
     "output_type": "execute_result"
    }
   ],
   "source": [
    "training_data['dur'].describe()"
   ]
  },
  {
   "cell_type": "code",
   "execution_count": null,
   "id": "logical-optics",
   "metadata": {},
   "outputs": [],
   "source": []
  }
 ],
 "metadata": {
  "kernelspec": {
   "display_name": "Python 3",
   "language": "python",
   "name": "python3"
  },
  "language_info": {
   "codemirror_mode": {
    "name": "ipython",
    "version": 3
   },
   "file_extension": ".py",
   "mimetype": "text/x-python",
   "name": "python",
   "nbconvert_exporter": "python",
   "pygments_lexer": "ipython3",
   "version": "3.8.5"
  }
 },
 "nbformat": 4,
 "nbformat_minor": 5
}
