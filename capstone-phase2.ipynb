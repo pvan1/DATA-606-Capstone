{
 "cells": [
  {
   "cell_type": "markdown",
   "id": "straight-silver",
   "metadata": {},
   "source": [
    "# Capstone Phase 2 - Modeling  \n",
    "The previous notebook (capstone-phase1) was getting a bit long to run comfortably, so let's start a new one for ML.\n"
   ]
  },
  {
   "cell_type": "markdown",
   "id": "positive-belief",
   "metadata": {},
   "source": [
    "#### Import some libraries we'll need"
   ]
  },
  {
   "cell_type": "code",
   "execution_count": 1,
   "id": "varying-manitoba",
   "metadata": {},
   "outputs": [],
   "source": [
    "import pandas as pd\n",
    "import numpy as np\n",
    "from sklearn import preprocessing\n",
    "from zipfile import ZipFile\n",
    "\n",
    "import seaborn as sns\n",
    "import matplotlib.pyplot as plt\n",
    "%matplotlib inline"
   ]
  },
  {
   "cell_type": "markdown",
   "id": "exterior-reducing",
   "metadata": {},
   "source": [
    "#### Load in the training and testing data sets."
   ]
  },
  {
   "cell_type": "code",
   "execution_count": 2,
   "id": "textile-registrar",
   "metadata": {},
   "outputs": [],
   "source": [
    "with ZipFile('./Data/UNSW_NB15 training and testing sets.zip') as datasets_zip:\n",
    "    # open each file and read in to a DataFrame\n",
    "    with datasets_zip.open('UNSW_NB15_training-set.csv') as training_file:\n",
    "        training_data = pd.read_csv(training_file, index_col='id')\n",
    "    with datasets_zip.open('UNSW_NB15_testing-set.csv') as testing_file:\n",
    "        testing_data = pd.read_csv(testing_file, index_col='id')"
   ]
  },
  {
   "cell_type": "code",
   "execution_count": 3,
   "id": "virgin-miniature",
   "metadata": {},
   "outputs": [
    {
     "data": {
      "text/plain": [
       "(175341, 44)"
      ]
     },
     "execution_count": 3,
     "metadata": {},
     "output_type": "execute_result"
    }
   ],
   "source": [
    "training_data.shape"
   ]
  },
  {
   "cell_type": "code",
   "execution_count": 4,
   "id": "middle-minute",
   "metadata": {},
   "outputs": [
    {
     "data": {
      "text/plain": [
       "(82332, 44)"
      ]
     },
     "execution_count": 4,
     "metadata": {},
     "output_type": "execute_result"
    }
   ],
   "source": [
    "testing_data.shape"
   ]
  },
  {
   "cell_type": "markdown",
   "id": "executive-ghost",
   "metadata": {},
   "source": [
    "## Apply transformations determined during exploration phase."
   ]
  },
  {
   "cell_type": "code",
   "execution_count": 5,
   "id": "beneficial-jonathan",
   "metadata": {},
   "outputs": [],
   "source": [
    "# split labels and categories from the training data\n",
    "training = training_data.drop(['label', 'attack_cat'], axis=1)\n",
    "training_labels = training_data['label'].copy()\n",
    "training_cats = training_data['attack_cat'].copy()\n",
    "\n",
    "# whatever we do to the training set should also be done to the testing set\n",
    "testing = testing_data.drop(['label', 'attack_cat'], axis=1)\n",
    "testing_labels = testing_data['label'].copy()\n",
    "testing_cats = testing_data['attack_cat'].copy()"
   ]
  },
  {
   "cell_type": "code",
   "execution_count": 6,
   "id": "postal-vegetarian",
   "metadata": {},
   "outputs": [
    {
     "name": "stdout",
     "output_type": "stream",
     "text": [
      "['Analysis' 'Backdoor' 'DoS' 'Exploits' 'Fuzzers' 'Generic' 'Normal'\n",
      " 'Reconnaissance' 'Shellcode' 'Worms']\n",
      "['Analysis' 'Backdoor' 'DoS' 'Exploits' 'Fuzzers' 'Generic' 'Normal'\n",
      " 'Reconnaissance' 'Shellcode' 'Worms']\n"
     ]
    }
   ],
   "source": [
    "# expand categorical features\n",
    "training_data_onehot = pd.get_dummies(training, columns=['proto', 'service', 'state'], prefix=['proto', 'service', 'state'])\n",
    "#training_data_onehot.head()\n",
    "\n",
    "# one-hot the testing set as well\n",
    "testing_data_onehot = pd.get_dummies(testing, columns=['proto', 'service', 'state'], prefix=['proto', 'service', 'state'])\n",
    "\n",
    "# convert target classes to binary vectors\n",
    "binarizer = preprocessing.LabelBinarizer()\n",
    "binarized_cats = binarizer.fit_transform(training_cats)\n",
    "print(binarizer.classes_)\n",
    "\n",
    "# and for testing classes\n",
    "test_binarizer = preprocessing.LabelBinarizer()\n",
    "bin_test_cats = test_binarizer.fit_transform(testing_cats)\n",
    "print(test_binarizer.classes_)"
   ]
  },
  {
   "cell_type": "markdown",
   "id": "postal-merchant",
   "metadata": {},
   "source": [
    "Let's also try a simple integer mapping for the classes, it might work better for some methods"
   ]
  },
  {
   "cell_type": "code",
   "execution_count": 7,
   "id": "traditional-neutral",
   "metadata": {},
   "outputs": [],
   "source": [
    "y_train = training_cats.map({'Normal':0, 'Generic':1, 'Exploits':2, 'Fuzzers':3, 'DoS':4, \n",
    "                           'Reconnaissance':5, 'Analysis':6, 'Backdoor':7, 'Shellcode':8, 'Worms':9}).astype(int)\n",
    "y_test = testing_cats.map({'Normal':0, 'Generic':1, 'Exploits':2, 'Fuzzers':3, 'DoS':4, \n",
    "                           'Reconnaissance':5, 'Analysis':6, 'Backdoor':7, 'Shellcode':8, 'Worms':9}).astype(int)\n",
    "#y_test.head()"
   ]
  },
  {
   "cell_type": "code",
   "execution_count": 8,
   "id": "external-stockholm",
   "metadata": {},
   "outputs": [
    {
     "name": "stdout",
     "output_type": "stream",
     "text": [
      "(175341, 194)\n",
      "(82332, 190)\n"
     ]
    }
   ],
   "source": [
    "print(training_data_onehot.shape)\n",
    "print(testing_data_onehot.shape)"
   ]
  },
  {
   "cell_type": "markdown",
   "id": "tropical-bailey",
   "metadata": {},
   "source": [
    "The testing set doesn't appear to have all of the categorical values seen in the training set...."
   ]
  },
  {
   "cell_type": "code",
   "execution_count": 56,
   "id": "reasonable-maryland",
   "metadata": {},
   "outputs": [
    {
     "name": "stdout",
     "output_type": "stream",
     "text": [
      "['proto_icmp', 'proto_rtp', 'state_ECO', 'state_PAR', 'state_URN', 'state_no']\n"
     ]
    }
   ],
   "source": [
    "missing_test_cols = [x for x in list(training_data_onehot.columns) if x not in list(testing_data_onehot.columns)]\n",
    "print(missing_test_cols)"
   ]
  },
  {
   "cell_type": "code",
   "execution_count": 60,
   "id": "conscious-richardson",
   "metadata": {},
   "outputs": [
    {
     "name": "stdout",
     "output_type": "stream",
     "text": [
      "Training protos:  133\n",
      "Testing protos:  131\n",
      "Training services:  13\n",
      "Testing services:  13\n",
      "Training states:  9\n",
      "Testing states:  7\n"
     ]
    }
   ],
   "source": [
    "print('Training protos: ', training['proto'].nunique())\n",
    "print('Testing protos: ', testing['proto'].nunique())\n",
    "print('Training services: ', training['service'].nunique())\n",
    "print('Testing services: ', testing['service'].nunique())\n",
    "print('Training states: ', training['state'].nunique())\n",
    "print('Testing states: ', testing['state'].nunique())"
   ]
  },
  {
   "cell_type": "code",
   "execution_count": 64,
   "id": "centered-fantasy",
   "metadata": {},
   "outputs": [
    {
     "name": "stdout",
     "output_type": "stream",
     "text": [
      "{'icmp', 'rtp'} {'ECO', 'PAR', 'no', 'URN'}\n"
     ]
    }
   ],
   "source": [
    "missing_protos = set(training['proto'].unique())-set(testing['proto'].unique())\n",
    "missing_states = set(training['state'].unique())-set(testing['state'].unique())\n",
    "print(missing_protos, missing_states)"
   ]
  },
  {
   "cell_type": "code",
   "execution_count": 63,
   "id": "expensive-service",
   "metadata": {},
   "outputs": [
    {
     "name": "stdout",
     "output_type": "stream",
     "text": [
      "['FIN' 'INT' 'CON' 'ECO' 'REQ' 'RST' 'PAR' 'URN' 'no']\n",
      "['INT' 'FIN' 'REQ' 'ACC' 'CON' 'RST' 'CLO']\n"
     ]
    }
   ],
   "source": [
    "print(training['state'].unique())\n",
    "print(testing['state'].unique())"
   ]
  },
  {
   "cell_type": "markdown",
   "id": "composite-solid",
   "metadata": {},
   "source": [
    "It seems the training set doesn't have any instances of 'ACC' and 'CLO' states...."
   ]
  },
  {
   "cell_type": "code",
   "execution_count": 9,
   "id": "armed-characteristic",
   "metadata": {},
   "outputs": [],
   "source": [
    "# apply standard scaler to the data\n",
    "training_scaler = preprocessing.StandardScaler().fit(training_data_onehot)\n",
    "training_data_standardized = training_scaler.transform(training_data_onehot)\n",
    "\n",
    "# and the testing set\n",
    "testing_scaler = preprocessing.StandardScaler().fit(testing_data_onehot)\n",
    "testing_data_standardized = testing_scaler.transform(testing_data_onehot)"
   ]
  },
  {
   "cell_type": "code",
   "execution_count": 10,
   "id": "federal-timeline",
   "metadata": {},
   "outputs": [],
   "source": [
    "# convert standardized data back to DataFrame\n",
    "training_data_std = pd.DataFrame(training_data_standardized, columns=training_data_onehot.columns)\n",
    "# and testing data\n",
    "testing_data_std = pd.DataFrame(testing_data_standardized, columns=testing_data_onehot.columns)"
   ]
  },
  {
   "cell_type": "code",
   "execution_count": 33,
   "id": "miniature-pound",
   "metadata": {},
   "outputs": [
    {
     "data": {
      "text/html": [
       "<div>\n",
       "<style scoped>\n",
       "    .dataframe tbody tr th:only-of-type {\n",
       "        vertical-align: middle;\n",
       "    }\n",
       "\n",
       "    .dataframe tbody tr th {\n",
       "        vertical-align: top;\n",
       "    }\n",
       "\n",
       "    .dataframe thead th {\n",
       "        text-align: right;\n",
       "    }\n",
       "</style>\n",
       "<table border=\"1\" class=\"dataframe\">\n",
       "  <thead>\n",
       "    <tr style=\"text-align: right;\">\n",
       "      <th></th>\n",
       "      <th>dur</th>\n",
       "      <th>spkts</th>\n",
       "      <th>dpkts</th>\n",
       "      <th>sbytes</th>\n",
       "      <th>dbytes</th>\n",
       "      <th>rate</th>\n",
       "      <th>sttl</th>\n",
       "      <th>dttl</th>\n",
       "      <th>sload</th>\n",
       "      <th>dload</th>\n",
       "      <th>...</th>\n",
       "      <th>service_ssl</th>\n",
       "      <th>state_CON</th>\n",
       "      <th>state_ECO</th>\n",
       "      <th>state_FIN</th>\n",
       "      <th>state_INT</th>\n",
       "      <th>state_PAR</th>\n",
       "      <th>state_REQ</th>\n",
       "      <th>state_RST</th>\n",
       "      <th>state_URN</th>\n",
       "      <th>state_no</th>\n",
       "    </tr>\n",
       "  </thead>\n",
       "  <tbody>\n",
       "    <tr>\n",
       "      <th>0</th>\n",
       "      <td>-0.191029</td>\n",
       "      <td>-0.104456</td>\n",
       "      <td>-0.135769</td>\n",
       "      <td>-0.049134</td>\n",
       "      <td>-0.102726</td>\n",
       "      <td>-0.576371</td>\n",
       "      <td>0.703839</td>\n",
       "      <td>1.578100</td>\n",
       "      <td>-0.389897</td>\n",
       "      <td>-0.273700</td>\n",
       "      <td>...</td>\n",
       "      <td>-0.017874</td>\n",
       "      <td>-0.284764</td>\n",
       "      <td>-0.008273</td>\n",
       "      <td>1.119382</td>\n",
       "      <td>-0.940239</td>\n",
       "      <td>-0.002388</td>\n",
       "      <td>-0.10717</td>\n",
       "      <td>-0.021762</td>\n",
       "      <td>-0.002388</td>\n",
       "      <td>-0.002388</td>\n",
       "    </tr>\n",
       "    <tr>\n",
       "      <th>1</th>\n",
       "      <td>-0.109485</td>\n",
       "      <td>-0.046014</td>\n",
       "      <td>0.172599</td>\n",
       "      <td>-0.046410</td>\n",
       "      <td>0.188544</td>\n",
       "      <td>-0.576345</td>\n",
       "      <td>-1.141901</td>\n",
       "      <td>1.560002</td>\n",
       "      <td>-0.389928</td>\n",
       "      <td>-0.069233</td>\n",
       "      <td>...</td>\n",
       "      <td>-0.017874</td>\n",
       "      <td>-0.284764</td>\n",
       "      <td>-0.008273</td>\n",
       "      <td>1.119382</td>\n",
       "      <td>-0.940239</td>\n",
       "      <td>-0.002388</td>\n",
       "      <td>-0.10717</td>\n",
       "      <td>-0.021762</td>\n",
       "      <td>-0.002388</td>\n",
       "      <td>-0.002388</td>\n",
       "    </tr>\n",
       "    <tr>\n",
       "      <th>2</th>\n",
       "      <td>0.040699</td>\n",
       "      <td>-0.089845</td>\n",
       "      <td>-0.026933</td>\n",
       "      <td>-0.048527</td>\n",
       "      <td>-0.012133</td>\n",
       "      <td>-0.576734</td>\n",
       "      <td>-1.141901</td>\n",
       "      <td>1.560002</td>\n",
       "      <td>-0.389964</td>\n",
       "      <td>-0.252044</td>\n",
       "      <td>...</td>\n",
       "      <td>-0.017874</td>\n",
       "      <td>-0.284764</td>\n",
       "      <td>-0.008273</td>\n",
       "      <td>1.119382</td>\n",
       "      <td>-0.940239</td>\n",
       "      <td>-0.002388</td>\n",
       "      <td>-0.10717</td>\n",
       "      <td>-0.021762</td>\n",
       "      <td>-0.002388</td>\n",
       "      <td>-0.002388</td>\n",
       "    </tr>\n",
       "    <tr>\n",
       "      <th>3</th>\n",
       "      <td>0.049729</td>\n",
       "      <td>-0.060624</td>\n",
       "      <td>-0.063212</td>\n",
       "      <td>-0.047016</td>\n",
       "      <td>-0.098563</td>\n",
       "      <td>-0.576737</td>\n",
       "      <td>-1.141901</td>\n",
       "      <td>1.560002</td>\n",
       "      <td>-0.389958</td>\n",
       "      <td>-0.275821</td>\n",
       "      <td>...</td>\n",
       "      <td>-0.017874</td>\n",
       "      <td>-0.284764</td>\n",
       "      <td>-0.008273</td>\n",
       "      <td>1.119382</td>\n",
       "      <td>-0.940239</td>\n",
       "      <td>-0.002388</td>\n",
       "      <td>-0.10717</td>\n",
       "      <td>-0.021762</td>\n",
       "      <td>-0.002388</td>\n",
       "      <td>-0.002388</td>\n",
       "    </tr>\n",
       "    <tr>\n",
       "      <th>4</th>\n",
       "      <td>-0.140417</td>\n",
       "      <td>-0.075235</td>\n",
       "      <td>-0.117630</td>\n",
       "      <td>-0.047554</td>\n",
       "      <td>-0.102057</td>\n",
       "      <td>-0.576617</td>\n",
       "      <td>0.723268</td>\n",
       "      <td>1.560002</td>\n",
       "      <td>-0.389927</td>\n",
       "      <td>-0.275561</td>\n",
       "      <td>...</td>\n",
       "      <td>-0.017874</td>\n",
       "      <td>-0.284764</td>\n",
       "      <td>-0.008273</td>\n",
       "      <td>1.119382</td>\n",
       "      <td>-0.940239</td>\n",
       "      <td>-0.002388</td>\n",
       "      <td>-0.10717</td>\n",
       "      <td>-0.021762</td>\n",
       "      <td>-0.002388</td>\n",
       "      <td>-0.002388</td>\n",
       "    </tr>\n",
       "  </tbody>\n",
       "</table>\n",
       "<p>5 rows × 194 columns</p>\n",
       "</div>"
      ],
      "text/plain": [
       "        dur     spkts     dpkts    sbytes    dbytes      rate      sttl  \\\n",
       "0 -0.191029 -0.104456 -0.135769 -0.049134 -0.102726 -0.576371  0.703839   \n",
       "1 -0.109485 -0.046014  0.172599 -0.046410  0.188544 -0.576345 -1.141901   \n",
       "2  0.040699 -0.089845 -0.026933 -0.048527 -0.012133 -0.576734 -1.141901   \n",
       "3  0.049729 -0.060624 -0.063212 -0.047016 -0.098563 -0.576737 -1.141901   \n",
       "4 -0.140417 -0.075235 -0.117630 -0.047554 -0.102057 -0.576617  0.723268   \n",
       "\n",
       "       dttl     sload     dload  ...  service_ssl  state_CON  state_ECO  \\\n",
       "0  1.578100 -0.389897 -0.273700  ...    -0.017874  -0.284764  -0.008273   \n",
       "1  1.560002 -0.389928 -0.069233  ...    -0.017874  -0.284764  -0.008273   \n",
       "2  1.560002 -0.389964 -0.252044  ...    -0.017874  -0.284764  -0.008273   \n",
       "3  1.560002 -0.389958 -0.275821  ...    -0.017874  -0.284764  -0.008273   \n",
       "4  1.560002 -0.389927 -0.275561  ...    -0.017874  -0.284764  -0.008273   \n",
       "\n",
       "   state_FIN  state_INT  state_PAR  state_REQ  state_RST  state_URN  state_no  \n",
       "0   1.119382  -0.940239  -0.002388   -0.10717  -0.021762  -0.002388 -0.002388  \n",
       "1   1.119382  -0.940239  -0.002388   -0.10717  -0.021762  -0.002388 -0.002388  \n",
       "2   1.119382  -0.940239  -0.002388   -0.10717  -0.021762  -0.002388 -0.002388  \n",
       "3   1.119382  -0.940239  -0.002388   -0.10717  -0.021762  -0.002388 -0.002388  \n",
       "4   1.119382  -0.940239  -0.002388   -0.10717  -0.021762  -0.002388 -0.002388  \n",
       "\n",
       "[5 rows x 194 columns]"
      ]
     },
     "execution_count": 33,
     "metadata": {},
     "output_type": "execute_result"
    }
   ],
   "source": [
    "training_data_std.head()"
   ]
  },
  {
   "cell_type": "code",
   "execution_count": 34,
   "id": "hearing-clinton",
   "metadata": {},
   "outputs": [
    {
     "data": {
      "text/html": [
       "<div>\n",
       "<style scoped>\n",
       "    .dataframe tbody tr th:only-of-type {\n",
       "        vertical-align: middle;\n",
       "    }\n",
       "\n",
       "    .dataframe tbody tr th {\n",
       "        vertical-align: top;\n",
       "    }\n",
       "\n",
       "    .dataframe thead th {\n",
       "        text-align: right;\n",
       "    }\n",
       "</style>\n",
       "<table border=\"1\" class=\"dataframe\">\n",
       "  <thead>\n",
       "    <tr style=\"text-align: right;\">\n",
       "      <th></th>\n",
       "      <th>dur</th>\n",
       "      <th>spkts</th>\n",
       "      <th>dpkts</th>\n",
       "      <th>sbytes</th>\n",
       "      <th>dbytes</th>\n",
       "      <th>rate</th>\n",
       "      <th>sttl</th>\n",
       "      <th>dttl</th>\n",
       "      <th>sload</th>\n",
       "      <th>dload</th>\n",
       "      <th>...</th>\n",
       "      <th>service_snmp</th>\n",
       "      <th>service_ssh</th>\n",
       "      <th>service_ssl</th>\n",
       "      <th>state_ACC</th>\n",
       "      <th>state_CLO</th>\n",
       "      <th>state_CON</th>\n",
       "      <th>state_FIN</th>\n",
       "      <th>state_INT</th>\n",
       "      <th>state_REQ</th>\n",
       "      <th>state_RST</th>\n",
       "    </tr>\n",
       "  </thead>\n",
       "  <tbody>\n",
       "    <tr>\n",
       "      <th>0</th>\n",
       "      <td>-0.213727</td>\n",
       "      <td>-0.124455</td>\n",
       "      <td>-0.151816</td>\n",
       "      <td>-0.043684</td>\n",
       "      <td>-0.087369</td>\n",
       "      <td>0.057181</td>\n",
       "      <td>0.71944</td>\n",
       "      <td>-0.820395</td>\n",
       "      <td>0.643913</td>\n",
       "      <td>-0.263498</td>\n",
       "      <td>...</td>\n",
       "      <td>-0.018771</td>\n",
       "      <td>-0.049839</td>\n",
       "      <td>-0.019092</td>\n",
       "      <td>-0.00697</td>\n",
       "      <td>-0.003485</td>\n",
       "      <td>-0.304403</td>\n",
       "      <td>-0.956561</td>\n",
       "      <td>1.187424</td>\n",
       "      <td>-0.151277</td>\n",
       "      <td>-0.003485</td>\n",
       "    </tr>\n",
       "    <tr>\n",
       "      <th>1</th>\n",
       "      <td>-0.213728</td>\n",
       "      <td>-0.124455</td>\n",
       "      <td>-0.151816</td>\n",
       "      <td>-0.036308</td>\n",
       "      <td>-0.087369</td>\n",
       "      <td>0.286565</td>\n",
       "      <td>0.71944</td>\n",
       "      <td>-0.820395</td>\n",
       "      <td>4.539351</td>\n",
       "      <td>-0.263498</td>\n",
       "      <td>...</td>\n",
       "      <td>-0.018771</td>\n",
       "      <td>-0.049839</td>\n",
       "      <td>-0.019092</td>\n",
       "      <td>-0.00697</td>\n",
       "      <td>-0.003485</td>\n",
       "      <td>-0.304403</td>\n",
       "      <td>-0.956561</td>\n",
       "      <td>1.187424</td>\n",
       "      <td>-0.151277</td>\n",
       "      <td>-0.003485</td>\n",
       "    </tr>\n",
       "    <tr>\n",
       "      <th>2</th>\n",
       "      <td>-0.213729</td>\n",
       "      <td>-0.124455</td>\n",
       "      <td>-0.151816</td>\n",
       "      <td>-0.040351</td>\n",
       "      <td>-0.087369</td>\n",
       "      <td>0.791209</td>\n",
       "      <td>0.71944</td>\n",
       "      <td>-0.820395</td>\n",
       "      <td>4.391459</td>\n",
       "      <td>-0.263498</td>\n",
       "      <td>...</td>\n",
       "      <td>-0.018771</td>\n",
       "      <td>-0.049839</td>\n",
       "      <td>-0.019092</td>\n",
       "      <td>-0.00697</td>\n",
       "      <td>-0.003485</td>\n",
       "      <td>-0.304403</td>\n",
       "      <td>-0.956561</td>\n",
       "      <td>1.187424</td>\n",
       "      <td>-0.151277</td>\n",
       "      <td>-0.003485</td>\n",
       "    </tr>\n",
       "    <tr>\n",
       "      <th>3</th>\n",
       "      <td>-0.213729</td>\n",
       "      <td>-0.124455</td>\n",
       "      <td>-0.151816</td>\n",
       "      <td>-0.041330</td>\n",
       "      <td>-0.087369</td>\n",
       "      <td>0.566923</td>\n",
       "      <td>0.71944</td>\n",
       "      <td>-0.820395</td>\n",
       "      <td>2.977031</td>\n",
       "      <td>-0.263498</td>\n",
       "      <td>...</td>\n",
       "      <td>-0.018771</td>\n",
       "      <td>-0.049839</td>\n",
       "      <td>-0.019092</td>\n",
       "      <td>-0.00697</td>\n",
       "      <td>-0.003485</td>\n",
       "      <td>-0.304403</td>\n",
       "      <td>-0.956561</td>\n",
       "      <td>1.187424</td>\n",
       "      <td>-0.151277</td>\n",
       "      <td>-0.003485</td>\n",
       "    </tr>\n",
       "    <tr>\n",
       "      <th>4</th>\n",
       "      <td>-0.213728</td>\n",
       "      <td>-0.124455</td>\n",
       "      <td>-0.151816</td>\n",
       "      <td>-0.034187</td>\n",
       "      <td>-0.087369</td>\n",
       "      <td>0.118350</td>\n",
       "      <td>0.71944</td>\n",
       "      <td>-0.820395</td>\n",
       "      <td>4.369219</td>\n",
       "      <td>-0.263498</td>\n",
       "      <td>...</td>\n",
       "      <td>-0.018771</td>\n",
       "      <td>-0.049839</td>\n",
       "      <td>-0.019092</td>\n",
       "      <td>-0.00697</td>\n",
       "      <td>-0.003485</td>\n",
       "      <td>-0.304403</td>\n",
       "      <td>-0.956561</td>\n",
       "      <td>1.187424</td>\n",
       "      <td>-0.151277</td>\n",
       "      <td>-0.003485</td>\n",
       "    </tr>\n",
       "  </tbody>\n",
       "</table>\n",
       "<p>5 rows × 190 columns</p>\n",
       "</div>"
      ],
      "text/plain": [
       "        dur     spkts     dpkts    sbytes    dbytes      rate     sttl  \\\n",
       "0 -0.213727 -0.124455 -0.151816 -0.043684 -0.087369  0.057181  0.71944   \n",
       "1 -0.213728 -0.124455 -0.151816 -0.036308 -0.087369  0.286565  0.71944   \n",
       "2 -0.213729 -0.124455 -0.151816 -0.040351 -0.087369  0.791209  0.71944   \n",
       "3 -0.213729 -0.124455 -0.151816 -0.041330 -0.087369  0.566923  0.71944   \n",
       "4 -0.213728 -0.124455 -0.151816 -0.034187 -0.087369  0.118350  0.71944   \n",
       "\n",
       "       dttl     sload     dload  ...  service_snmp  service_ssh  service_ssl  \\\n",
       "0 -0.820395  0.643913 -0.263498  ...     -0.018771    -0.049839    -0.019092   \n",
       "1 -0.820395  4.539351 -0.263498  ...     -0.018771    -0.049839    -0.019092   \n",
       "2 -0.820395  4.391459 -0.263498  ...     -0.018771    -0.049839    -0.019092   \n",
       "3 -0.820395  2.977031 -0.263498  ...     -0.018771    -0.049839    -0.019092   \n",
       "4 -0.820395  4.369219 -0.263498  ...     -0.018771    -0.049839    -0.019092   \n",
       "\n",
       "   state_ACC  state_CLO  state_CON  state_FIN  state_INT  state_REQ  state_RST  \n",
       "0   -0.00697  -0.003485  -0.304403  -0.956561   1.187424  -0.151277  -0.003485  \n",
       "1   -0.00697  -0.003485  -0.304403  -0.956561   1.187424  -0.151277  -0.003485  \n",
       "2   -0.00697  -0.003485  -0.304403  -0.956561   1.187424  -0.151277  -0.003485  \n",
       "3   -0.00697  -0.003485  -0.304403  -0.956561   1.187424  -0.151277  -0.003485  \n",
       "4   -0.00697  -0.003485  -0.304403  -0.956561   1.187424  -0.151277  -0.003485  \n",
       "\n",
       "[5 rows x 190 columns]"
      ]
     },
     "execution_count": 34,
     "metadata": {},
     "output_type": "execute_result"
    }
   ],
   "source": [
    "testing_data_std.head()"
   ]
  },
  {
   "cell_type": "markdown",
   "id": "polished-architecture",
   "metadata": {},
   "source": [
    "## Load feature subsets"
   ]
  },
  {
   "cell_type": "code",
   "execution_count": 11,
   "id": "involved-logan",
   "metadata": {},
   "outputs": [],
   "source": [
    "subsets = pd.read_pickle(\"./data/subsets.pkl\")"
   ]
  },
  {
   "cell_type": "code",
   "execution_count": 12,
   "id": "opened-bracket",
   "metadata": {},
   "outputs": [
    {
     "data": {
      "text/html": [
       "<div>\n",
       "<style scoped>\n",
       "    .dataframe tbody tr th:only-of-type {\n",
       "        vertical-align: middle;\n",
       "    }\n",
       "\n",
       "    .dataframe tbody tr th {\n",
       "        vertical-align: top;\n",
       "    }\n",
       "\n",
       "    .dataframe thead th {\n",
       "        text-align: right;\n",
       "    }\n",
       "</style>\n",
       "<table border=\"1\" class=\"dataframe\">\n",
       "  <thead>\n",
       "    <tr style=\"text-align: right;\">\n",
       "      <th></th>\n",
       "      <th>Info Gain</th>\n",
       "      <th>ANOVA F-val</th>\n",
       "      <th>Var Thresh</th>\n",
       "      <th>MAD</th>\n",
       "      <th>Corr</th>\n",
       "    </tr>\n",
       "  </thead>\n",
       "  <tbody>\n",
       "    <tr>\n",
       "      <th>0</th>\n",
       "      <td>sbytes</td>\n",
       "      <td>ct_dst_sport_ltm</td>\n",
       "      <td>spkts</td>\n",
       "      <td>sload</td>\n",
       "      <td>dur</td>\n",
       "    </tr>\n",
       "    <tr>\n",
       "      <th>1</th>\n",
       "      <td>smean</td>\n",
       "      <td>ct_dst_src_ltm</td>\n",
       "      <td>dpkts</td>\n",
       "      <td>rate</td>\n",
       "      <td>spkts</td>\n",
       "    </tr>\n",
       "    <tr>\n",
       "      <th>2</th>\n",
       "      <td>sload</td>\n",
       "      <td>ct_srv_dst</td>\n",
       "      <td>sbytes</td>\n",
       "      <td>dload</td>\n",
       "      <td>dpkts</td>\n",
       "    </tr>\n",
       "    <tr>\n",
       "      <th>3</th>\n",
       "      <td>dbytes</td>\n",
       "      <td>ct_src_dport_ltm</td>\n",
       "      <td>dbytes</td>\n",
       "      <td>sbytes</td>\n",
       "      <td>rate</td>\n",
       "    </tr>\n",
       "    <tr>\n",
       "      <th>4</th>\n",
       "      <td>rate</td>\n",
       "      <td>ct_srv_src</td>\n",
       "      <td>rate</td>\n",
       "      <td>dbytes</td>\n",
       "      <td>sttl</td>\n",
       "    </tr>\n",
       "  </tbody>\n",
       "</table>\n",
       "</div>"
      ],
      "text/plain": [
       "  Info Gain       ANOVA F-val Var Thresh     MAD   Corr\n",
       "0    sbytes  ct_dst_sport_ltm      spkts   sload    dur\n",
       "1     smean    ct_dst_src_ltm      dpkts    rate  spkts\n",
       "2     sload        ct_srv_dst     sbytes   dload  dpkts\n",
       "3    dbytes  ct_src_dport_ltm     dbytes  sbytes   rate\n",
       "4      rate        ct_srv_src       rate  dbytes   sttl"
      ]
     },
     "execution_count": 12,
     "metadata": {},
     "output_type": "execute_result"
    }
   ],
   "source": [
    "subsets.head()"
   ]
  },
  {
   "cell_type": "markdown",
   "id": "weird-consumer",
   "metadata": {},
   "source": [
    "Make a subset of the Info Gain features"
   ]
  },
  {
   "cell_type": "code",
   "execution_count": 13,
   "id": "prescription-friday",
   "metadata": {},
   "outputs": [],
   "source": [
    "ig_cols = subsets['Info Gain'] # pandas Series\n",
    "select_cols = training_data_std[ig_cols]\n",
    "\n",
    "# test set\n",
    "sel_test_cols = testing_data_std[ig_cols]"
   ]
  },
  {
   "cell_type": "code",
   "execution_count": 14,
   "id": "attempted-removal",
   "metadata": {},
   "outputs": [],
   "source": [
    "train_std_ig = select_cols.copy()\n",
    "test_std_ig = sel_test_cols.copy()"
   ]
  },
  {
   "cell_type": "code",
   "execution_count": 41,
   "id": "seasonal-harvard",
   "metadata": {},
   "outputs": [
    {
     "data": {
      "text/html": [
       "<div>\n",
       "<style scoped>\n",
       "    .dataframe tbody tr th:only-of-type {\n",
       "        vertical-align: middle;\n",
       "    }\n",
       "\n",
       "    .dataframe tbody tr th {\n",
       "        vertical-align: top;\n",
       "    }\n",
       "\n",
       "    .dataframe thead th {\n",
       "        text-align: right;\n",
       "    }\n",
       "</style>\n",
       "<table border=\"1\" class=\"dataframe\">\n",
       "  <thead>\n",
       "    <tr style=\"text-align: right;\">\n",
       "      <th></th>\n",
       "      <th>sbytes</th>\n",
       "      <th>smean</th>\n",
       "      <th>sload</th>\n",
       "      <th>dbytes</th>\n",
       "      <th>rate</th>\n",
       "      <th>dmean</th>\n",
       "      <th>dur</th>\n",
       "      <th>ct_dst_sport_ltm</th>\n",
       "      <th>ct_srv_dst</th>\n",
       "      <th>ct_state_ttl</th>\n",
       "      <th>dttl</th>\n",
       "      <th>dload</th>\n",
       "      <th>ct_dst_src_ltm</th>\n",
       "      <th>ct_srv_src</th>\n",
       "      <th>dinpkt</th>\n",
       "      <th>sttl</th>\n",
       "      <th>ct_src_dport_ltm</th>\n",
       "      <th>dpkts</th>\n",
       "      <th>ct_dst_ltm</th>\n",
       "      <th>sinpkt</th>\n",
       "    </tr>\n",
       "  </thead>\n",
       "  <tbody>\n",
       "    <tr>\n",
       "      <th>0</th>\n",
       "      <td>-0.049134</td>\n",
       "      <td>-0.458048</td>\n",
       "      <td>-0.389897</td>\n",
       "      <td>-0.102726</td>\n",
       "      <td>-0.576371</td>\n",
       "      <td>-0.314240</td>\n",
       "      <td>-0.191029</td>\n",
       "      <td>-0.554373</td>\n",
       "      <td>-0.753074</td>\n",
       "      <td>-1.366486</td>\n",
       "      <td>1.578100</td>\n",
       "      <td>-0.273700</td>\n",
       "      <td>-0.705529</td>\n",
       "      <td>-0.775991</td>\n",
       "      <td>-0.080885</td>\n",
       "      <td>0.703839</td>\n",
       "      <td>-0.544736</td>\n",
       "      <td>-0.135769</td>\n",
       "      <td>-0.645013</td>\n",
       "      <td>-0.132788</td>\n",
       "    </tr>\n",
       "    <tr>\n",
       "      <th>1</th>\n",
       "      <td>-0.046410</td>\n",
       "      <td>-0.414076</td>\n",
       "      <td>-0.389928</td>\n",
       "      <td>0.188544</td>\n",
       "      <td>-0.576345</td>\n",
       "      <td>3.800869</td>\n",
       "      <td>-0.109485</td>\n",
       "      <td>-0.554373</td>\n",
       "      <td>-0.288257</td>\n",
       "      <td>-0.318711</td>\n",
       "      <td>1.560002</td>\n",
       "      <td>-0.069233</td>\n",
       "      <td>-0.614256</td>\n",
       "      <td>3.147666</td>\n",
       "      <td>-0.073735</td>\n",
       "      <td>-1.141901</td>\n",
       "      <td>-0.544736</td>\n",
       "      <td>0.172599</td>\n",
       "      <td>-0.645013</td>\n",
       "      <td>-0.129251</td>\n",
       "    </tr>\n",
       "    <tr>\n",
       "      <th>2</th>\n",
       "      <td>-0.048527</td>\n",
       "      <td>-0.443391</td>\n",
       "      <td>-0.389964</td>\n",
       "      <td>-0.012133</td>\n",
       "      <td>-0.576734</td>\n",
       "      <td>2.709185</td>\n",
       "      <td>0.040699</td>\n",
       "      <td>-0.554373</td>\n",
       "      <td>-0.288257</td>\n",
       "      <td>-0.318711</td>\n",
       "      <td>1.560002</td>\n",
       "      <td>-0.252044</td>\n",
       "      <td>-0.522983</td>\n",
       "      <td>-0.215468</td>\n",
       "      <td>0.014711</td>\n",
       "      <td>-1.141901</td>\n",
       "      <td>-0.544736</td>\n",
       "      <td>-0.026933</td>\n",
       "      <td>-0.520827</td>\n",
       "      <td>-0.104126</td>\n",
       "    </tr>\n",
       "    <tr>\n",
       "      <th>3</th>\n",
       "      <td>-0.047016</td>\n",
       "      <td>-0.414076</td>\n",
       "      <td>-0.389958</td>\n",
       "      <td>-0.098563</td>\n",
       "      <td>-0.576737</td>\n",
       "      <td>-0.232945</td>\n",
       "      <td>0.049729</td>\n",
       "      <td>-0.554373</td>\n",
       "      <td>-0.753074</td>\n",
       "      <td>-0.318711</td>\n",
       "      <td>1.560002</td>\n",
       "      <td>-0.275821</td>\n",
       "      <td>-0.522983</td>\n",
       "      <td>-0.775991</td>\n",
       "      <td>0.002046</td>\n",
       "      <td>-1.141901</td>\n",
       "      <td>-0.544736</td>\n",
       "      <td>-0.063212</td>\n",
       "      <td>-0.520827</td>\n",
       "      <td>-0.115034</td>\n",
       "    </tr>\n",
       "    <tr>\n",
       "      <th>4</th>\n",
       "      <td>-0.047554</td>\n",
       "      <td>-0.409190</td>\n",
       "      <td>-0.389927</td>\n",
       "      <td>-0.102057</td>\n",
       "      <td>-0.576617</td>\n",
       "      <td>-0.306498</td>\n",
       "      <td>-0.140417</td>\n",
       "      <td>-0.554373</td>\n",
       "      <td>2.779535</td>\n",
       "      <td>-0.318711</td>\n",
       "      <td>1.560002</td>\n",
       "      <td>-0.275561</td>\n",
       "      <td>2.854115</td>\n",
       "      <td>3.147666</td>\n",
       "      <td>-0.012721</td>\n",
       "      <td>0.723268</td>\n",
       "      <td>-0.420468</td>\n",
       "      <td>-0.117630</td>\n",
       "      <td>-0.520827</td>\n",
       "      <td>-0.129549</td>\n",
       "    </tr>\n",
       "  </tbody>\n",
       "</table>\n",
       "</div>"
      ],
      "text/plain": [
       "     sbytes     smean     sload    dbytes      rate     dmean       dur  \\\n",
       "0 -0.049134 -0.458048 -0.389897 -0.102726 -0.576371 -0.314240 -0.191029   \n",
       "1 -0.046410 -0.414076 -0.389928  0.188544 -0.576345  3.800869 -0.109485   \n",
       "2 -0.048527 -0.443391 -0.389964 -0.012133 -0.576734  2.709185  0.040699   \n",
       "3 -0.047016 -0.414076 -0.389958 -0.098563 -0.576737 -0.232945  0.049729   \n",
       "4 -0.047554 -0.409190 -0.389927 -0.102057 -0.576617 -0.306498 -0.140417   \n",
       "\n",
       "   ct_dst_sport_ltm  ct_srv_dst  ct_state_ttl      dttl     dload  \\\n",
       "0         -0.554373   -0.753074     -1.366486  1.578100 -0.273700   \n",
       "1         -0.554373   -0.288257     -0.318711  1.560002 -0.069233   \n",
       "2         -0.554373   -0.288257     -0.318711  1.560002 -0.252044   \n",
       "3         -0.554373   -0.753074     -0.318711  1.560002 -0.275821   \n",
       "4         -0.554373    2.779535     -0.318711  1.560002 -0.275561   \n",
       "\n",
       "   ct_dst_src_ltm  ct_srv_src    dinpkt      sttl  ct_src_dport_ltm     dpkts  \\\n",
       "0       -0.705529   -0.775991 -0.080885  0.703839         -0.544736 -0.135769   \n",
       "1       -0.614256    3.147666 -0.073735 -1.141901         -0.544736  0.172599   \n",
       "2       -0.522983   -0.215468  0.014711 -1.141901         -0.544736 -0.026933   \n",
       "3       -0.522983   -0.775991  0.002046 -1.141901         -0.544736 -0.063212   \n",
       "4        2.854115    3.147666 -0.012721  0.723268         -0.420468 -0.117630   \n",
       "\n",
       "   ct_dst_ltm    sinpkt  \n",
       "0   -0.645013 -0.132788  \n",
       "1   -0.645013 -0.129251  \n",
       "2   -0.520827 -0.104126  \n",
       "3   -0.520827 -0.115034  \n",
       "4   -0.520827 -0.129549  "
      ]
     },
     "execution_count": 41,
     "metadata": {},
     "output_type": "execute_result"
    }
   ],
   "source": [
    "train_std_ig.head()"
   ]
  },
  {
   "cell_type": "code",
   "execution_count": 42,
   "id": "familiar-pepper",
   "metadata": {},
   "outputs": [
    {
     "data": {
      "text/html": [
       "<div>\n",
       "<style scoped>\n",
       "    .dataframe tbody tr th:only-of-type {\n",
       "        vertical-align: middle;\n",
       "    }\n",
       "\n",
       "    .dataframe tbody tr th {\n",
       "        vertical-align: top;\n",
       "    }\n",
       "\n",
       "    .dataframe thead th {\n",
       "        text-align: right;\n",
       "    }\n",
       "</style>\n",
       "<table border=\"1\" class=\"dataframe\">\n",
       "  <thead>\n",
       "    <tr style=\"text-align: right;\">\n",
       "      <th></th>\n",
       "      <th>sbytes</th>\n",
       "      <th>smean</th>\n",
       "      <th>sload</th>\n",
       "      <th>dbytes</th>\n",
       "      <th>rate</th>\n",
       "      <th>dmean</th>\n",
       "      <th>dur</th>\n",
       "      <th>ct_dst_sport_ltm</th>\n",
       "      <th>ct_srv_dst</th>\n",
       "      <th>ct_state_ttl</th>\n",
       "      <th>dttl</th>\n",
       "      <th>dload</th>\n",
       "      <th>ct_dst_src_ltm</th>\n",
       "      <th>ct_srv_src</th>\n",
       "      <th>dinpkt</th>\n",
       "      <th>sttl</th>\n",
       "      <th>ct_src_dport_ltm</th>\n",
       "      <th>dpkts</th>\n",
       "      <th>ct_dst_ltm</th>\n",
       "      <th>sinpkt</th>\n",
       "    </tr>\n",
       "  </thead>\n",
       "  <tbody>\n",
       "    <tr>\n",
       "      <th>0</th>\n",
       "      <td>-0.043684</td>\n",
       "      <td>0.520319</td>\n",
       "      <td>0.643913</td>\n",
       "      <td>-0.087369</td>\n",
       "      <td>0.057181</td>\n",
       "      <td>-0.475371</td>\n",
       "      <td>-0.213727</td>\n",
       "      <td>-0.450186</td>\n",
       "      <td>-0.644190</td>\n",
       "      <td>0.591021</td>\n",
       "      <td>-0.820395</td>\n",
       "      <td>-0.263498</td>\n",
       "      <td>-0.477994</td>\n",
       "      <td>-0.680474</td>\n",
       "      <td>-0.094169</td>\n",
       "      <td>0.71944</td>\n",
       "      <td>-0.468312</td>\n",
       "      <td>-0.151816</td>\n",
       "      <td>-0.563660</td>\n",
       "      <td>-0.122179</td>\n",
       "    </tr>\n",
       "    <tr>\n",
       "      <th>1</th>\n",
       "      <td>-0.036308</td>\n",
       "      <td>3.556716</td>\n",
       "      <td>4.539351</td>\n",
       "      <td>-0.087369</td>\n",
       "      <td>0.286565</td>\n",
       "      <td>-0.475371</td>\n",
       "      <td>-0.213728</td>\n",
       "      <td>-0.450186</td>\n",
       "      <td>-0.644190</td>\n",
       "      <td>0.591021</td>\n",
       "      <td>-0.820395</td>\n",
       "      <td>-0.263498</td>\n",
       "      <td>-0.477994</td>\n",
       "      <td>-0.680474</td>\n",
       "      <td>-0.094169</td>\n",
       "      <td>0.71944</td>\n",
       "      <td>-0.468312</td>\n",
       "      <td>-0.151816</td>\n",
       "      <td>-0.563660</td>\n",
       "      <td>-0.122180</td>\n",
       "    </tr>\n",
       "    <tr>\n",
       "      <th>2</th>\n",
       "      <td>-0.040351</td>\n",
       "      <td>1.892214</td>\n",
       "      <td>4.391459</td>\n",
       "      <td>-0.087369</td>\n",
       "      <td>0.791209</td>\n",
       "      <td>-0.475371</td>\n",
       "      <td>-0.213729</td>\n",
       "      <td>-0.450186</td>\n",
       "      <td>-0.554273</td>\n",
       "      <td>0.591021</td>\n",
       "      <td>-0.820395</td>\n",
       "      <td>-0.263498</td>\n",
       "      <td>-0.390391</td>\n",
       "      <td>-0.590304</td>\n",
       "      <td>-0.094169</td>\n",
       "      <td>0.71944</td>\n",
       "      <td>-0.468312</td>\n",
       "      <td>-0.151816</td>\n",
       "      <td>-0.563660</td>\n",
       "      <td>-0.122180</td>\n",
       "    </tr>\n",
       "    <tr>\n",
       "      <th>3</th>\n",
       "      <td>-0.041330</td>\n",
       "      <td>1.489280</td>\n",
       "      <td>2.977031</td>\n",
       "      <td>-0.087369</td>\n",
       "      <td>0.566923</td>\n",
       "      <td>-0.475371</td>\n",
       "      <td>-0.213729</td>\n",
       "      <td>-0.450186</td>\n",
       "      <td>-0.554273</td>\n",
       "      <td>0.591021</td>\n",
       "      <td>-0.820395</td>\n",
       "      <td>-0.263498</td>\n",
       "      <td>-0.390391</td>\n",
       "      <td>-0.590304</td>\n",
       "      <td>-0.094169</td>\n",
       "      <td>0.71944</td>\n",
       "      <td>-0.349115</td>\n",
       "      <td>-0.151816</td>\n",
       "      <td>-0.444868</td>\n",
       "      <td>-0.122180</td>\n",
       "    </tr>\n",
       "    <tr>\n",
       "      <th>4</th>\n",
       "      <td>-0.034187</td>\n",
       "      <td>4.429740</td>\n",
       "      <td>4.369219</td>\n",
       "      <td>-0.087369</td>\n",
       "      <td>0.118350</td>\n",
       "      <td>-0.475371</td>\n",
       "      <td>-0.213728</td>\n",
       "      <td>-0.450186</td>\n",
       "      <td>-0.554273</td>\n",
       "      <td>0.591021</td>\n",
       "      <td>-0.820395</td>\n",
       "      <td>-0.263498</td>\n",
       "      <td>-0.390391</td>\n",
       "      <td>-0.590304</td>\n",
       "      <td>-0.094169</td>\n",
       "      <td>0.71944</td>\n",
       "      <td>-0.349115</td>\n",
       "      <td>-0.151816</td>\n",
       "      <td>-0.444868</td>\n",
       "      <td>-0.122179</td>\n",
       "    </tr>\n",
       "  </tbody>\n",
       "</table>\n",
       "</div>"
      ],
      "text/plain": [
       "     sbytes     smean     sload    dbytes      rate     dmean       dur  \\\n",
       "0 -0.043684  0.520319  0.643913 -0.087369  0.057181 -0.475371 -0.213727   \n",
       "1 -0.036308  3.556716  4.539351 -0.087369  0.286565 -0.475371 -0.213728   \n",
       "2 -0.040351  1.892214  4.391459 -0.087369  0.791209 -0.475371 -0.213729   \n",
       "3 -0.041330  1.489280  2.977031 -0.087369  0.566923 -0.475371 -0.213729   \n",
       "4 -0.034187  4.429740  4.369219 -0.087369  0.118350 -0.475371 -0.213728   \n",
       "\n",
       "   ct_dst_sport_ltm  ct_srv_dst  ct_state_ttl      dttl     dload  \\\n",
       "0         -0.450186   -0.644190      0.591021 -0.820395 -0.263498   \n",
       "1         -0.450186   -0.644190      0.591021 -0.820395 -0.263498   \n",
       "2         -0.450186   -0.554273      0.591021 -0.820395 -0.263498   \n",
       "3         -0.450186   -0.554273      0.591021 -0.820395 -0.263498   \n",
       "4         -0.450186   -0.554273      0.591021 -0.820395 -0.263498   \n",
       "\n",
       "   ct_dst_src_ltm  ct_srv_src    dinpkt     sttl  ct_src_dport_ltm     dpkts  \\\n",
       "0       -0.477994   -0.680474 -0.094169  0.71944         -0.468312 -0.151816   \n",
       "1       -0.477994   -0.680474 -0.094169  0.71944         -0.468312 -0.151816   \n",
       "2       -0.390391   -0.590304 -0.094169  0.71944         -0.468312 -0.151816   \n",
       "3       -0.390391   -0.590304 -0.094169  0.71944         -0.349115 -0.151816   \n",
       "4       -0.390391   -0.590304 -0.094169  0.71944         -0.349115 -0.151816   \n",
       "\n",
       "   ct_dst_ltm    sinpkt  \n",
       "0   -0.563660 -0.122179  \n",
       "1   -0.563660 -0.122180  \n",
       "2   -0.563660 -0.122180  \n",
       "3   -0.444868 -0.122180  \n",
       "4   -0.444868 -0.122179  "
      ]
     },
     "execution_count": 42,
     "metadata": {},
     "output_type": "execute_result"
    }
   ],
   "source": [
    "test_std_ig.head()"
   ]
  },
  {
   "cell_type": "markdown",
   "id": "pretty-repeat",
   "metadata": {},
   "source": [
    "## K-nearest neighbors"
   ]
  },
  {
   "cell_type": "code",
   "execution_count": 22,
   "id": "centered-military",
   "metadata": {},
   "outputs": [],
   "source": [
    "from sklearn.neighbors import KNeighborsClassifier"
   ]
  },
  {
   "cell_type": "code",
   "execution_count": 81,
   "id": "previous-heather",
   "metadata": {},
   "outputs": [
    {
     "data": {
      "text/plain": [
       "KNeighborsClassifier()"
      ]
     },
     "execution_count": 81,
     "metadata": {},
     "output_type": "execute_result"
    }
   ],
   "source": [
    "# start with default settings; k=5, distance=minkowski\n",
    "knn_model = KNeighborsClassifier(n_jobs=-1)\n",
    "knn_model.fit(train_std_ig, y_train)#binarized_cats)"
   ]
  },
  {
   "cell_type": "code",
   "execution_count": 82,
   "id": "fundamental-panama",
   "metadata": {},
   "outputs": [],
   "source": [
    "# predict classes for the test set\n",
    "y_pred = knn_model.predict(test_std_ig)"
   ]
  },
  {
   "cell_type": "markdown",
   "id": "historical-closing",
   "metadata": {},
   "source": [
    "Let's see how we did"
   ]
  },
  {
   "cell_type": "code",
   "execution_count": 48,
   "id": "therapeutic-regular",
   "metadata": {},
   "outputs": [],
   "source": [
    "from sklearn.metrics import classification_report, confusion_matrix, accuracy_score"
   ]
  },
  {
   "cell_type": "code",
   "execution_count": 86,
   "id": "growing-probe",
   "metadata": {},
   "outputs": [
    {
     "name": "stdout",
     "output_type": "stream",
     "text": [
      "[[27061   368   991  7597    55   130   774    10    14     0]\n",
      " [  689 15887   408  1828    42     9     2     0     3     3]\n",
      " [  495   275  8044   682   924   264   252   187     9     0]\n",
      " [ 1768   197   667  2934   269    31    91   100     5     0]\n",
      " [  209   180  2036   229  1022    50   198   157     8     0]\n",
      " [  332    18   900   684   127  1400    20    14     1     0]\n",
      " [   55    86   264    29   123     1    69    50     0     0]\n",
      " [   47    82   228    42    99     5    36    44     0     0]\n",
      " [   47     9   117    89    12    75     0     0    29     0]\n",
      " [    3     1    25     6     2     0     0     0     0     7]]\n"
     ]
    }
   ],
   "source": [
    "con_mat = confusion_matrix(y_test, y_pred)#bin_test_cats, y_pred)\n",
    "print(con_mat)"
   ]
  },
  {
   "cell_type": "code",
   "execution_count": 87,
   "id": "medieval-botswana",
   "metadata": {},
   "outputs": [
    {
     "name": "stdout",
     "output_type": "stream",
     "text": [
      "              precision    recall  f1-score   support\n",
      "\n",
      "           0       0.88      0.73      0.80     37000\n",
      "           1       0.93      0.84      0.88     18871\n",
      "           2       0.59      0.72      0.65     11132\n",
      "           3       0.21      0.48      0.29      6062\n",
      "           4       0.38      0.25      0.30      4089\n",
      "           5       0.71      0.40      0.51      3496\n",
      "           6       0.05      0.10      0.07       677\n",
      "           7       0.08      0.08      0.08       583\n",
      "           8       0.42      0.08      0.13       378\n",
      "           9       0.70      0.16      0.26        44\n",
      "\n",
      "    accuracy                           0.69     82332\n",
      "   macro avg       0.49      0.38      0.40     82332\n",
      "weighted avg       0.76      0.69      0.71     82332\n",
      "\n"
     ]
    }
   ],
   "source": [
    "class_rep = classification_report(y_test, y_pred)#bin_test_cats, y_pred)\n",
    "print(class_rep)"
   ]
  },
  {
   "cell_type": "markdown",
   "id": "ready-charm",
   "metadata": {},
   "source": [
    "I may need to rethink the Binarized Labels for this... Confusion Matrix and Classification Report probably need a simple integer mapping instead...."
   ]
  },
  {
   "cell_type": "code",
   "execution_count": 85,
   "id": "buried-truth",
   "metadata": {
    "scrolled": true
   },
   "outputs": [
    {
     "name": "stdout",
     "output_type": "stream",
     "text": [
      "0.6862094932711461\n"
     ]
    }
   ],
   "source": [
    "accuracy = accuracy_score(y_test, y_pred)#bin_test_cats, y_pred)\n",
    "print(accuracy)"
   ]
  },
  {
   "cell_type": "markdown",
   "id": "civic-czech",
   "metadata": {},
   "source": [
    "68.62% with 5 neighbors, not great results"
   ]
  },
  {
   "cell_type": "code",
   "execution_count": 88,
   "id": "parental-biotechnology",
   "metadata": {},
   "outputs": [],
   "source": [
    "knn_model2 = KNeighborsClassifier(n_neighbors=7, n_jobs=-1)\n",
    "knn_model2.fit(train_std_ig, y_train)#binarized_cats)\n",
    "y_pred2 = knn_model2.predict(test_std_ig)"
   ]
  },
  {
   "cell_type": "code",
   "execution_count": 90,
   "id": "aggregate-pregnancy",
   "metadata": {},
   "outputs": [
    {
     "name": "stdout",
     "output_type": "stream",
     "text": [
      "[[27017   395   830  7659    52   165   857     9    16     0]\n",
      " [  628 16189   413  1580    42    11     1     0     3     4]\n",
      " [  379   217  8389   678   768   326   242   119    13     1]\n",
      " [ 1683   197   722  3007   240    42    87    80     4     0]\n",
      " [  175   131  2378   242   830    74   167    86     6     0]\n",
      " [  136    16   748   781   103  1688    16     7     1     0]\n",
      " [   42    81   297    27   118     2    70    40     0     0]\n",
      " [   32    81   254    41    94     7    36    38     0     0]\n",
      " [   42    13   101    94     6    86     0     0    36     0]\n",
      " [    2     1    25     7     2     0     0     0     0     7]]\n",
      "              precision    recall  f1-score   support\n",
      "\n",
      "           0       0.90      0.73      0.80     37000\n",
      "           1       0.93      0.86      0.89     18871\n",
      "           2       0.59      0.75      0.66     11132\n",
      "           3       0.21      0.50      0.30      6062\n",
      "           4       0.37      0.20      0.26      4089\n",
      "           5       0.70      0.48      0.57      3496\n",
      "           6       0.05      0.10      0.07       677\n",
      "           7       0.10      0.07      0.08       583\n",
      "           8       0.46      0.10      0.16       378\n",
      "           9       0.58      0.16      0.25        44\n",
      "\n",
      "    accuracy                           0.70     82332\n",
      "   macro avg       0.49      0.39      0.40     82332\n",
      "weighted avg       0.76      0.70      0.72     82332\n",
      "\n",
      "0.6956104552300442\n"
     ]
    }
   ],
   "source": [
    "con_mat = confusion_matrix(y_test, y_pred2)#bin_test_cats, y_pred)\n",
    "print(con_mat)\n",
    "class_rep = classification_report(y_test, y_pred2)#bin_test_cats, y_pred)\n",
    "print(class_rep)\n",
    "acc2 = accuracy_score(y_test, y_pred2)#bin_test_cats, y_pred)\n",
    "print(acc2)"
   ]
  },
  {
   "cell_type": "markdown",
   "id": "fallen-essex",
   "metadata": {},
   "source": [
    "69.56% with 7 neighbors, very slighly better...maybe fewer will work better? or maybe we need significantly more?"
   ]
  },
  {
   "cell_type": "code",
   "execution_count": 91,
   "id": "sufficient-worship",
   "metadata": {},
   "outputs": [],
   "source": [
    "knn_model3 = KNeighborsClassifier(n_neighbors=3, n_jobs=-1)\n",
    "knn_model3.fit(train_std_ig, y_train)#binarized_cats)\n",
    "y_pred3 = knn_model3.predict(test_std_ig)"
   ]
  },
  {
   "cell_type": "code",
   "execution_count": 92,
   "id": "collaborative-belle",
   "metadata": {},
   "outputs": [
    {
     "name": "stdout",
     "output_type": "stream",
     "text": [
      "[[27078   370   964  7476    61   134   882    23    11     1]\n",
      " [  737 15970   323  1760    56    12     2     7     2     2]\n",
      " [  533   296  7303   931   743   573   305   425    20     3]\n",
      " [ 1812   204   579  3002   159    45   156    98     6     1]\n",
      " [  210   160  1690   406   792   162   200   457    12     0]\n",
      " [  259    19   544   879   269  1445    14    55     2    10]\n",
      " [   49    87   203    79    79     9   111    60     0     0]\n",
      " [   54    87   185    91    63     6    71    25     1     0]\n",
      " [   59    13    80    82    22    89     0     0    31     2]\n",
      " [    3     1    19     5     6     3     0     0     0     7]]\n",
      "              precision    recall  f1-score   support\n",
      "\n",
      "           0       0.88      0.73      0.80     37000\n",
      "           1       0.93      0.85      0.89     18871\n",
      "           2       0.61      0.66      0.63     11132\n",
      "           3       0.20      0.50      0.29      6062\n",
      "           4       0.35      0.19      0.25      4089\n",
      "           5       0.58      0.41      0.48      3496\n",
      "           6       0.06      0.16      0.09       677\n",
      "           7       0.02      0.04      0.03       583\n",
      "           8       0.36      0.08      0.13       378\n",
      "           9       0.27      0.16      0.20        44\n",
      "\n",
      "    accuracy                           0.68     82332\n",
      "   macro avg       0.43      0.38      0.38     82332\n",
      "weighted avg       0.75      0.68      0.70     82332\n",
      "\n",
      "0.6773065150852645\n"
     ]
    }
   ],
   "source": [
    "con_mat = confusion_matrix(y_test, y_pred3)#bin_test_cats, y_pred)\n",
    "print(con_mat)\n",
    "class_rep = classification_report(y_test, y_pred3)#bin_test_cats, y_pred)\n",
    "print(class_rep)\n",
    "acc3 = accuracy_score(y_test, y_pred3)#bin_test_cats, y_pred)\n",
    "print(acc3)"
   ]
  },
  {
   "cell_type": "markdown",
   "id": "scientific-location",
   "metadata": {},
   "source": [
    "67.73% with 3 neighbors, this model probably just isn't well suited to this data set  \n",
    "Let's try one more, there are 10 classes to predict, let's try 11 neighbors"
   ]
  },
  {
   "cell_type": "code",
   "execution_count": 93,
   "id": "indonesian-symbol",
   "metadata": {},
   "outputs": [],
   "source": [
    "knn_model4 = KNeighborsClassifier(n_neighbors=11, n_jobs=-1)\n",
    "knn_model4.fit(train_std_ig, y_train)#binarized_cats)\n",
    "y_pred4 = knn_model4.predict(test_std_ig)"
   ]
  },
  {
   "cell_type": "code",
   "execution_count": 94,
   "id": "underlying-stylus",
   "metadata": {},
   "outputs": [
    {
     "name": "stdout",
     "output_type": "stream",
     "text": [
      "[[26929   371   842  7785    55   165   829     6    18     0]\n",
      " [  630 16136   442  1593    48    10     3     2     3     4]\n",
      " [  355   173  8420   724   872   280   186   107    14     1]\n",
      " [ 1596   178   721  3110   273    21   102    58     3     0]\n",
      " [  155   118  2326   251   985    58   102    89     5     0]\n",
      " [  127    10   710   775   135  1723     7     9     0     0]\n",
      " [   56    75   294    20   130     1    72    29     0     0]\n",
      " [   36    75   272    30    92     4    48    26     0     0]\n",
      " [   34    10    96    94    14    89     0     0    41     0]\n",
      " [    3     1    22     8     0     4     0     0     0     6]]\n",
      "              precision    recall  f1-score   support\n",
      "\n",
      "           0       0.90      0.73      0.80     37000\n",
      "           1       0.94      0.86      0.90     18871\n",
      "           2       0.60      0.76      0.67     11132\n",
      "           3       0.22      0.51      0.30      6062\n",
      "           4       0.38      0.24      0.29      4089\n",
      "           5       0.73      0.49      0.59      3496\n",
      "           6       0.05      0.11      0.07       677\n",
      "           7       0.08      0.04      0.06       583\n",
      "           8       0.49      0.11      0.18       378\n",
      "           9       0.55      0.14      0.22        44\n",
      "\n",
      "    accuracy                           0.70     82332\n",
      "   macro avg       0.49      0.40      0.41     82332\n",
      "weighted avg       0.77      0.70      0.72     82332\n",
      "\n",
      "0.6977602876159937\n"
     ]
    }
   ],
   "source": [
    "con_mat = confusion_matrix(y_test, y_pred4)#bin_test_cats, y_pred)\n",
    "print(con_mat)\n",
    "class_rep = classification_report(y_test, y_pred4)#bin_test_cats, y_pred)\n",
    "print(class_rep)\n",
    "acc4 = accuracy_score(y_test, y_pred4)#bin_test_cats, y_pred)\n",
    "print(acc4)"
   ]
  },
  {
   "cell_type": "markdown",
   "id": "optimum-photographer",
   "metadata": {},
   "source": [
    "69.77%, again not much improvement\n",
    "We either need different features, or more likely a more powerful model"
   ]
  },
  {
   "cell_type": "markdown",
   "id": "aerial-argument",
   "metadata": {},
   "source": [
    "Checking the results shows where the misclassificatons are happening most often:  \n",
    "- Normal, ok  \n",
    "- Generic, ok  \n",
    "- Exploits, ok, highest misclass=DoS  \n",
    "- Fuzzers, highest misclass=Normal  \n",
    "- DoS, not ok, highest misclass=Exploits  \n",
    "- Reconnaissance, not great, highest misclass=Exploits  \n",
    "- Analysis, poor, highest misclass=Exploits, DoS  \n",
    "- Backdoor, poor, highest miclass=Exploits  \n",
    "- Shellcode, poor, highest misclass=Exploits, Fuzzers  \n",
    "- Worms, poor, highest misclass=Exploits  \n",
    "\n",
    "This is probably due to the relatively small number of some attack categories.  Those classes are often misclassified as *Exploits*."
   ]
  },
  {
   "cell_type": "markdown",
   "id": "empty-wayne",
   "metadata": {},
   "source": [
    "Let's try it with GridSeachCV"
   ]
  },
  {
   "cell_type": "code",
   "execution_count": 16,
   "id": "conceptual-pottery",
   "metadata": {},
   "outputs": [],
   "source": [
    "from sklearn.model_selection import GridSearchCV"
   ]
  },
  {
   "cell_type": "markdown",
   "id": "first-basket",
   "metadata": {},
   "source": [
    "https://medium.com/@erikgreenj/k-neighbors-classifier-with-gridsearchcv-basics-3c445ddeb657  \n",
    "https://www.ritchieng.com/machine-learning-efficiently-search-tuning-param/"
   ]
  },
  {
   "cell_type": "code",
   "execution_count": 28,
   "id": "extraordinary-lawyer",
   "metadata": {},
   "outputs": [],
   "source": [
    "# since I've already run several tests using minkowski distance I'll leave those out, even though they weren't CV'd\n",
    "params = {'n_neighbors':[5, 11, 19], 'weights':['uniform', 'distance'], 'metric':['euclidean', 'manhattan']}\n",
    "knn_gs = GridSearchCV(KNeighborsClassifier(), params, cv=3, scoring='accuracy', verbose=2, n_jobs=-1)"
   ]
  },
  {
   "cell_type": "code",
   "execution_count": 29,
   "id": "occupied-campus",
   "metadata": {},
   "outputs": [
    {
     "name": "stdout",
     "output_type": "stream",
     "text": [
      "Fitting 3 folds for each of 12 candidates, totalling 36 fits\n"
     ]
    }
   ],
   "source": [
    "knn_gs_results = knn_gs.fit(train_std_ig, y_train)"
   ]
  },
  {
   "cell_type": "code",
   "execution_count": 31,
   "id": "banned-facing",
   "metadata": {},
   "outputs": [
    {
     "name": "stdout",
     "output_type": "stream",
     "text": [
      "0.7513416713717841\n",
      "KNeighborsClassifier(metric='manhattan', n_neighbors=11)\n",
      "{'metric': 'manhattan', 'n_neighbors': 11, 'weights': 'uniform'}\n"
     ]
    }
   ],
   "source": [
    "print(knn_gs_results.best_score_)\n",
    "print(knn_gs_results.best_estimator_)\n",
    "print(knn_gs_results.best_params_)"
   ]
  },
  {
   "cell_type": "markdown",
   "id": "clinical-fluid",
   "metadata": {},
   "source": [
    "75% accuracy looks decent, considering this isn't a very powerful model."
   ]
  },
  {
   "cell_type": "code",
   "execution_count": 42,
   "id": "final-niagara",
   "metadata": {},
   "outputs": [
    {
     "data": {
      "text/plain": [
       "0.06899809837341309"
      ]
     },
     "execution_count": 42,
     "metadata": {},
     "output_type": "execute_result"
    }
   ],
   "source": [
    "knn_gs_results.refit_time_"
   ]
  },
  {
   "cell_type": "markdown",
   "id": "capital-fourth",
   "metadata": {},
   "source": [
    "Let's see all of the results"
   ]
  },
  {
   "cell_type": "code",
   "execution_count": 37,
   "id": "lesser-soundtrack",
   "metadata": {
    "scrolled": false
   },
   "outputs": [
    {
     "data": {
      "text/html": [
       "<div>\n",
       "<style scoped>\n",
       "    .dataframe tbody tr th:only-of-type {\n",
       "        vertical-align: middle;\n",
       "    }\n",
       "\n",
       "    .dataframe tbody tr th {\n",
       "        vertical-align: top;\n",
       "    }\n",
       "\n",
       "    .dataframe thead th {\n",
       "        text-align: right;\n",
       "    }\n",
       "</style>\n",
       "<table border=\"1\" class=\"dataframe\">\n",
       "  <thead>\n",
       "    <tr style=\"text-align: right;\">\n",
       "      <th></th>\n",
       "      <th>mean_fit_time</th>\n",
       "      <th>std_fit_time</th>\n",
       "      <th>mean_score_time</th>\n",
       "      <th>std_score_time</th>\n",
       "      <th>param_metric</th>\n",
       "      <th>param_n_neighbors</th>\n",
       "      <th>param_weights</th>\n",
       "      <th>params</th>\n",
       "      <th>split0_test_score</th>\n",
       "      <th>split1_test_score</th>\n",
       "      <th>split2_test_score</th>\n",
       "      <th>mean_test_score</th>\n",
       "      <th>std_test_score</th>\n",
       "      <th>rank_test_score</th>\n",
       "    </tr>\n",
       "  </thead>\n",
       "  <tbody>\n",
       "    <tr>\n",
       "      <th>0</th>\n",
       "      <td>0.093810</td>\n",
       "      <td>0.000000</td>\n",
       "      <td>553.094102</td>\n",
       "      <td>8.798253</td>\n",
       "      <td>euclidean</td>\n",
       "      <td>5</td>\n",
       "      <td>uniform</td>\n",
       "      <td>{'metric': 'euclidean', 'n_neighbors': 5, 'wei...</td>\n",
       "      <td>0.797098</td>\n",
       "      <td>0.806748</td>\n",
       "      <td>0.625764</td>\n",
       "      <td>0.743203</td>\n",
       "      <td>0.083136</td>\n",
       "      <td>12</td>\n",
       "    </tr>\n",
       "    <tr>\n",
       "      <th>1</th>\n",
       "      <td>0.098164</td>\n",
       "      <td>0.003078</td>\n",
       "      <td>548.080443</td>\n",
       "      <td>2.152474</td>\n",
       "      <td>euclidean</td>\n",
       "      <td>5</td>\n",
       "      <td>distance</td>\n",
       "      <td>{'metric': 'euclidean', 'n_neighbors': 5, 'wei...</td>\n",
       "      <td>0.799100</td>\n",
       "      <td>0.810307</td>\n",
       "      <td>0.621520</td>\n",
       "      <td>0.743642</td>\n",
       "      <td>0.086474</td>\n",
       "      <td>11</td>\n",
       "    </tr>\n",
       "    <tr>\n",
       "      <th>2</th>\n",
       "      <td>0.163780</td>\n",
       "      <td>0.009183</td>\n",
       "      <td>543.430753</td>\n",
       "      <td>3.931821</td>\n",
       "      <td>euclidean</td>\n",
       "      <td>11</td>\n",
       "      <td>uniform</td>\n",
       "      <td>{'metric': 'euclidean', 'n_neighbors': 11, 'we...</td>\n",
       "      <td>0.800811</td>\n",
       "      <td>0.808596</td>\n",
       "      <td>0.633976</td>\n",
       "      <td>0.747794</td>\n",
       "      <td>0.080544</td>\n",
       "      <td>7</td>\n",
       "    </tr>\n",
       "    <tr>\n",
       "      <th>3</th>\n",
       "      <td>0.132989</td>\n",
       "      <td>0.014661</td>\n",
       "      <td>545.358709</td>\n",
       "      <td>7.847026</td>\n",
       "      <td>euclidean</td>\n",
       "      <td>11</td>\n",
       "      <td>distance</td>\n",
       "      <td>{'metric': 'euclidean', 'n_neighbors': 11, 'we...</td>\n",
       "      <td>0.803292</td>\n",
       "      <td>0.812326</td>\n",
       "      <td>0.626516</td>\n",
       "      <td>0.747378</td>\n",
       "      <td>0.085542</td>\n",
       "      <td>8</td>\n",
       "    </tr>\n",
       "    <tr>\n",
       "      <th>4</th>\n",
       "      <td>0.131787</td>\n",
       "      <td>0.007439</td>\n",
       "      <td>568.469995</td>\n",
       "      <td>14.267871</td>\n",
       "      <td>euclidean</td>\n",
       "      <td>19</td>\n",
       "      <td>uniform</td>\n",
       "      <td>{'metric': 'euclidean', 'n_neighbors': 19, 'we...</td>\n",
       "      <td>0.798775</td>\n",
       "      <td>0.808271</td>\n",
       "      <td>0.629664</td>\n",
       "      <td>0.745570</td>\n",
       "      <td>0.082049</td>\n",
       "      <td>10</td>\n",
       "    </tr>\n",
       "    <tr>\n",
       "      <th>5</th>\n",
       "      <td>0.136094</td>\n",
       "      <td>0.012091</td>\n",
       "      <td>563.023459</td>\n",
       "      <td>14.878991</td>\n",
       "      <td>euclidean</td>\n",
       "      <td>19</td>\n",
       "      <td>distance</td>\n",
       "      <td>{'metric': 'euclidean', 'n_neighbors': 19, 'we...</td>\n",
       "      <td>0.801666</td>\n",
       "      <td>0.811693</td>\n",
       "      <td>0.624822</td>\n",
       "      <td>0.746061</td>\n",
       "      <td>0.085826</td>\n",
       "      <td>9</td>\n",
       "    </tr>\n",
       "    <tr>\n",
       "      <th>6</th>\n",
       "      <td>0.130454</td>\n",
       "      <td>0.011011</td>\n",
       "      <td>731.575947</td>\n",
       "      <td>2.443129</td>\n",
       "      <td>manhattan</td>\n",
       "      <td>5</td>\n",
       "      <td>uniform</td>\n",
       "      <td>{'metric': 'manhattan', 'n_neighbors': 5, 'wei...</td>\n",
       "      <td>0.801495</td>\n",
       "      <td>0.807963</td>\n",
       "      <td>0.635636</td>\n",
       "      <td>0.748365</td>\n",
       "      <td>0.079755</td>\n",
       "      <td>5</td>\n",
       "    </tr>\n",
       "    <tr>\n",
       "      <th>7</th>\n",
       "      <td>0.116475</td>\n",
       "      <td>0.010368</td>\n",
       "      <td>724.358208</td>\n",
       "      <td>1.174405</td>\n",
       "      <td>manhattan</td>\n",
       "      <td>5</td>\n",
       "      <td>distance</td>\n",
       "      <td>{'metric': 'manhattan', 'n_neighbors': 5, 'wei...</td>\n",
       "      <td>0.803360</td>\n",
       "      <td>0.809879</td>\n",
       "      <td>0.630332</td>\n",
       "      <td>0.747857</td>\n",
       "      <td>0.083146</td>\n",
       "      <td>6</td>\n",
       "    </tr>\n",
       "    <tr>\n",
       "      <th>8</th>\n",
       "      <td>0.100615</td>\n",
       "      <td>0.000966</td>\n",
       "      <td>722.717544</td>\n",
       "      <td>3.753106</td>\n",
       "      <td>manhattan</td>\n",
       "      <td>11</td>\n",
       "      <td>uniform</td>\n",
       "      <td>{'metric': 'manhattan', 'n_neighbors': 11, 'we...</td>\n",
       "      <td>0.804164</td>\n",
       "      <td>0.811658</td>\n",
       "      <td>0.638202</td>\n",
       "      <td>0.751342</td>\n",
       "      <td>0.080060</td>\n",
       "      <td>1</td>\n",
       "    </tr>\n",
       "    <tr>\n",
       "      <th>9</th>\n",
       "      <td>0.108833</td>\n",
       "      <td>0.009576</td>\n",
       "      <td>723.466347</td>\n",
       "      <td>4.693253</td>\n",
       "      <td>manhattan</td>\n",
       "      <td>11</td>\n",
       "      <td>distance</td>\n",
       "      <td>{'metric': 'manhattan', 'n_neighbors': 11, 'we...</td>\n",
       "      <td>0.806851</td>\n",
       "      <td>0.814413</td>\n",
       "      <td>0.631033</td>\n",
       "      <td>0.750766</td>\n",
       "      <td>0.084720</td>\n",
       "      <td>3</td>\n",
       "    </tr>\n",
       "    <tr>\n",
       "      <th>10</th>\n",
       "      <td>0.108065</td>\n",
       "      <td>0.004552</td>\n",
       "      <td>722.539104</td>\n",
       "      <td>3.791311</td>\n",
       "      <td>manhattan</td>\n",
       "      <td>19</td>\n",
       "      <td>uniform</td>\n",
       "      <td>{'metric': 'manhattan', 'n_neighbors': 19, 'we...</td>\n",
       "      <td>0.802830</td>\n",
       "      <td>0.811231</td>\n",
       "      <td>0.636782</td>\n",
       "      <td>0.750281</td>\n",
       "      <td>0.080329</td>\n",
       "      <td>4</td>\n",
       "    </tr>\n",
       "    <tr>\n",
       "      <th>11</th>\n",
       "      <td>0.105631</td>\n",
       "      <td>0.004616</td>\n",
       "      <td>715.431566</td>\n",
       "      <td>4.876174</td>\n",
       "      <td>manhattan</td>\n",
       "      <td>19</td>\n",
       "      <td>distance</td>\n",
       "      <td>{'metric': 'manhattan', 'n_neighbors': 19, 'we...</td>\n",
       "      <td>0.806834</td>\n",
       "      <td>0.815046</td>\n",
       "      <td>0.631136</td>\n",
       "      <td>0.751005</td>\n",
       "      <td>0.084827</td>\n",
       "      <td>2</td>\n",
       "    </tr>\n",
       "  </tbody>\n",
       "</table>\n",
       "</div>"
      ],
      "text/plain": [
       "    mean_fit_time  std_fit_time  mean_score_time  std_score_time param_metric  \\\n",
       "0        0.093810      0.000000       553.094102        8.798253    euclidean   \n",
       "1        0.098164      0.003078       548.080443        2.152474    euclidean   \n",
       "2        0.163780      0.009183       543.430753        3.931821    euclidean   \n",
       "3        0.132989      0.014661       545.358709        7.847026    euclidean   \n",
       "4        0.131787      0.007439       568.469995       14.267871    euclidean   \n",
       "5        0.136094      0.012091       563.023459       14.878991    euclidean   \n",
       "6        0.130454      0.011011       731.575947        2.443129    manhattan   \n",
       "7        0.116475      0.010368       724.358208        1.174405    manhattan   \n",
       "8        0.100615      0.000966       722.717544        3.753106    manhattan   \n",
       "9        0.108833      0.009576       723.466347        4.693253    manhattan   \n",
       "10       0.108065      0.004552       722.539104        3.791311    manhattan   \n",
       "11       0.105631      0.004616       715.431566        4.876174    manhattan   \n",
       "\n",
       "   param_n_neighbors param_weights  \\\n",
       "0                  5       uniform   \n",
       "1                  5      distance   \n",
       "2                 11       uniform   \n",
       "3                 11      distance   \n",
       "4                 19       uniform   \n",
       "5                 19      distance   \n",
       "6                  5       uniform   \n",
       "7                  5      distance   \n",
       "8                 11       uniform   \n",
       "9                 11      distance   \n",
       "10                19       uniform   \n",
       "11                19      distance   \n",
       "\n",
       "                                               params  split0_test_score  \\\n",
       "0   {'metric': 'euclidean', 'n_neighbors': 5, 'wei...           0.797098   \n",
       "1   {'metric': 'euclidean', 'n_neighbors': 5, 'wei...           0.799100   \n",
       "2   {'metric': 'euclidean', 'n_neighbors': 11, 'we...           0.800811   \n",
       "3   {'metric': 'euclidean', 'n_neighbors': 11, 'we...           0.803292   \n",
       "4   {'metric': 'euclidean', 'n_neighbors': 19, 'we...           0.798775   \n",
       "5   {'metric': 'euclidean', 'n_neighbors': 19, 'we...           0.801666   \n",
       "6   {'metric': 'manhattan', 'n_neighbors': 5, 'wei...           0.801495   \n",
       "7   {'metric': 'manhattan', 'n_neighbors': 5, 'wei...           0.803360   \n",
       "8   {'metric': 'manhattan', 'n_neighbors': 11, 'we...           0.804164   \n",
       "9   {'metric': 'manhattan', 'n_neighbors': 11, 'we...           0.806851   \n",
       "10  {'metric': 'manhattan', 'n_neighbors': 19, 'we...           0.802830   \n",
       "11  {'metric': 'manhattan', 'n_neighbors': 19, 'we...           0.806834   \n",
       "\n",
       "    split1_test_score  split2_test_score  mean_test_score  std_test_score  \\\n",
       "0            0.806748           0.625764         0.743203        0.083136   \n",
       "1            0.810307           0.621520         0.743642        0.086474   \n",
       "2            0.808596           0.633976         0.747794        0.080544   \n",
       "3            0.812326           0.626516         0.747378        0.085542   \n",
       "4            0.808271           0.629664         0.745570        0.082049   \n",
       "5            0.811693           0.624822         0.746061        0.085826   \n",
       "6            0.807963           0.635636         0.748365        0.079755   \n",
       "7            0.809879           0.630332         0.747857        0.083146   \n",
       "8            0.811658           0.638202         0.751342        0.080060   \n",
       "9            0.814413           0.631033         0.750766        0.084720   \n",
       "10           0.811231           0.636782         0.750281        0.080329   \n",
       "11           0.815046           0.631136         0.751005        0.084827   \n",
       "\n",
       "    rank_test_score  \n",
       "0                12  \n",
       "1                11  \n",
       "2                 7  \n",
       "3                 8  \n",
       "4                10  \n",
       "5                 9  \n",
       "6                 5  \n",
       "7                 6  \n",
       "8                 1  \n",
       "9                 3  \n",
       "10                4  \n",
       "11                2  "
      ]
     },
     "execution_count": 37,
     "metadata": {},
     "output_type": "execute_result"
    }
   ],
   "source": [
    "results = knn_gs_results.cv_results_\n",
    "results_df = pd.DataFrame(results)\n",
    "results_df"
   ]
  },
  {
   "cell_type": "code",
   "execution_count": 43,
   "id": "married-greek",
   "metadata": {},
   "outputs": [
    {
     "data": {
      "text/plain": [
       "sklearn.model_selection._search.GridSearchCV"
      ]
     },
     "execution_count": 43,
     "metadata": {},
     "output_type": "execute_result"
    }
   ],
   "source": [
    "type(knn_gs_results)"
   ]
  },
  {
   "cell_type": "markdown",
   "id": "accessory-dakota",
   "metadata": {},
   "source": [
    "Let's save this for later."
   ]
  },
  {
   "cell_type": "code",
   "execution_count": 45,
   "id": "disturbed-antibody",
   "metadata": {},
   "outputs": [
    {
     "data": {
      "text/plain": [
       "['./data/knn_gs_results.pkl']"
      ]
     },
     "execution_count": 45,
     "metadata": {},
     "output_type": "execute_result"
    }
   ],
   "source": [
    "import joblib\n",
    "\n",
    "joblib.dump(knn_gs, './data/knn_grid_search.pkl') # load with knn_gs = joblib.load('./data/knn_grid_search.pkl')\n",
    "joblib.dump(knn_gs_results, './data/knn_gs_results.pkl')"
   ]
  },
  {
   "cell_type": "code",
   "execution_count": 46,
   "id": "frequent-twins",
   "metadata": {},
   "outputs": [],
   "source": [
    "knn_model_best = KNeighborsClassifier(n_neighbors=11, weights='uniform', metric='manhattan', n_jobs=-1)\n",
    "knn_model_best.fit(train_std_ig, y_train)\n",
    "y_pred_best = knn_model_best.predict(test_std_ig)"
   ]
  },
  {
   "cell_type": "code",
   "execution_count": 60,
   "id": "interior-reporter",
   "metadata": {},
   "outputs": [
    {
     "data": {
      "text/plain": [
       "['./data/knn_model_best_ig.pkl']"
      ]
     },
     "execution_count": 60,
     "metadata": {},
     "output_type": "execute_result"
    }
   ],
   "source": [
    "joblib.dump(knn_model_best, './data/knn_model_best_ig.pkl')"
   ]
  },
  {
   "cell_type": "code",
   "execution_count": 49,
   "id": "exempt-louisiana",
   "metadata": {},
   "outputs": [
    {
     "name": "stdout",
     "output_type": "stream",
     "text": [
      "[[26955   328   917  7745    53   186   796     4    16     0]\n",
      " [  266 16959   428  1162    37     9     2     2     4     2]\n",
      " [  301   189  8685   524   923   311   147    37    14     1]\n",
      " [ 1505   196   823  3160   303    22    37    14     2     0]\n",
      " [  103   118  2481   179  1002    68   108    25     5     0]\n",
      " [   75    10   672   833   117  1771    11     6     1     0]\n",
      " [   27    83   366     3   148     1    43     6     0     0]\n",
      " [   14    83   332    15   112     6    13     8     0     0]\n",
      " [   30    12   102    91    11    86     0     0    46     0]\n",
      " [    3     0    27     8     0     0     0     0     0     6]]\n",
      "              precision    recall  f1-score   support\n",
      "\n",
      "           0       0.92      0.73      0.81     37000\n",
      "           1       0.94      0.90      0.92     18871\n",
      "           2       0.59      0.78      0.67     11132\n",
      "           3       0.23      0.52      0.32      6062\n",
      "           4       0.37      0.25      0.29      4089\n",
      "           5       0.72      0.51      0.59      3496\n",
      "           6       0.04      0.06      0.05       677\n",
      "           7       0.08      0.01      0.02       583\n",
      "           8       0.52      0.12      0.20       378\n",
      "           9       0.67      0.14      0.23        44\n",
      "\n",
      "    accuracy                           0.71     82332\n",
      "   macro avg       0.51      0.40      0.41     82332\n",
      "weighted avg       0.78      0.71      0.73     82332\n",
      "\n",
      "0.7121775251421075\n"
     ]
    }
   ],
   "source": [
    "con_mat_best = confusion_matrix(y_test, y_pred_best)\n",
    "print(con_mat_best)\n",
    "class_rep_best = classification_report(y_test, y_pred_best)\n",
    "print(class_rep_best)\n",
    "acc_best = accuracy_score(y_test, y_pred_best)\n",
    "print(acc_best)"
   ]
  },
  {
   "cell_type": "markdown",
   "id": "arabic-helen",
   "metadata": {},
   "source": [
    "Our best model achieved 71% on the Test Set.  Not too bad."
   ]
  },
  {
   "cell_type": "markdown",
   "id": "nutritional-earthquake",
   "metadata": {},
   "source": [
    "#### We should try the other feature sets."
   ]
  },
  {
   "cell_type": "code",
   "execution_count": 50,
   "id": "embedded-joining",
   "metadata": {},
   "outputs": [],
   "source": [
    "# 'Info Gain', 'ANOVA F-val', 'Var Thresh', 'MAD', 'Corr'\n",
    "anova_cols = subsets['ANOVA F-val'] # pandas Series\n",
    "select_cols = training_data_std[anova_cols]\n",
    "train_std_anova = select_cols.copy()\n",
    "# test set\n",
    "sel_test_cols = testing_data_std[anova_cols]\n",
    "test_std_anova = sel_test_cols.copy()\n",
    "\n",
    "varthrsh_cols = subsets['Var Thresh'] # pandas Series\n",
    "select_cols = training_data_std[varthrsh_cols]\n",
    "train_std_vt = select_cols.copy()\n",
    "# test set\n",
    "sel_test_cols = testing_data_std[varthrsh_cols]\n",
    "test_std_vt = sel_test_cols.copy()\n",
    "\n",
    "mad_cols = subsets['MAD'] # pandas Series\n",
    "select_cols = training_data_std[mad_cols]\n",
    "train_std_mad = select_cols.copy()\n",
    "# test set\n",
    "sel_test_cols = testing_data_std[mad_cols]\n",
    "test_std_mad = sel_test_cols.copy()\n",
    "\n",
    "corr_cols = subsets['Corr'] # pandas Series\n",
    "select_cols = training_data_std[corr_cols]\n",
    "train_std_corr = select_cols.copy()\n",
    "# test set\n",
    "sel_test_cols = testing_data_std[corr_cols]\n",
    "test_std_corr = sel_test_cols.copy()"
   ]
  },
  {
   "cell_type": "code",
   "execution_count": 51,
   "id": "rural-brighton",
   "metadata": {},
   "outputs": [],
   "source": [
    "knn_model_best_anova = KNeighborsClassifier(n_neighbors=11, weights='uniform', metric='manhattan', n_jobs=-1)\n",
    "knn_model_best_anova.fit(train_std_anova, y_train)\n",
    "y_pred_best_anova = knn_model_best_anova.predict(test_std_anova)"
   ]
  },
  {
   "cell_type": "code",
   "execution_count": 61,
   "id": "legitimate-reunion",
   "metadata": {},
   "outputs": [
    {
     "data": {
      "text/plain": [
       "['./data/knn_model_best_anova.pkl']"
      ]
     },
     "execution_count": 61,
     "metadata": {},
     "output_type": "execute_result"
    }
   ],
   "source": [
    "joblib.dump(knn_model_best_anova, './data/knn_model_best_anova.pkl')"
   ]
  },
  {
   "cell_type": "code",
   "execution_count": 55,
   "id": "funky-specification",
   "metadata": {},
   "outputs": [
    {
     "name": "stdout",
     "output_type": "stream",
     "text": [
      "[[25143   201  3503  7178   339   376   250     9     1     0]\n",
      " [  294 14367  2407   599  1129    55    17     1     0     2]\n",
      " [  345   518  7798   713   621   584   191   361     1     0]\n",
      " [ 1402   435   819  3023   198    66    40    79     0     0]\n",
      " [  160   346  1943   294   606   155   192   392     1     0]\n",
      " [  192    74  1529   618   216   790    23    54     0     0]\n",
      " [   90   208   214    45    69     2    13    36     0     0]\n",
      " [   60   206   171    65    46    11     8    16     0     0]\n",
      " [   21    10   150    76    17   103     0     1     0     0]\n",
      " [    4     1    22     6     0    10     0     0     0     1]]\n",
      "              precision    recall  f1-score   support\n",
      "\n",
      "           0       0.91      0.68      0.78     37000\n",
      "           1       0.88      0.76      0.82     18871\n",
      "           2       0.42      0.70      0.53     11132\n",
      "           3       0.24      0.50      0.32      6062\n",
      "           4       0.19      0.15      0.17      4089\n",
      "           5       0.37      0.23      0.28      3496\n",
      "           6       0.02      0.02      0.02       677\n",
      "           7       0.02      0.03      0.02       583\n",
      "           8       0.00      0.00      0.00       378\n",
      "           9       0.33      0.02      0.04        44\n",
      "\n",
      "    accuracy                           0.63     82332\n",
      "   macro avg       0.34      0.31      0.30     82332\n",
      "weighted avg       0.71      0.63      0.65     82332\n",
      "\n",
      "0.6286377107321576\n"
     ]
    }
   ],
   "source": [
    "con_mat_best_anova = confusion_matrix(y_test, y_pred_best_anova)\n",
    "print(con_mat_best_anova)\n",
    "class_rep_best_anova = classification_report(y_test, y_pred_best_anova)\n",
    "print(class_rep_best_anova)\n",
    "acc_best_best_anova = accuracy_score(y_test, y_pred_best_anova)\n",
    "print(acc_best_best_anova)"
   ]
  },
  {
   "cell_type": "code",
   "execution_count": 52,
   "id": "recorded-sharp",
   "metadata": {},
   "outputs": [],
   "source": [
    "knn_model_best_vt = KNeighborsClassifier(n_neighbors=11, weights='uniform', metric='manhattan', n_jobs=-1)\n",
    "knn_model_best_vt.fit(train_std_vt, y_train)\n",
    "y_pred_best_vt = knn_model_best_vt.predict(test_std_vt)"
   ]
  },
  {
   "cell_type": "code",
   "execution_count": 63,
   "id": "thermal-chicago",
   "metadata": {},
   "outputs": [
    {
     "data": {
      "text/plain": [
       "['./data/knn_model_best_vt.pkl']"
      ]
     },
     "execution_count": 63,
     "metadata": {},
     "output_type": "execute_result"
    }
   ],
   "source": [
    "joblib.dump(knn_model_best_vt, './data/knn_model_best_vt.pkl')"
   ]
  },
  {
   "cell_type": "code",
   "execution_count": 56,
   "id": "faced-buying",
   "metadata": {},
   "outputs": [
    {
     "name": "stdout",
     "output_type": "stream",
     "text": [
      "[[23799   576  4290  7252    73   893    62     0    55     0]\n",
      " [   69 10635   407  2414    27  1468     2     0  3848     1]\n",
      " [  427    36  7634  2094   221   516     9     0   195     0]\n",
      " [  859   238  1215  3150    61   330     2     0   207     0]\n",
      " [  112    52  1836  1424   224   336     1     0   104     0]\n",
      " [  168    13   877   746   260  1161     2     0   269     0]\n",
      " [   12     0   156   323    21    72     3     0    90     0]\n",
      " [    4     0   115   279    32    63     0     0    90     0]\n",
      " [   32     7   118   145     9    32     0     0    35     0]\n",
      " [    7     0    21    13     0     2     0     0     0     1]]\n",
      "              precision    recall  f1-score   support\n",
      "\n",
      "           0       0.93      0.64      0.76     37000\n",
      "           1       0.92      0.56      0.70     18871\n",
      "           2       0.46      0.69      0.55     11132\n",
      "           3       0.18      0.52      0.26      6062\n",
      "           4       0.24      0.05      0.09      4089\n",
      "           5       0.24      0.33      0.28      3496\n",
      "           6       0.04      0.00      0.01       677\n",
      "           7       0.00      0.00      0.00       583\n",
      "           8       0.01      0.09      0.01       378\n",
      "           9       0.50      0.02      0.04        44\n",
      "\n",
      "    accuracy                           0.57     82332\n",
      "   macro avg       0.35      0.29      0.27     82332\n",
      "weighted avg       0.73      0.57      0.61     82332\n",
      "\n",
      "0.56651119856192\n"
     ]
    },
    {
     "name": "stderr",
     "output_type": "stream",
     "text": [
      "c:\\users\\phil\\appdata\\local\\programs\\python\\python38\\lib\\site-packages\\sklearn\\metrics\\_classification.py:1245: UndefinedMetricWarning: Precision and F-score are ill-defined and being set to 0.0 in labels with no predicted samples. Use `zero_division` parameter to control this behavior.\n",
      "  _warn_prf(average, modifier, msg_start, len(result))\n",
      "c:\\users\\phil\\appdata\\local\\programs\\python\\python38\\lib\\site-packages\\sklearn\\metrics\\_classification.py:1245: UndefinedMetricWarning: Precision and F-score are ill-defined and being set to 0.0 in labels with no predicted samples. Use `zero_division` parameter to control this behavior.\n",
      "  _warn_prf(average, modifier, msg_start, len(result))\n",
      "c:\\users\\phil\\appdata\\local\\programs\\python\\python38\\lib\\site-packages\\sklearn\\metrics\\_classification.py:1245: UndefinedMetricWarning: Precision and F-score are ill-defined and being set to 0.0 in labels with no predicted samples. Use `zero_division` parameter to control this behavior.\n",
      "  _warn_prf(average, modifier, msg_start, len(result))\n"
     ]
    }
   ],
   "source": [
    "con_mat_best_vt = confusion_matrix(y_test, y_pred_best_vt)\n",
    "print(con_mat_best_vt)\n",
    "class_rep_best_vt = classification_report(y_test, y_pred_best_vt)\n",
    "print(class_rep_best_vt)\n",
    "acc_best_best_vt = accuracy_score(y_test, y_pred_best_vt)\n",
    "print(acc_best_best_vt)"
   ]
  },
  {
   "cell_type": "code",
   "execution_count": 53,
   "id": "visible-arcade",
   "metadata": {},
   "outputs": [],
   "source": [
    "knn_model_best_mad = KNeighborsClassifier(n_neighbors=11, weights='uniform', metric='manhattan', n_jobs=-1)\n",
    "knn_model_best_mad.fit(train_std_mad, y_train)\n",
    "y_pred_best_mad = knn_model_best.predict(test_std_mad)"
   ]
  },
  {
   "cell_type": "code",
   "execution_count": 64,
   "id": "filled-bread",
   "metadata": {},
   "outputs": [
    {
     "data": {
      "text/plain": [
       "['./data/knn_model_best_mad.pkl']"
      ]
     },
     "execution_count": 64,
     "metadata": {},
     "output_type": "execute_result"
    }
   ],
   "source": [
    "joblib.dump(knn_model_best_mad, './data/knn_model_best_mad.pkl')"
   ]
  },
  {
   "cell_type": "code",
   "execution_count": 57,
   "id": "exact-syntax",
   "metadata": {},
   "outputs": [
    {
     "name": "stdout",
     "output_type": "stream",
     "text": [
      "[[19817  2869  5529  5871  2038    93   679   102     2     0]\n",
      " [ 7640  7271  1574  1487   893     1     5     0     0     0]\n",
      " [ 7879   160  2084   456   507     0    46     0     0     0]\n",
      " [ 2955   326  1169  1100   409     1    99     3     0     0]\n",
      " [ 2340   106   904   317   414     0     8     0     0     0]\n",
      " [ 3089     7   244    86    67     2     0     0     1     0]\n",
      " [  293    64   212    19    89     0     0     0     0     0]\n",
      " [  230    64   195    15    79     0     0     0     0     0]\n",
      " [  336     0    24    12     6     0     0     0     0     0]\n",
      " [   35     0     7     1     0     0     0     0     1     0]]\n",
      "              precision    recall  f1-score   support\n",
      "\n",
      "           0       0.44      0.54      0.49     37000\n",
      "           1       0.67      0.39      0.49     18871\n",
      "           2       0.17      0.19      0.18     11132\n",
      "           3       0.12      0.18      0.14      6062\n",
      "           4       0.09      0.10      0.10      4089\n",
      "           5       0.02      0.00      0.00      3496\n",
      "           6       0.00      0.00      0.00       677\n",
      "           7       0.00      0.00      0.00       583\n",
      "           8       0.00      0.00      0.00       378\n",
      "           9       0.00      0.00      0.00        44\n",
      "\n",
      "    accuracy                           0.37     82332\n",
      "   macro avg       0.15      0.14      0.14     82332\n",
      "weighted avg       0.39      0.37      0.37     82332\n",
      "\n",
      "0.3727347811300588\n"
     ]
    },
    {
     "name": "stderr",
     "output_type": "stream",
     "text": [
      "c:\\users\\phil\\appdata\\local\\programs\\python\\python38\\lib\\site-packages\\sklearn\\metrics\\_classification.py:1245: UndefinedMetricWarning: Precision and F-score are ill-defined and being set to 0.0 in labels with no predicted samples. Use `zero_division` parameter to control this behavior.\n",
      "  _warn_prf(average, modifier, msg_start, len(result))\n",
      "c:\\users\\phil\\appdata\\local\\programs\\python\\python38\\lib\\site-packages\\sklearn\\metrics\\_classification.py:1245: UndefinedMetricWarning: Precision and F-score are ill-defined and being set to 0.0 in labels with no predicted samples. Use `zero_division` parameter to control this behavior.\n",
      "  _warn_prf(average, modifier, msg_start, len(result))\n",
      "c:\\users\\phil\\appdata\\local\\programs\\python\\python38\\lib\\site-packages\\sklearn\\metrics\\_classification.py:1245: UndefinedMetricWarning: Precision and F-score are ill-defined and being set to 0.0 in labels with no predicted samples. Use `zero_division` parameter to control this behavior.\n",
      "  _warn_prf(average, modifier, msg_start, len(result))\n"
     ]
    }
   ],
   "source": [
    "con_mat_best_mad = confusion_matrix(y_test, y_pred_best_mad)\n",
    "print(con_mat_best_mad)\n",
    "class_rep_best_mad = classification_report(y_test, y_pred_best_mad)\n",
    "print(class_rep_best_mad)\n",
    "acc_best_best_mad = accuracy_score(y_test, y_pred_best_mad)\n",
    "print(acc_best_best_mad)"
   ]
  },
  {
   "cell_type": "code",
   "execution_count": 54,
   "id": "periodic-handle",
   "metadata": {},
   "outputs": [],
   "source": [
    "knn_model_best_corr = KNeighborsClassifier(n_neighbors=11, weights='uniform', metric='manhattan', n_jobs=-1)\n",
    "knn_model_best_corr.fit(train_std_corr, y_train)\n",
    "y_pred_best_corr = knn_model_best_corr.predict(test_std_corr)"
   ]
  },
  {
   "cell_type": "code",
   "execution_count": 65,
   "id": "confident-hunger",
   "metadata": {},
   "outputs": [
    {
     "data": {
      "text/plain": [
       "['./data/knn_model_best_corr.pkl']"
      ]
     },
     "execution_count": 65,
     "metadata": {},
     "output_type": "execute_result"
    }
   ],
   "source": [
    "joblib.dump(knn_model_best_corr, './data/knn_model_best_corr.pkl')"
   ]
  },
  {
   "cell_type": "code",
   "execution_count": 59,
   "id": "solved-photographer",
   "metadata": {},
   "outputs": [
    {
     "name": "stdout",
     "output_type": "stream",
     "text": [
      "[[27460   583  1269  6992    92   233   311     2    58     0]\n",
      " [   91 17981   385   363    41     8     0     0     1     1]\n",
      " [  671    38  8825   566   706   232    72     9    13     0]\n",
      " [ 1412   164  1251  2881   237    71    21     1    24     0]\n",
      " [  286    52  2649   194   806    36    48    10     8     0]\n",
      " [  522    14   794   614   233  1307     5     2     5     0]\n",
      " [   50    14   501     3    99     2     8     0     0     0]\n",
      " [   25    14   426    18    85     4     8     3     0     0]\n",
      " [   78     9    56   157     9    24     0     1    44     0]\n",
      " [    2     0    28    10     1     0     0     0     0     3]]\n",
      "              precision    recall  f1-score   support\n",
      "\n",
      "           0       0.90      0.74      0.81     37000\n",
      "           1       0.95      0.95      0.95     18871\n",
      "           2       0.55      0.79      0.65     11132\n",
      "           3       0.24      0.48      0.32      6062\n",
      "           4       0.35      0.20      0.25      4089\n",
      "           5       0.68      0.37      0.48      3496\n",
      "           6       0.02      0.01      0.01       677\n",
      "           7       0.11      0.01      0.01       583\n",
      "           8       0.29      0.12      0.17       378\n",
      "           9       0.75      0.07      0.12        44\n",
      "\n",
      "    accuracy                           0.72     82332\n",
      "   macro avg       0.48      0.37      0.38     82332\n",
      "weighted avg       0.76      0.72      0.73     82332\n",
      "\n",
      "0.7204732060438226\n"
     ]
    }
   ],
   "source": [
    "con_mat_best_corr = confusion_matrix(y_test, y_pred_best_corr)\n",
    "print(con_mat_best_corr)\n",
    "class_rep_best_corr = classification_report(y_test, y_pred_best_corr)\n",
    "print(class_rep_best_corr)\n",
    "acc_best_best_corr = accuracy_score(y_test, y_pred_best_corr)\n",
    "print(acc_best_best_corr)"
   ]
  },
  {
   "cell_type": "markdown",
   "id": "intermediate-ready",
   "metadata": {},
   "source": [
    "OK, from these feature set only the set of correlated features approaches the accuracy found with the Info Gain set.  \n",
    "71% accuracy on the Test Set using the top 20 Info Gain features.  \n",
    "72% accuracy on the Test Set using the top 20 Correlation features.  \n",
    "Should the hyperparameters be tuned for each feature subset, or is it OK to use the parameters found using the Info Gain set?"
   ]
  },
  {
   "cell_type": "code",
   "execution_count": null,
   "id": "technical-arkansas",
   "metadata": {},
   "outputs": [],
   "source": []
  }
 ],
 "metadata": {
  "kernelspec": {
   "display_name": "Python 3",
   "language": "python",
   "name": "python3"
  },
  "language_info": {
   "codemirror_mode": {
    "name": "ipython",
    "version": 3
   },
   "file_extension": ".py",
   "mimetype": "text/x-python",
   "name": "python",
   "nbconvert_exporter": "python",
   "pygments_lexer": "ipython3",
   "version": "3.8.5"
  }
 },
 "nbformat": 4,
 "nbformat_minor": 5
}
